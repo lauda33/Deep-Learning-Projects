{
 "cells": [
  {
   "cell_type": "markdown",
   "metadata": {
    "papermill": {
     "duration": 0.026677,
     "end_time": "2020-10-27T11:30:33.053141",
     "exception": false,
     "start_time": "2020-10-27T11:30:33.026464",
     "status": "completed"
    },
    "tags": []
   },
   "source": [
    "# Introduction\n",
    "\n",
    "Hello people, welcome to this kernel! In this kernel I am going to predict scores of reviews. As deep learning library I am going to use keras. Before starting, let's check our content\n",
    "\n",
    "# Content\n",
    "1. Importing Libraries and The Data\n",
    "1. Data Overview\n",
    "1. Label Processing\n",
    "    * Splitting X and Y\n",
    "    * Preparing Label Classes\n",
    "1. Natural Language Processing\n",
    "    * Tokenizing\n",
    "    * Choosing The Size Of Tokens\n",
    "    * Padding\n",
    "    * Train Test Split\n",
    "1. Training Deep Learning (RNN) Model\n",
    "    * Building GRU Model\n",
    "    * Fitting GRU Model\n",
    "    * Predicting and Evaluating Results\n",
    "1. Conclusion\n",
    "\n",
    "So let's start."
   ]
  },
  {
   "cell_type": "markdown",
   "metadata": {
    "papermill": {
     "duration": 0.024429,
     "end_time": "2020-10-27T11:30:33.104121",
     "exception": false,
     "start_time": "2020-10-27T11:30:33.079692",
     "status": "completed"
    },
    "tags": []
   },
   "source": [
    "# Importing Libraries and The Data\n",
    "\n",
    "In this section I am going to import libraries and the data that I will use. Our file's extension is parquet. We can read .parquet files using pandas' read_parquet() function. "
   ]
  },
  {
   "cell_type": "code",
   "execution_count": 1,
   "metadata": {
    "_cell_guid": "b1076dfc-b9ad-4769-8c92-a6c4dae69d19",
    "_uuid": "8f2839f25d086af736a60e9eeb907d3b93b6e0e5",
    "execution": {
     "iopub.execute_input": "2020-10-27T11:30:33.162710Z",
     "iopub.status.busy": "2020-10-27T11:30:33.161873Z",
     "iopub.status.idle": "2020-10-27T11:30:39.678906Z",
     "shell.execute_reply": "2020-10-27T11:30:39.680192Z"
    },
    "papermill": {
     "duration": 6.551718,
     "end_time": "2020-10-27T11:30:39.680397",
     "exception": false,
     "start_time": "2020-10-27T11:30:33.128679",
     "status": "completed"
    },
    "tags": []
   },
   "outputs": [
    {
     "name": "stdout",
     "output_type": "stream",
     "text": [
      "/kaggle/input/valorant-metacritic-reviews/user_reviews.parquet\n"
     ]
    }
   ],
   "source": [
    "# This Python 3 environment comes with many helpful analytics libraries installed\n",
    "# It is defined by the kaggle/python Docker image: https://github.com/kaggle/docker-python\n",
    "# For example, here's several helpful packages to load\n",
    "\n",
    "import numpy as np # linear algebra\n",
    "import pandas as pd # data processing, CSV file I/O (e.g. pd.read_csv)\n",
    "\n",
    "\"\"\"\n",
    "Natural Language Processing\n",
    "\"\"\"\n",
    "from tensorflow.python.keras.preprocessing.text import Tokenizer\n",
    "from tensorflow.python.keras.preprocessing.sequence import pad_sequences\n",
    "from nltk.corpus import stopwords\n",
    "\n",
    "\"\"\"\n",
    "Deep Learning - Keras\n",
    "\"\"\"\n",
    "\n",
    "from tensorflow.python.keras.models import Sequential\n",
    "from tensorflow.python.keras.layers import Embedding,Dense,CuDNNGRU\n",
    "\n",
    "\"\"\"\n",
    "Other Tools\n",
    "\"\"\"\n",
    "from sklearn.model_selection import train_test_split\n",
    "\n",
    "\n",
    "# Tokenizer pad sequence naive bayes svm lr rf deep learning\n",
    "\n",
    "# Input data files are available in the read-only \"../input/\" directory\n",
    "# For example, running this (by clicking run or pressing Shift+Enter) will list all files under the input directory\n",
    "\n",
    "import os\n",
    "for dirname, _, filenames in os.walk('/kaggle/input'):\n",
    "    for filename in filenames:\n",
    "        print(os.path.join(dirname, filename))\n",
    "\n",
    "# You can write up to 5GB to the current directory (/kaggle/working/) that gets preserved as output when you create a version using \"Save & Run All\" \n",
    "# You can also write temporary files to /kaggle/temp/, but they won't be saved outside of the current session"
   ]
  },
  {
   "cell_type": "code",
   "execution_count": 2,
   "metadata": {
    "_cell_guid": "79c7e3d0-c299-4dcb-8224-4455121ee9b0",
    "_uuid": "d629ff2d2480ee46fbb7e2d37f6b5fab8052498a",
    "execution": {
     "iopub.execute_input": "2020-10-27T11:30:39.742371Z",
     "iopub.status.busy": "2020-10-27T11:30:39.741497Z",
     "iopub.status.idle": "2020-10-27T11:30:39.861854Z",
     "shell.execute_reply": "2020-10-27T11:30:39.862353Z"
    },
    "papermill": {
     "duration": 0.156098,
     "end_time": "2020-10-27T11:30:39.862488",
     "exception": false,
     "start_time": "2020-10-27T11:30:39.706390",
     "status": "completed"
    },
    "tags": []
   },
   "outputs": [
    {
     "data": {
      "text/html": [
       "<div>\n",
       "<style scoped>\n",
       "    .dataframe tbody tr th:only-of-type {\n",
       "        vertical-align: middle;\n",
       "    }\n",
       "\n",
       "    .dataframe tbody tr th {\n",
       "        vertical-align: top;\n",
       "    }\n",
       "\n",
       "    .dataframe thead th {\n",
       "        text-align: right;\n",
       "    }\n",
       "</style>\n",
       "<table border=\"1\" class=\"dataframe\">\n",
       "  <thead>\n",
       "    <tr style=\"text-align: right;\">\n",
       "      <th></th>\n",
       "      <th>username</th>\n",
       "      <th>review_type</th>\n",
       "      <th>published_date</th>\n",
       "      <th>score</th>\n",
       "      <th>votes</th>\n",
       "      <th>review_text</th>\n",
       "      <th>profile_url</th>\n",
       "    </tr>\n",
       "  </thead>\n",
       "  <tbody>\n",
       "    <tr>\n",
       "      <th>0</th>\n",
       "      <td>Xalencelph</td>\n",
       "      <td>user</td>\n",
       "      <td>Jun 11, 2020</td>\n",
       "      <td>2</td>\n",
       "      <td>0</td>\n",
       "      <td>A good game to play if you like CS GO.\\r&lt;br/&gt;E...</td>\n",
       "      <td>https://www.metacritic.com/user/Xalencelph</td>\n",
       "    </tr>\n",
       "    <tr>\n",
       "      <th>1</th>\n",
       "      <td>DrPiipocO</td>\n",
       "      <td>user</td>\n",
       "      <td>Jun 11, 2020</td>\n",
       "      <td>9</td>\n",
       "      <td>0</td>\n",
       "      <td>Muito bom porém não gostei muito dos mapas poi...</td>\n",
       "      <td>https://www.metacritic.com/user/DrPiipocO</td>\n",
       "    </tr>\n",
       "    <tr>\n",
       "      <th>2</th>\n",
       "      <td>Mirzahan</td>\n",
       "      <td>user</td>\n",
       "      <td>Jun 11, 2020</td>\n",
       "      <td>2</td>\n",
       "      <td>0</td>\n",
       "      <td>I was expecting much more at the begin because...</td>\n",
       "      <td>https://www.metacritic.com/user/Mirzahan</td>\n",
       "    </tr>\n",
       "    <tr>\n",
       "      <th>3</th>\n",
       "      <td>Uncleho</td>\n",
       "      <td>user</td>\n",
       "      <td>Jun 11, 2020</td>\n",
       "      <td>8</td>\n",
       "      <td>1</td>\n",
       "      <td>Good FPS game and i really like the cartoon gr...</td>\n",
       "      <td>https://www.metacritic.com/user/Uncleho</td>\n",
       "    </tr>\n",
       "    <tr>\n",
       "      <th>4</th>\n",
       "      <td>rpzdylilim</td>\n",
       "      <td>user</td>\n",
       "      <td>Jun 11, 2020</td>\n",
       "      <td>2</td>\n",
       "      <td>1</td>\n",
       "      <td>The game is a bastardized version of CSGO. Ins...</td>\n",
       "      <td>https://www.metacritic.com/user/rpzdylilim</td>\n",
       "    </tr>\n",
       "  </tbody>\n",
       "</table>\n",
       "</div>"
      ],
      "text/plain": [
       "     username review_type published_date score votes  \\\n",
       "0  Xalencelph        user   Jun 11, 2020     2     0   \n",
       "1   DrPiipocO        user   Jun 11, 2020     9     0   \n",
       "2    Mirzahan        user   Jun 11, 2020     2     0   \n",
       "3     Uncleho        user   Jun 11, 2020     8     1   \n",
       "4  rpzdylilim        user   Jun 11, 2020     2     1   \n",
       "\n",
       "                                         review_text  \\\n",
       "0  A good game to play if you like CS GO.\\r<br/>E...   \n",
       "1  Muito bom porém não gostei muito dos mapas poi...   \n",
       "2  I was expecting much more at the begin because...   \n",
       "3  Good FPS game and i really like the cartoon gr...   \n",
       "4  The game is a bastardized version of CSGO. Ins...   \n",
       "\n",
       "                                  profile_url  \n",
       "0  https://www.metacritic.com/user/Xalencelph  \n",
       "1   https://www.metacritic.com/user/DrPiipocO  \n",
       "2    https://www.metacritic.com/user/Mirzahan  \n",
       "3     https://www.metacritic.com/user/Uncleho  \n",
       "4  https://www.metacritic.com/user/rpzdylilim  "
      ]
     },
     "execution_count": 2,
     "metadata": {},
     "output_type": "execute_result"
    }
   ],
   "source": [
    "# Reading data\n",
    "data = pd.read_parquet('/kaggle/input/valorant-metacritic-reviews/user_reviews.parquet')\n",
    "data.head()"
   ]
  },
  {
   "cell_type": "markdown",
   "metadata": {
    "papermill": {
     "duration": 0.025224,
     "end_time": "2020-10-27T11:30:39.913827",
     "exception": false,
     "start_time": "2020-10-27T11:30:39.888603",
     "status": "completed"
    },
    "tags": []
   },
   "source": [
    "# Data Overview\n",
    "\n",
    "In this section I am going to examine the details of the dataset."
   ]
  },
  {
   "cell_type": "code",
   "execution_count": 3,
   "metadata": {
    "execution": {
     "iopub.execute_input": "2020-10-27T11:30:39.980071Z",
     "iopub.status.busy": "2020-10-27T11:30:39.979302Z",
     "iopub.status.idle": "2020-10-27T11:30:39.984633Z",
     "shell.execute_reply": "2020-10-27T11:30:39.983990Z"
    },
    "papermill": {
     "duration": 0.045404,
     "end_time": "2020-10-27T11:30:39.984800",
     "exception": false,
     "start_time": "2020-10-27T11:30:39.939396",
     "status": "completed"
    },
    "tags": []
   },
   "outputs": [
    {
     "name": "stdout",
     "output_type": "stream",
     "text": [
      "<class 'pandas.core.frame.DataFrame'>\n",
      "RangeIndex: 1009 entries, 0 to 1008\n",
      "Data columns (total 7 columns):\n",
      " #   Column          Non-Null Count  Dtype \n",
      "---  ------          --------------  ----- \n",
      " 0   username        1009 non-null   object\n",
      " 1   review_type     1009 non-null   object\n",
      " 2   published_date  1009 non-null   object\n",
      " 3   score           1009 non-null   object\n",
      " 4   votes           1009 non-null   object\n",
      " 5   review_text     1009 non-null   object\n",
      " 6   profile_url     1009 non-null   object\n",
      "dtypes: object(7)\n",
      "memory usage: 55.3+ KB\n"
     ]
    }
   ],
   "source": [
    "data.info()"
   ]
  },
  {
   "cell_type": "markdown",
   "metadata": {
    "papermill": {
     "duration": 0.026552,
     "end_time": "2020-10-27T11:30:40.038641",
     "exception": false,
     "start_time": "2020-10-27T11:30:40.012089",
     "status": "completed"
    },
    "tags": []
   },
   "source": [
    "* There are 7 features in the dataset. However I just use text and our label (score).\n",
    "* There are 1009 rows in the dataset. We can easily handle this data using a simple GRU"
   ]
  },
  {
   "cell_type": "code",
   "execution_count": 4,
   "metadata": {
    "execution": {
     "iopub.execute_input": "2020-10-27T11:30:40.100366Z",
     "iopub.status.busy": "2020-10-27T11:30:40.099530Z",
     "iopub.status.idle": "2020-10-27T11:30:40.104413Z",
     "shell.execute_reply": "2020-10-27T11:30:40.103898Z"
    },
    "papermill": {
     "duration": 0.038904,
     "end_time": "2020-10-27T11:30:40.104511",
     "exception": false,
     "start_time": "2020-10-27T11:30:40.065607",
     "status": "completed"
    },
    "tags": []
   },
   "outputs": [
    {
     "data": {
      "text/plain": [
       "10    285\n",
       "0     264\n",
       "1      73\n",
       "9      68\n",
       "2      64\n",
       "8      63\n",
       "4      55\n",
       "5      45\n",
       "3      44\n",
       "7      28\n",
       "6      20\n",
       "Name: score, dtype: int64"
      ]
     },
     "execution_count": 4,
     "metadata": {},
     "output_type": "execute_result"
    }
   ],
   "source": [
    "data[\"score\"].value_counts()"
   ]
  },
  {
   "cell_type": "markdown",
   "metadata": {
    "papermill": {
     "duration": 0.026738,
     "end_time": "2020-10-27T11:30:40.157714",
     "exception": false,
     "start_time": "2020-10-27T11:30:40.130976",
     "status": "completed"
    },
    "tags": []
   },
   "source": [
    "* From 0 to 10 there are 11 classes in the dataset. \n",
    "* I am going to convert them into 0 and 1\n",
    "* If value is lower than 5 it will be 0 and if value is bigger than 5 it will be 1\n",
    "* If value is 5 I am going to drop them.\n"
   ]
  },
  {
   "cell_type": "markdown",
   "metadata": {
    "papermill": {
     "duration": 0.026956,
     "end_time": "2020-10-27T11:30:40.211138",
     "exception": false,
     "start_time": "2020-10-27T11:30:40.184182",
     "status": "completed"
    },
    "tags": []
   },
   "source": [
    "# Label Processing\n",
    "In this section I am going to prepare our label in order to use in deep learning and machine learning. I will follow these two steps:\n",
    "\n",
    "* Splitting X and Y\n",
    "* Converting Labels Into 1 And 0"
   ]
  },
  {
   "cell_type": "code",
   "execution_count": 5,
   "metadata": {
    "execution": {
     "iopub.execute_input": "2020-10-27T11:30:40.272997Z",
     "iopub.status.busy": "2020-10-27T11:30:40.272048Z",
     "iopub.status.idle": "2020-10-27T11:30:40.277889Z",
     "shell.execute_reply": "2020-10-27T11:30:40.278642Z"
    },
    "papermill": {
     "duration": 0.039894,
     "end_time": "2020-10-27T11:30:40.278825",
     "exception": false,
     "start_time": "2020-10-27T11:30:40.238931",
     "status": "completed"
    },
    "tags": []
   },
   "outputs": [
    {
     "name": "stdout",
     "output_type": "stream",
     "text": [
      "(964,)\n",
      "(964,)\n"
     ]
    }
   ],
   "source": [
    "# Splitting X and Y\n",
    "\n",
    "data = data[data[\"score\"] != \"5\"] \n",
    "# I've dropped five in here. Five is string becasue it is string too in the data.\n",
    "\n",
    "\n",
    "x = data.review_text.values\n",
    "y = data.score.values\n",
    "\n",
    "print(x.shape)\n",
    "print(y.shape)"
   ]
  },
  {
   "cell_type": "code",
   "execution_count": 6,
   "metadata": {
    "execution": {
     "iopub.execute_input": "2020-10-27T11:30:40.344153Z",
     "iopub.status.busy": "2020-10-27T11:30:40.342564Z",
     "iopub.status.idle": "2020-10-27T11:30:40.347821Z",
     "shell.execute_reply": "2020-10-27T11:30:40.348610Z"
    },
    "papermill": {
     "duration": 0.042664,
     "end_time": "2020-10-27T11:30:40.348816",
     "exception": false,
     "start_time": "2020-10-27T11:30:40.306152",
     "status": "completed"
    },
    "tags": []
   },
   "outputs": [
    {
     "name": "stdout",
     "output_type": "stream",
     "text": [
      "(964,)\n",
      "(964,)\n",
      "['2' '9' '2' '8' '2']\n",
      "[0 1 0 1 0]\n"
     ]
    }
   ],
   "source": [
    "# Converting labes into 0 and 1\n",
    "\n",
    "new_y = []\n",
    "\n",
    "for score in y:\n",
    "    \n",
    "    if int(score) < 5:\n",
    "        \n",
    "        new_y.append(0)\n",
    "        \n",
    "    elif int(score) > 5:\n",
    "        new_y.append(1)\n",
    "        \n",
    "\n",
    "fin_y = np.array(new_y)\n",
    "\n",
    "print(fin_y.shape)\n",
    "print(x.shape)\n",
    "print(y[:5])\n",
    "print(fin_y[:5])"
   ]
  },
  {
   "cell_type": "markdown",
   "metadata": {
    "papermill": {
     "duration": 0.027715,
     "end_time": "2020-10-27T11:30:40.407666",
     "exception": false,
     "start_time": "2020-10-27T11:30:40.379951",
     "status": "completed"
    },
    "tags": []
   },
   "source": [
    "# Natural Language Processing\n",
    "\n",
    "In this section I am going to prepare the texts. I will follow these three steps:\n",
    "\n",
    "* Tokenization\n",
    "* Choosing The Size Of Tokens\n",
    "* Padding\n"
   ]
  },
  {
   "cell_type": "markdown",
   "metadata": {
    "papermill": {
     "duration": 0.027669,
     "end_time": "2020-10-27T11:30:40.462933",
     "exception": false,
     "start_time": "2020-10-27T11:30:40.435264",
     "status": "completed"
    },
    "tags": []
   },
   "source": [
    "# Tokenization\n",
    "\n",
    "In this section I am going to tokenize the texts.\n",
    "\n",
    "### Little Knowledge About Tokenization\n",
    "You know, in machine learning we need numerical features for training any model. But our texts are string. So we must convert our strings into numerical but how?\n",
    "\n",
    "At this point, we can use tokenization. In tokenization we label each words with a number. I want to give an instance.\n",
    "\n",
    "* You will be great father and you will be a real hero\n",
    "\n",
    "If we tokenize this sentence, output will be like this:\n",
    "* [1 2 3 4 5 6 1 2 3 7 8 9]\n",
    "* I know, it looks meaningless, but if you know that list, it would be significant\n",
    "\n",
    "                 1 You\n",
    "                 2 Will\n",
    "                 3 Be\n",
    "                 4 Great\n",
    "                 5 Father\n",
    "                 6 And\n",
    "                 7 Real\n",
    "                 8 Hero\n",
    "\n",
    "I hope you understand this. Tokenization is one of the most important things in NLP.\n",
    "\n",
    "Before tokenizing, I will clean texts and drop stopwords. As you remember I've imported stopwords from nltk.\n",
    "\n"
   ]
  },
  {
   "cell_type": "code",
   "execution_count": 7,
   "metadata": {
    "execution": {
     "iopub.execute_input": "2020-10-27T11:30:40.528468Z",
     "iopub.status.busy": "2020-10-27T11:30:40.527734Z",
     "iopub.status.idle": "2020-10-27T11:30:41.521224Z",
     "shell.execute_reply": "2020-10-27T11:30:41.522001Z"
    },
    "papermill": {
     "duration": 1.031731,
     "end_time": "2020-10-27T11:30:41.522252",
     "exception": false,
     "start_time": "2020-10-27T11:30:40.490521",
     "status": "completed"
    },
    "tags": []
   },
   "outputs": [
    {
     "name": "stdout",
     "output_type": "stream",
     "text": [
      "played csgo 5 years game feels refreshing compared game everyone still recommend anyone likes competitive fps games\n",
      "\n",
      "\n",
      "\n",
      "great game alot potential reason give 10 even tho still balancing game perfecting something keep cheaters way mind evasive anti cheat running computer br second reason listen community work maintain unlike valve takes players br br big con prizes skins take consideration people economic problems fewer resources options people want skins spend 10 20 euros\n"
     ]
    }
   ],
   "source": [
    "import re\n",
    "import nltk\n",
    "\n",
    "stopwords = stopwords.words('english')\n",
    "clean_text = []\n",
    "pattern = \"[^a-zA-Z0123456789]\"\n",
    "\n",
    "for text in x:\n",
    "    \n",
    "    text = re.sub(pattern,\" \",text)\n",
    "    text= text.lower()\n",
    "    text = nltk.word_tokenize(text)\n",
    "    text = [word for word in text if word not in stopwords]\n",
    "    text = \" \".join(text)\n",
    "    clean_text.append(text)\n",
    "    \n",
    "\n",
    "# showing some random samples\n",
    "\n",
    "print(clean_text[32])\n",
    "print(\"\\n\\n\")\n",
    "print(clean_text[66])\n",
    "    "
   ]
  },
  {
   "cell_type": "code",
   "execution_count": 8,
   "metadata": {
    "execution": {
     "iopub.execute_input": "2020-10-27T11:30:41.594876Z",
     "iopub.status.busy": "2020-10-27T11:30:41.586377Z",
     "iopub.status.idle": "2020-10-27T11:30:41.598209Z",
     "shell.execute_reply": "2020-10-27T11:30:41.598999Z"
    },
    "papermill": {
     "duration": 0.046301,
     "end_time": "2020-10-27T11:30:41.599165",
     "exception": false,
     "start_time": "2020-10-27T11:30:41.552864",
     "status": "completed"
    },
    "tags": []
   },
   "outputs": [
    {
     "name": "stdout",
     "output_type": "stream",
     "text": [
      "<class 'numpy.ndarray'>\n"
     ]
    }
   ],
   "source": [
    "clean_text = np.array(clean_text)\n",
    "print(type(clean_text))"
   ]
  },
  {
   "cell_type": "markdown",
   "metadata": {
    "papermill": {
     "duration": 0.028851,
     "end_time": "2020-10-27T11:30:41.657305",
     "exception": false,
     "start_time": "2020-10-27T11:30:41.628454",
     "status": "completed"
    },
    "tags": []
   },
   "source": [
    "* Now we can tokenize our dataset."
   ]
  },
  {
   "cell_type": "code",
   "execution_count": 9,
   "metadata": {
    "execution": {
     "iopub.execute_input": "2020-10-27T11:30:41.771018Z",
     "iopub.status.busy": "2020-10-27T11:30:41.755283Z",
     "iopub.status.idle": "2020-10-27T11:30:41.835127Z",
     "shell.execute_reply": "2020-10-27T11:30:41.835635Z"
    },
    "papermill": {
     "duration": 0.148955,
     "end_time": "2020-10-27T11:30:41.835795",
     "exception": false,
     "start_time": "2020-10-27T11:30:41.686840",
     "status": "completed"
    },
    "tags": []
   },
   "outputs": [
    {
     "data": {
      "text/plain": [
       "{'game': 1,\n",
       " 'br': 2,\n",
       " 'like': 3,\n",
       " 'cs': 4,\n",
       " 'play': 5,\n",
       " 'valorant': 6,\n",
       " 'games': 7,\n",
       " 'good': 8,\n",
       " 'go': 9,\n",
       " 'csgo': 10,\n",
       " 'overwatch': 11,\n",
       " 'riot': 12,\n",
       " 'abilities': 13,\n",
       " 'people': 14,\n",
       " 'fun': 15,\n",
       " 'really': 16,\n",
       " 'even': 17,\n",
       " 'feel': 18,\n",
       " 'gameplay': 19,\n",
       " 'maps': 20,\n",
       " 'great': 21,\n",
       " 'get': 22,\n",
       " 'one': 23,\n",
       " 'time': 24,\n",
       " '10': 25,\n",
       " 'much': 26,\n",
       " 'fps': 27,\n",
       " 'graphics': 28,\n",
       " 'also': 29,\n",
       " 'bad': 30,\n",
       " 'anti': 31,\n",
       " 'cheat': 32,\n",
       " 'feels': 33,\n",
       " 'playing': 34,\n",
       " 'new': 35,\n",
       " 'better': 36,\n",
       " 'beta': 37,\n",
       " 'map': 38,\n",
       " 'played': 39,\n",
       " 'make': 40,\n",
       " 'think': 41,\n",
       " 'players': 42,\n",
       " 'would': 43,\n",
       " 'well': 44,\n",
       " 'boring': 45,\n",
       " 'characters': 46,\n",
       " 'many': 47,\n",
       " 'still': 48,\n",
       " 'competitive': 49,\n",
       " 'shooter': 50,\n",
       " 'way': 51,\n",
       " 'lot': 52,\n",
       " 'want': 53,\n",
       " 'slow': 54,\n",
       " 'made': 55,\n",
       " 'say': 56,\n",
       " 'every': 57,\n",
       " '1': 58,\n",
       " '2': 59,\n",
       " 'different': 60,\n",
       " 'give': 61,\n",
       " 'skins': 62,\n",
       " 'design': 63,\n",
       " 'first': 64,\n",
       " 'see': 65,\n",
       " 'something': 66,\n",
       " 'gun': 67,\n",
       " 'makes': 68,\n",
       " 'know': 69,\n",
       " 'issues': 70,\n",
       " 'things': 71,\n",
       " 'player': 72,\n",
       " 'pretty': 73,\n",
       " 'need': 74,\n",
       " 'gunplay': 75,\n",
       " 'since': 76,\n",
       " 'team': 77,\n",
       " 'best': 78,\n",
       " 'pc': 79,\n",
       " '3': 80,\n",
       " 'going': 81,\n",
       " 'free': 82,\n",
       " 'mechanics': 83,\n",
       " 'try': 84,\n",
       " 'got': 85,\n",
       " 'counter': 86,\n",
       " 'vanguard': 87,\n",
       " 'nothing': 88,\n",
       " 'thing': 89,\n",
       " '5': 90,\n",
       " 'could': 91,\n",
       " 'far': 92,\n",
       " 'bit': 93,\n",
       " 'skill': 94,\n",
       " 'look': 95,\n",
       " 'review': 96,\n",
       " 'character': 97,\n",
       " 'long': 98,\n",
       " '0': 99,\n",
       " 'little': 100,\n",
       " 'strike': 101,\n",
       " 'guns': 102,\n",
       " 'system': 103,\n",
       " 'right': 104,\n",
       " 'community': 105,\n",
       " 'style': 106,\n",
       " 'de': 107,\n",
       " 'agents': 108,\n",
       " 'overall': 109,\n",
       " 'use': 110,\n",
       " 'love': 111,\n",
       " 'release': 112,\n",
       " 'experience': 113,\n",
       " 'work': 114,\n",
       " 'understand': 115,\n",
       " 'tactical': 116,\n",
       " 'however': 117,\n",
       " 'hours': 118,\n",
       " 'looks': 119,\n",
       " 'never': 120,\n",
       " 'high': 121,\n",
       " 'reason': 122,\n",
       " 'cheaters': 123,\n",
       " 'problem': 124,\n",
       " 'copy': 125,\n",
       " 'nice': 126,\n",
       " 'ow': 127,\n",
       " 'everything': 128,\n",
       " 'either': 129,\n",
       " 'launch': 130,\n",
       " 'movement': 131,\n",
       " 'ever': 132,\n",
       " 'reviews': 133,\n",
       " 'enough': 134,\n",
       " '4': 135,\n",
       " 'actually': 136,\n",
       " 'low': 137,\n",
       " 'find': 138,\n",
       " 'yet': 139,\n",
       " 'unique': 140,\n",
       " 'servers': 141,\n",
       " 'day': 142,\n",
       " '6': 143,\n",
       " 'getting': 144,\n",
       " 'always': 145,\n",
       " 'que': 146,\n",
       " 'similar': 147,\n",
       " 'shooting': 148,\n",
       " 'balance': 149,\n",
       " 'interesting': 150,\n",
       " 'back': 151,\n",
       " 'take': 152,\n",
       " 'years': 153,\n",
       " 'everyone': 154,\n",
       " 'hard': 155,\n",
       " 'potential': 156,\n",
       " 'enjoy': 157,\n",
       " 'weapons': 158,\n",
       " 'run': 159,\n",
       " 'almost': 160,\n",
       " 'around': 161,\n",
       " 'making': 162,\n",
       " 'level': 163,\n",
       " 'e': 164,\n",
       " 'anything': 165,\n",
       " 'clone': 166,\n",
       " 'looking': 167,\n",
       " 'league': 168,\n",
       " 'bugs': 169,\n",
       " 'quite': 170,\n",
       " 'wanted': 171,\n",
       " 'friends': 172,\n",
       " 'based': 173,\n",
       " 'dont': 174,\n",
       " '8': 175,\n",
       " 'someone': 176,\n",
       " 'issue': 177,\n",
       " 'though': 178,\n",
       " 'worse': 179,\n",
       " 'might': 180,\n",
       " 'terrible': 181,\n",
       " 'felt': 182,\n",
       " 'money': 183,\n",
       " 'problems': 184,\n",
       " 'easy': 185,\n",
       " 'negative': 186,\n",
       " 'na': 187,\n",
       " 'trash': 188,\n",
       " '2020': 189,\n",
       " 'less': 190,\n",
       " 'match': 191,\n",
       " 'start': 192,\n",
       " 'skills': 193,\n",
       " 'honestly': 194,\n",
       " 'probably': 195,\n",
       " '7': 196,\n",
       " 'end': 197,\n",
       " 'lack': 198,\n",
       " 'devs': 199,\n",
       " 'mode': 200,\n",
       " 'art': 201,\n",
       " 'already': 202,\n",
       " 'shooters': 203,\n",
       " 'maybe': 204,\n",
       " 'instead': 205,\n",
       " 'least': 206,\n",
       " 'big': 207,\n",
       " 'seems': 208,\n",
       " 'trying': 209,\n",
       " 'full': 210,\n",
       " 'hope': 211,\n",
       " 'computer': 212,\n",
       " 'definitely': 213,\n",
       " 'worst': 214,\n",
       " 'legends': 215,\n",
       " 'extremely': 216,\n",
       " 'amazing': 217,\n",
       " 'hit': 218,\n",
       " 'needs': 219,\n",
       " 'hero': 220,\n",
       " 'anyone': 221,\n",
       " 'poor': 222,\n",
       " 'two': 223,\n",
       " 'without': 224,\n",
       " 'round': 225,\n",
       " 'another': 226,\n",
       " 'released': 227,\n",
       " 'skin': 228,\n",
       " 'completely': 229,\n",
       " 'weapon': 230,\n",
       " 'believe': 231,\n",
       " 'let': 232,\n",
       " 'point': 233,\n",
       " 'seen': 234,\n",
       " 'ping': 235,\n",
       " 'giving': 236,\n",
       " 'hate': 237,\n",
       " 'balanced': 238,\n",
       " 'spray': 239,\n",
       " 'basically': 240,\n",
       " 'heroes': 241,\n",
       " 'next': 242,\n",
       " 'fast': 243,\n",
       " 'genre': 244,\n",
       " 'cool': 245,\n",
       " 'done': 246,\n",
       " 'recommend': 247,\n",
       " 'put': 248,\n",
       " 'toxic': 249,\n",
       " 'fix': 250,\n",
       " 'clunky': 251,\n",
       " 'agent': 252,\n",
       " 'ability': 253,\n",
       " 'idea': 254,\n",
       " 'future': 255,\n",
       " 'company': 256,\n",
       " 'utility': 257,\n",
       " 'opinion': 258,\n",
       " 'perfect': 259,\n",
       " 'support': 260,\n",
       " 'fact': 261,\n",
       " 'may': 262,\n",
       " 'anticheat': 263,\n",
       " 'score': 264,\n",
       " 'matches': 265,\n",
       " 'sure': 266,\n",
       " 'super': 267,\n",
       " 'keep': 268,\n",
       " 'content': 269,\n",
       " 'worth': 270,\n",
       " 'main': 271,\n",
       " 'buy': 272,\n",
       " 'aim': 273,\n",
       " 'able': 274,\n",
       " 'shot': 275,\n",
       " 'real': 276,\n",
       " 'casual': 277,\n",
       " 'chinese': 278,\n",
       " 'server': 279,\n",
       " 'come': 280,\n",
       " 'due': 281,\n",
       " 'times': 282,\n",
       " 'used': 283,\n",
       " 'learn': 284,\n",
       " 'add': 285,\n",
       " 'kill': 286,\n",
       " 'seem': 287,\n",
       " 'works': 288,\n",
       " 'life': 289,\n",
       " 'kinda': 290,\n",
       " 'absolutely': 291,\n",
       " 'others': 292,\n",
       " 'sound': 293,\n",
       " 'runs': 294,\n",
       " 'huge': 295,\n",
       " 'enjoyable': 296,\n",
       " 'animations': 297,\n",
       " 'yes': 298,\n",
       " 'random': 299,\n",
       " 'lol': 300,\n",
       " 'designed': 301,\n",
       " 'tried': 302,\n",
       " 'matchmaking': 303,\n",
       " 'hype': 304,\n",
       " 'although': 305,\n",
       " 'gets': 306,\n",
       " 'literally': 307,\n",
       " 'etc': 308,\n",
       " 'pass': 309,\n",
       " 'smooth': 310,\n",
       " 'part': 311,\n",
       " 'developers': 312,\n",
       " 'fresh': 313,\n",
       " 'rather': 314,\n",
       " 'gon': 315,\n",
       " 'n': 316,\n",
       " 'solid': 317,\n",
       " 'garbage': 318,\n",
       " 'incredibly': 319,\n",
       " 'unbalanced': 320,\n",
       " 'battle': 321,\n",
       " 'help': 322,\n",
       " 'im': 323,\n",
       " '100': 324,\n",
       " 'kernel': 325,\n",
       " 'job': 326,\n",
       " 'quality': 327,\n",
       " 'personally': 328,\n",
       " 'original': 329,\n",
       " 'access': 330,\n",
       " 'jogo': 331,\n",
       " 'despite': 332,\n",
       " 'horrible': 333,\n",
       " '20': 334,\n",
       " 'closed': 335,\n",
       " 'polished': 336,\n",
       " 'especially': 337,\n",
       " 'early': 338,\n",
       " 'kind': 339,\n",
       " 'changes': 340,\n",
       " 'simple': 341,\n",
       " 'said': 342,\n",
       " 'simply': 343,\n",
       " 'sage': 344,\n",
       " 'expect': 345,\n",
       " 'clear': 346,\n",
       " 'shoot': 347,\n",
       " 'mean': 348,\n",
       " 'coming': 349,\n",
       " 'general': 350,\n",
       " 'points': 351,\n",
       " 'intrusive': 352,\n",
       " 'please': 353,\n",
       " 'rounds': 354,\n",
       " 'certain': 355,\n",
       " '9': 356,\n",
       " 'care': 357,\n",
       " 'fortnite': 358,\n",
       " 'recoil': 359,\n",
       " 'twitch': 360,\n",
       " 'biggest': 361,\n",
       " 'side': 362,\n",
       " 'okay': 363,\n",
       " 'days': 364,\n",
       " 'saying': 365,\n",
       " 'current': 366,\n",
       " 'fixed': 367,\n",
       " 'away': 368,\n",
       " 'enemy': 369,\n",
       " 'corners': 370,\n",
       " 'core': 371,\n",
       " 'annoying': 372,\n",
       " 'running': 373,\n",
       " 'software': 374,\n",
       " 'tick': 375,\n",
       " 'es': 376,\n",
       " 'course': 377,\n",
       " 'last': 378,\n",
       " 'takes': 379,\n",
       " 'means': 380,\n",
       " 'cant': 381,\n",
       " 'advantage': 382,\n",
       " 'stop': 383,\n",
       " 'top': 384,\n",
       " 'average': 385,\n",
       " 'watch': 386,\n",
       " 'version': 387,\n",
       " 'broken': 388,\n",
       " 'expected': 389,\n",
       " 'useless': 390,\n",
       " 'ranked': 391,\n",
       " 'change': 392,\n",
       " 'clearly': 393,\n",
       " 'un': 394,\n",
       " 'el': 395,\n",
       " 'feeling': 396,\n",
       " 'fine': 397,\n",
       " 'using': 398,\n",
       " 'stupid': 399,\n",
       " 'world': 400,\n",
       " 'apex': 401,\n",
       " 'paced': 402,\n",
       " 'ones': 403,\n",
       " 'wait': 404,\n",
       " 'en': 405,\n",
       " 'comes': 406,\n",
       " '30': 407,\n",
       " 'mix': 408,\n",
       " 'ok': 409,\n",
       " 'valve': 410,\n",
       " 'die': 411,\n",
       " 'repetitive': 412,\n",
       " 'state': 413,\n",
       " 'graphic': 414,\n",
       " 'found': 415,\n",
       " 'popular': 416,\n",
       " 'rng': 417,\n",
       " 'fair': 418,\n",
       " 'year': 419,\n",
       " 'features': 420,\n",
       " 'ideas': 421,\n",
       " 'thought': 422,\n",
       " 'updates': 423,\n",
       " 'half': 424,\n",
       " 'difficult': 425,\n",
       " 'cheap': 426,\n",
       " 'added': 427,\n",
       " 'invasive': 428,\n",
       " 'straight': 429,\n",
       " 'wall': 430,\n",
       " 'second': 431,\n",
       " 'close': 432,\n",
       " 'example': 433,\n",
       " 'old': 434,\n",
       " 'improve': 435,\n",
       " 'mobile': 436,\n",
       " 'sometimes': 437,\n",
       " 'honest': 438,\n",
       " 'op': 439,\n",
       " 'bring': 440,\n",
       " 'else': 441,\n",
       " 'aspects': 442,\n",
       " 'bomb': 443,\n",
       " 'compared': 444,\n",
       " 'angles': 445,\n",
       " '128': 446,\n",
       " 'exactly': 447,\n",
       " 'basic': 448,\n",
       " 'goes': 449,\n",
       " 'hackers': 450,\n",
       " 'fan': 451,\n",
       " 'stuff': 452,\n",
       " 'tencent': 453,\n",
       " 'mind': 454,\n",
       " 'awful': 455,\n",
       " 'aspect': 456,\n",
       " 'turn': 457,\n",
       " 'streamers': 458,\n",
       " 'came': 459,\n",
       " 'esports': 460,\n",
       " 'quickly': 461,\n",
       " 'awesome': 462,\n",
       " 'hell': 463,\n",
       " 'currently': 464,\n",
       " 'working': 465,\n",
       " 'ui': 466,\n",
       " 'c': 467,\n",
       " 'plays': 468,\n",
       " 'complaining': 469,\n",
       " 'wrong': 470,\n",
       " 'except': 471,\n",
       " 'decent': 472,\n",
       " 'head': 473,\n",
       " 'thats': 474,\n",
       " 'cause': 475,\n",
       " 'unlike': 476,\n",
       " 'pattern': 477,\n",
       " 'adding': 478,\n",
       " 'person': 479,\n",
       " 'joke': 480,\n",
       " 'esport': 481,\n",
       " 'pros': 482,\n",
       " 'single': 483,\n",
       " 'r6': 484,\n",
       " 'screen': 485,\n",
       " 'prices': 486,\n",
       " 'clean': 487,\n",
       " 'guess': 488,\n",
       " 'bland': 489,\n",
       " 'slower': 490,\n",
       " 'lots': 491,\n",
       " 'weird': 492,\n",
       " 'cheating': 493,\n",
       " 'rating': 494,\n",
       " 'juego': 495,\n",
       " 'expensive': 496,\n",
       " 'paid': 497,\n",
       " 'paladins': 498,\n",
       " 'set': 499,\n",
       " 'create': 500,\n",
       " 'lower': 501,\n",
       " 'leave': 502,\n",
       " 'constantly': 503,\n",
       " 'dead': 504,\n",
       " 'damage': 505,\n",
       " 'range': 506,\n",
       " 'tell': 507,\n",
       " 'totally': 508,\n",
       " 'malware': 509,\n",
       " 'true': 510,\n",
       " 'actual': 511,\n",
       " 'spent': 512,\n",
       " 'ugly': 513,\n",
       " 'amount': 514,\n",
       " 'moment': 515,\n",
       " 'allow': 516,\n",
       " 'balancing': 517,\n",
       " 'cod': 518,\n",
       " 'rate': 519,\n",
       " 'grenades': 520,\n",
       " 'open': 521,\n",
       " 'modes': 522,\n",
       " 'combination': 523,\n",
       " 'powers': 524,\n",
       " 'win': 525,\n",
       " 'title': 526,\n",
       " 'scene': 527,\n",
       " 'mostly': 528,\n",
       " 'quick': 529,\n",
       " 'often': 530,\n",
       " 'must': 531,\n",
       " 'excited': 532,\n",
       " 'whole': 533,\n",
       " 'listen': 534,\n",
       " 'tf2': 535,\n",
       " 'short': 536,\n",
       " 'visual': 537,\n",
       " 'fans': 538,\n",
       " 'started': 539,\n",
       " '5v5': 540,\n",
       " 'environment': 541,\n",
       " 'possible': 542,\n",
       " 'place': 543,\n",
       " 'owned': 544,\n",
       " 'frustrating': 545,\n",
       " 'unfair': 546,\n",
       " 'muito': 547,\n",
       " 'us': 548,\n",
       " 'chance': 549,\n",
       " 'u': 550,\n",
       " 'rootkit': 551,\n",
       " 'refreshing': 552,\n",
       " 'complain': 553,\n",
       " 'obvious': 554,\n",
       " 'fire': 555,\n",
       " 'economy': 556,\n",
       " 'bored': 557,\n",
       " 'pro': 558,\n",
       " 'mention': 559,\n",
       " 'behind': 560,\n",
       " 'performance': 561,\n",
       " 'raze': 562,\n",
       " 'easily': 563,\n",
       " 'somehow': 564,\n",
       " 'mess': 565,\n",
       " 'lacks': 566,\n",
       " 'call': 567,\n",
       " 'enjoyed': 568,\n",
       " 'gives': 569,\n",
       " 'together': 570,\n",
       " 'hardcore': 571,\n",
       " 'small': 572,\n",
       " 'ac': 573,\n",
       " 'feedback': 574,\n",
       " 'taking': 575,\n",
       " 'concept': 576,\n",
       " 'mediocre': 577,\n",
       " 'zero': 578,\n",
       " '60': 579,\n",
       " 'variety': 580,\n",
       " 'called': 581,\n",
       " 'addition': 582,\n",
       " 'minutes': 583,\n",
       " '13': 584,\n",
       " 'download': 585,\n",
       " 'months': 586,\n",
       " 'experienced': 587,\n",
       " 'dev': 588,\n",
       " 'disappointed': 589,\n",
       " 'important': 590,\n",
       " 'spend': 591,\n",
       " 'teammates': 592,\n",
       " 'video': 593,\n",
       " 'easier': 594,\n",
       " 'limited': 595,\n",
       " 'install': 596,\n",
       " 'launched': 597,\n",
       " 'unless': 598,\n",
       " 'counterstrike': 599,\n",
       " 'sense': 600,\n",
       " 'exciting': 601,\n",
       " 'walls': 602,\n",
       " 'strategy': 603,\n",
       " 'trust': 604,\n",
       " 'sounds': 605,\n",
       " 'bug': 606,\n",
       " 'given': 607,\n",
       " 'become': 608,\n",
       " 'elements': 609,\n",
       " 'siege': 610,\n",
       " 'matter': 611,\n",
       " 'action': 612,\n",
       " 'connection': 613,\n",
       " 'titles': 614,\n",
       " 'con': 615,\n",
       " 'la': 616,\n",
       " 'price': 617,\n",
       " 'none': 618,\n",
       " '15': 619,\n",
       " 'check': 620,\n",
       " 'soon': 621,\n",
       " 'visuals': 622,\n",
       " 'aiming': 623,\n",
       " 'type': 624,\n",
       " 'personal': 625,\n",
       " 'sites': 626,\n",
       " 'waste': 627,\n",
       " 'playable': 628,\n",
       " 'pure': 629,\n",
       " 'buying': 630,\n",
       " 'unfinished': 631,\n",
       " 'forward': 632,\n",
       " 'absolute': 633,\n",
       " 'likely': 634,\n",
       " 'focus': 635,\n",
       " 'cons': 636,\n",
       " 'luck': 637,\n",
       " 'couple': 638,\n",
       " 'diverse': 639,\n",
       " 'useful': 640,\n",
       " 'heavily': 641,\n",
       " 'overpowered': 642,\n",
       " 'fails': 643,\n",
       " 'base': 644,\n",
       " 'major': 645,\n",
       " 'compare': 646,\n",
       " 'truly': 647,\n",
       " 'cartoon': 648,\n",
       " 'cartoony': 649,\n",
       " 'took': 650,\n",
       " 'innovative': 651,\n",
       " 'whatever': 652,\n",
       " 'allows': 653,\n",
       " 'gave': 654,\n",
       " 'killed': 655,\n",
       " 'uninstall': 656,\n",
       " 'fit': 657,\n",
       " 'rewards': 658,\n",
       " 'non': 659,\n",
       " 'satisfying': 660,\n",
       " 'meh': 661,\n",
       " 'suck': 662,\n",
       " 'bullets': 663,\n",
       " 'speed': 664,\n",
       " 'space': 665,\n",
       " 'guys': 666,\n",
       " 'remember': 667,\n",
       " 'anyway': 668,\n",
       " 'modern': 669,\n",
       " 'number': 670,\n",
       " 'rewarding': 671,\n",
       " 'lose': 672,\n",
       " 'seriously': 673,\n",
       " 'um': 674,\n",
       " 'hyped': 675,\n",
       " 'past': 676,\n",
       " 'imo': 677,\n",
       " 'complete': 678,\n",
       " 'dynamic': 679,\n",
       " 'missing': 680,\n",
       " 'position': 681,\n",
       " 'mid': 682,\n",
       " 'eu': 683,\n",
       " 'watching': 684,\n",
       " 'knowing': 685,\n",
       " 'root': 686,\n",
       " 'hold': 687,\n",
       " 'cheater': 688,\n",
       " 'needed': 689,\n",
       " 'developer': 690,\n",
       " 'offers': 691,\n",
       " 'pay': 692,\n",
       " 'large': 693,\n",
       " 'continue': 694,\n",
       " 'split': 695,\n",
       " '70': 696,\n",
       " 'identity': 697,\n",
       " 'learning': 698,\n",
       " 'plus': 699,\n",
       " 'decided': 700,\n",
       " 'ton': 701,\n",
       " 'overpriced': 702,\n",
       " 'case': 703,\n",
       " 'left': 704,\n",
       " 'ready': 705,\n",
       " 'six': 706,\n",
       " 'crap': 707,\n",
       " 'requires': 708,\n",
       " 'finally': 709,\n",
       " 'installed': 710,\n",
       " 'barely': 711,\n",
       " 'sort': 712,\n",
       " 'plant': 713,\n",
       " 'ads': 714,\n",
       " 'headshot': 715,\n",
       " 'harder': 716,\n",
       " 'source': 717,\n",
       " 'death': 718,\n",
       " 'specific': 719,\n",
       " 'solo': 720,\n",
       " 'didnt': 721,\n",
       " 'liked': 722,\n",
       " 'f2p': 723,\n",
       " 'offer': 724,\n",
       " 'duty': 725,\n",
       " 'industry': 726,\n",
       " 'combined': 727,\n",
       " 'blend': 728,\n",
       " 'strong': 729,\n",
       " 'lo': 730,\n",
       " 'spot': 731,\n",
       " 'uninstalled': 732,\n",
       " 'sorry': 733,\n",
       " 'corridors': 734,\n",
       " 'pubg': 735,\n",
       " 'empty': 736,\n",
       " 'went': 737,\n",
       " 'killer': 738,\n",
       " 'unpolished': 739,\n",
       " 'happen': 740,\n",
       " 'option': 741,\n",
       " 'wow': 742,\n",
       " 'considering': 743,\n",
       " 'lag': 744,\n",
       " 'total': 745,\n",
       " 'killing': 746,\n",
       " 'within': 747,\n",
       " 'options': 748,\n",
       " 'poorly': 749,\n",
       " 'communication': 750,\n",
       " 'hardware': 751,\n",
       " 'complaints': 752,\n",
       " 'live': 753,\n",
       " 'destroy': 754,\n",
       " 'week': 755,\n",
       " 'attempt': 756,\n",
       " 'flaws': 757,\n",
       " 'special': 758,\n",
       " '24': 759,\n",
       " 'later': 760,\n",
       " 'aside': 761,\n",
       " 'shows': 762,\n",
       " 'improved': 763,\n",
       " 'ultimate': 764,\n",
       " 'dull': 765,\n",
       " 'longer': 766,\n",
       " 'enemies': 767,\n",
       " 'mechanic': 768,\n",
       " 'tries': 769,\n",
       " 'key': 770,\n",
       " 'wants': 771,\n",
       " 'ring': 772,\n",
       " 'update': 773,\n",
       " 'corner': 774,\n",
       " 'fantastic': 775,\n",
       " 'outdated': 776,\n",
       " 'site': 777,\n",
       " 'kit': 778,\n",
       " 'control': 779,\n",
       " 'camping': 780,\n",
       " 'em': 781,\n",
       " 'bunch': 782,\n",
       " 'cheats': 783,\n",
       " 'across': 784,\n",
       " 'ago': 785,\n",
       " 'writing': 786,\n",
       " 'supposed': 787,\n",
       " 'meta': 788,\n",
       " 'pick': 789,\n",
       " 'rush': 790,\n",
       " 'haters': 791,\n",
       " 'yeah': 792,\n",
       " 'uninspired': 793,\n",
       " 'usually': 794,\n",
       " 'dumb': 795,\n",
       " 'heavy': 796,\n",
       " 'wide': 797,\n",
       " 'data': 798,\n",
       " 'program': 799,\n",
       " 'una': 800,\n",
       " 'mas': 801,\n",
       " 'este': 802,\n",
       " 'excellent': 803,\n",
       " 'compete': 804,\n",
       " 'bombing': 805,\n",
       " 'marketing': 806,\n",
       " 'entry': 807,\n",
       " 'development': 808,\n",
       " 'interested': 809,\n",
       " 'si': 810,\n",
       " 'meant': 811,\n",
       " 'talking': 812,\n",
       " 'stay': 813,\n",
       " 'situation': 814,\n",
       " 'choose': 815,\n",
       " 'happy': 816,\n",
       " 'items': 817,\n",
       " 'selection': 818,\n",
       " 'designs': 819,\n",
       " 'ceiling': 820,\n",
       " 'animation': 821,\n",
       " 'moving': 822,\n",
       " 'walking': 823,\n",
       " 'post': 824,\n",
       " 'insane': 825,\n",
       " 'entire': 826,\n",
       " 'isnt': 827,\n",
       " 'af': 828,\n",
       " 'shop': 829,\n",
       " 'creative': 830,\n",
       " 'seeing': 831,\n",
       " 'thanks': 832,\n",
       " 'overhyped': 833,\n",
       " 'agree': 834,\n",
       " 'patterns': 835,\n",
       " 'champions': 836,\n",
       " 'p': 837,\n",
       " 'drops': 838,\n",
       " 'waiting': 839,\n",
       " 'lackluster': 840,\n",
       " 'generic': 841,\n",
       " 'rest': 842,\n",
       " 'bother': 843,\n",
       " 'mainly': 844,\n",
       " 'banned': 845,\n",
       " 'voice': 846,\n",
       " 'chat': 847,\n",
       " 'move': 848,\n",
       " 'face': 849,\n",
       " 'seconds': 850,\n",
       " 'stand': 851,\n",
       " 'engine': 852,\n",
       " 'willing': 853,\n",
       " 'accuracy': 854,\n",
       " 'higher': 855,\n",
       " 'feature': 856,\n",
       " 'competitor': 857,\n",
       " 'por': 858,\n",
       " 'expecting': 859,\n",
       " 'forced': 860,\n",
       " 'mixed': 861,\n",
       " 'rainbow': 862,\n",
       " 'per': 863,\n",
       " 'doesnt': 864,\n",
       " 'sit': 865,\n",
       " 'piece': 866,\n",
       " 'happening': 867,\n",
       " 'oh': 868,\n",
       " 'systems': 869,\n",
       " 'upon': 870,\n",
       " 'including': 871,\n",
       " 'unoriginal': 872,\n",
       " 'particularly': 873,\n",
       " 'kills': 874,\n",
       " 'saw': 875,\n",
       " '12': 876,\n",
       " 'disappointing': 877,\n",
       " 'master': 878,\n",
       " 'habilidades': 879,\n",
       " 'te': 880,\n",
       " 'fully': 881,\n",
       " 'gaming': 882,\n",
       " 'competition': 883,\n",
       " 'built': 884,\n",
       " 'videos': 885,\n",
       " 'copies': 886,\n",
       " 'created': 887,\n",
       " 'claustrophobic': 888,\n",
       " 'afk': 889,\n",
       " 'badly': 890,\n",
       " 'settings': 891,\n",
       " '50': 892,\n",
       " 'terms': 893,\n",
       " 'dota': 894,\n",
       " 'successful': 895,\n",
       " 'companies': 896,\n",
       " 'practice': 897,\n",
       " 'exist': 898,\n",
       " 'changed': 899,\n",
       " 'salty': 900,\n",
       " 'lazy': 901,\n",
       " 'security': 902,\n",
       " 'adds': 903,\n",
       " 'talk': 904,\n",
       " 'optimization': 905,\n",
       " 'com': 906,\n",
       " 'wan': 907,\n",
       " 'backdoor': 908,\n",
       " 'kids': 909,\n",
       " 'formula': 910,\n",
       " 'unplayable': 911,\n",
       " 'customer': 912,\n",
       " 'filled': 913,\n",
       " 'parts': 914,\n",
       " 'precise': 915,\n",
       " 'information': 916,\n",
       " 'leaving': 917,\n",
       " 'count': 918,\n",
       " 'require': 919,\n",
       " 'difference': 920,\n",
       " 'crashes': 921,\n",
       " 'playstyle': 922,\n",
       " 'brings': 923,\n",
       " 'copied': 924,\n",
       " 'normal': 925,\n",
       " 'appeal': 926,\n",
       " 'ultra': 927,\n",
       " 'failed': 928,\n",
       " 'pacing': 929,\n",
       " 'attention': 930,\n",
       " 'personality': 931,\n",
       " 'alone': 932,\n",
       " 'cosmetic': 933,\n",
       " '64': 934,\n",
       " 'apart': 935,\n",
       " 'air': 936,\n",
       " 'boot': 937,\n",
       " 'user': 938,\n",
       " 'global': 939,\n",
       " 'speaking': 940,\n",
       " '2012': 941,\n",
       " 'near': 942,\n",
       " 'keeps': 943,\n",
       " 'mad': 944,\n",
       " 'ways': 945,\n",
       " 'sad': 946,\n",
       " 'lets': 947,\n",
       " 'break': 948,\n",
       " 'monitor': 949,\n",
       " 'market': 950,\n",
       " 'ripoff': 951,\n",
       " 'trolls': 952,\n",
       " 'rip': 953,\n",
       " 'faster': 954,\n",
       " 'refined': 955,\n",
       " 'avoid': 956,\n",
       " 'communicate': 957,\n",
       " 'positive': 958,\n",
       " 'spyware': 959,\n",
       " '90': 960,\n",
       " 'save': 961,\n",
       " 'visibility': 962,\n",
       " 'everywhere': 963,\n",
       " 'knowledge': 964,\n",
       " 'line': 965,\n",
       " 'standard': 966,\n",
       " 'three': 967,\n",
       " 'ridiculous': 968,\n",
       " 'windows': 969,\n",
       " 'immediately': 970,\n",
       " 'highly': 971,\n",
       " 'store': 972,\n",
       " 'deal': 973,\n",
       " 'heard': 974,\n",
       " 'bright': 975,\n",
       " 'background': 976,\n",
       " 'monetization': 977,\n",
       " 'beginning': 978,\n",
       " 'friend': 979,\n",
       " 'marketed': 980,\n",
       " 'los': 981,\n",
       " 'online': 982,\n",
       " 'classic': 983,\n",
       " 'f': 984,\n",
       " 'reminds': 985,\n",
       " 'gamer': 986,\n",
       " 'para': 987,\n",
       " 'jugar': 988,\n",
       " 'como': 989,\n",
       " 'pero': 990,\n",
       " 'available': 991,\n",
       " 'focused': 992,\n",
       " 'levels': 993,\n",
       " 'several': 994,\n",
       " 'weeks': 995,\n",
       " 'barrier': 996,\n",
       " 'choice': 997,\n",
       " 'smoke': 998,\n",
       " 'today': 999,\n",
       " 'generally': 1000,\n",
       " ...}"
      ]
     },
     "execution_count": 9,
     "metadata": {},
     "output_type": "execute_result"
    }
   ],
   "source": [
    "num_words = 5000 # Only consider most used 5000 words\n",
    "tokenizer = Tokenizer(num_words = num_words)\n",
    "\n",
    "tokenizer.fit_on_texts(clean_text)\n",
    "\n",
    "tokenizer.word_index"
   ]
  },
  {
   "cell_type": "markdown",
   "metadata": {
    "papermill": {
     "duration": 0.029856,
     "end_time": "2020-10-27T11:30:41.897356",
     "exception": false,
     "start_time": "2020-10-27T11:30:41.867500",
     "status": "completed"
    },
    "tags": []
   },
   "source": [
    "* Our tokenizer is ready but we did not converted our x yet"
   ]
  },
  {
   "cell_type": "code",
   "execution_count": 10,
   "metadata": {
    "execution": {
     "iopub.execute_input": "2020-10-27T11:30:42.012310Z",
     "iopub.status.busy": "2020-10-27T11:30:41.996664Z",
     "iopub.status.idle": "2020-10-27T11:30:42.015625Z",
     "shell.execute_reply": "2020-10-27T11:30:42.016350Z"
    },
    "papermill": {
     "duration": 0.089375,
     "end_time": "2020-10-27T11:30:42.016526",
     "exception": false,
     "start_time": "2020-10-27T11:30:41.927151",
     "status": "completed"
    },
    "tags": []
   },
   "outputs": [
    {
     "name": "stdout",
     "output_type": "stream",
     "text": [
      "[58, 960, 2, 59, 2]\n",
      "<class 'list'>\n"
     ]
    }
   ],
   "source": [
    "x_token = tokenizer.texts_to_sequences(clean_text)\n",
    "\n",
    "print(x_token[321]) # Checking random sample\n",
    "print(type(x_token))"
   ]
  },
  {
   "cell_type": "markdown",
   "metadata": {
    "papermill": {
     "duration": 0.031258,
     "end_time": "2020-10-27T11:30:42.080995",
     "exception": false,
     "start_time": "2020-10-27T11:30:42.049737",
     "status": "completed"
    },
    "tags": []
   },
   "source": [
    "* We converted our texts into tokens but we still have a problem. Let's discover the problem together."
   ]
  },
  {
   "cell_type": "code",
   "execution_count": 11,
   "metadata": {
    "execution": {
     "iopub.execute_input": "2020-10-27T11:30:42.149622Z",
     "iopub.status.busy": "2020-10-27T11:30:42.148770Z",
     "iopub.status.idle": "2020-10-27T11:30:42.153434Z",
     "shell.execute_reply": "2020-10-27T11:30:42.152859Z"
    },
    "papermill": {
     "duration": 0.0417,
     "end_time": "2020-10-27T11:30:42.153533",
     "exception": false,
     "start_time": "2020-10-27T11:30:42.111833",
     "status": "completed"
    },
    "tags": []
   },
   "outputs": [
    {
     "name": "stdout",
     "output_type": "stream",
     "text": [
      "Len of 321th entry is  5\n",
      "Len of 231th entry is  12\n",
      "Len of 450th entry is 16\n"
     ]
    }
   ],
   "source": [
    "print(\"Len of 321th entry is \",len(x_token[321]))\n",
    "print(\"Len of 231th entry is \",len(x_token[231]))\n",
    "print(\"Len of 450th entry is\",len(x_token[450]))"
   ]
  },
  {
   "cell_type": "markdown",
   "metadata": {
    "papermill": {
     "duration": 0.03142,
     "end_time": "2020-10-27T11:30:42.216560",
     "exception": false,
     "start_time": "2020-10-27T11:30:42.185140",
     "status": "completed"
    },
    "tags": []
   },
   "source": [
    "* As we can see, length of each entry can be different, but in machine learning, data must have same size.\n",
    "* In order to solve this problem, we will use padding.\n",
    "\n",
    "### Little Knowlodge About Padding\n",
    "I am going to tell padding using an example: \n",
    "* Let's assume that we have a tokenized sentences like these: \n",
    "    * [1,4,3,7],\n",
    "    * [1,2,3,4,5,6,7,8,9,10,11,12,13,14,15,16]\n",
    "* We want to create 10D arrays.\n",
    "* If we add six zeros to first list, it would be 10D\n",
    "* And if we truncate less used six token from 2nd list, it would be 10D too.\n",
    "* Padding is that.\n",
    "\n"
   ]
  },
  {
   "cell_type": "markdown",
   "metadata": {
    "papermill": {
     "duration": 0.031004,
     "end_time": "2020-10-27T11:30:42.279047",
     "exception": false,
     "start_time": "2020-10-27T11:30:42.248043",
     "status": "completed"
    },
    "tags": []
   },
   "source": [
    "## Choosing The Size Of Tokens\n",
    "\n",
    "In previous section I've told what should we use padding, in this section I am going to determine the size of our tokens. I will check some values in order to do this."
   ]
  },
  {
   "cell_type": "code",
   "execution_count": 12,
   "metadata": {
    "execution": {
     "iopub.execute_input": "2020-10-27T11:30:42.349190Z",
     "iopub.status.busy": "2020-10-27T11:30:42.348268Z",
     "iopub.status.idle": "2020-10-27T11:30:42.352014Z",
     "shell.execute_reply": "2020-10-27T11:30:42.352907Z"
    },
    "papermill": {
     "duration": 0.042606,
     "end_time": "2020-10-27T11:30:42.353093",
     "exception": false,
     "start_time": "2020-10-27T11:30:42.310487",
     "status": "completed"
    },
    "tags": []
   },
   "outputs": [
    {
     "name": "stdout",
     "output_type": "stream",
     "text": [
      "There are 964 tokens in our dataset\n"
     ]
    }
   ],
   "source": [
    "len_of_tokens = [len(tokens) for tokens in x_token]\n",
    "print(\"There are {} tokens in our dataset\".format(len(len_of_tokens)))\n"
   ]
  },
  {
   "cell_type": "code",
   "execution_count": 13,
   "metadata": {
    "execution": {
     "iopub.execute_input": "2020-10-27T11:30:42.424696Z",
     "iopub.status.busy": "2020-10-27T11:30:42.423905Z",
     "iopub.status.idle": "2020-10-27T11:30:42.427758Z",
     "shell.execute_reply": "2020-10-27T11:30:42.427270Z"
    },
    "papermill": {
     "duration": 0.041625,
     "end_time": "2020-10-27T11:30:42.427861",
     "exception": false,
     "start_time": "2020-10-27T11:30:42.386236",
     "status": "completed"
    },
    "tags": []
   },
   "outputs": [
    {
     "data": {
      "text/plain": [
       "46.29356846473029"
      ]
     },
     "execution_count": 13,
     "metadata": {},
     "output_type": "execute_result"
    }
   ],
   "source": [
    "len_tokens = np.array(len_of_tokens)\n",
    "\n",
    "len_tokens.mean()"
   ]
  },
  {
   "cell_type": "markdown",
   "metadata": {
    "papermill": {
     "duration": 0.033193,
     "end_time": "2020-10-27T11:30:42.493346",
     "exception": false,
     "start_time": "2020-10-27T11:30:42.460153",
     "status": "completed"
    },
    "tags": []
   },
   "source": [
    "* Mean of lengths is 46. But we should choose a bigger value. Let's examine what would happen if we choose 60 as size."
   ]
  },
  {
   "cell_type": "code",
   "execution_count": 14,
   "metadata": {
    "execution": {
     "iopub.execute_input": "2020-10-27T11:30:42.567309Z",
     "iopub.status.busy": "2020-10-27T11:30:42.566478Z",
     "iopub.status.idle": "2020-10-27T11:30:42.570636Z",
     "shell.execute_reply": "2020-10-27T11:30:42.570159Z"
    },
    "papermill": {
     "duration": 0.043882,
     "end_time": "2020-10-27T11:30:42.570754",
     "exception": false,
     "start_time": "2020-10-27T11:30:42.526872",
     "status": "completed"
    },
    "tags": []
   },
   "outputs": [
    {
     "name": "stdout",
     "output_type": "stream",
     "text": [
      "%77.80082987551867 of the texts containts words less than 60 \n"
     ]
    }
   ],
   "source": [
    "def padding_determiner(word_len):\n",
    "    count = 0\n",
    "    for len_ in len_tokens:\n",
    "    \n",
    "        if len_<word_len:\n",
    "        \n",
    "            count+=1\n",
    "        \n",
    "    print(\"%\",count*100 / 964, \" of the texts containts words less than {} \".format(word_len),sep = \"\")\n",
    "\n",
    "padding_determiner(60)"
   ]
  },
  {
   "cell_type": "markdown",
   "metadata": {
    "papermill": {
     "duration": 0.032431,
     "end_time": "2020-10-27T11:30:42.635331",
     "exception": false,
     "start_time": "2020-10-27T11:30:42.602900",
     "status": "completed"
    },
    "tags": []
   },
   "source": [
    "77 is a bit bad. Let's try 80"
   ]
  },
  {
   "cell_type": "code",
   "execution_count": 15,
   "metadata": {
    "execution": {
     "iopub.execute_input": "2020-10-27T11:30:42.708617Z",
     "iopub.status.busy": "2020-10-27T11:30:42.707899Z",
     "iopub.status.idle": "2020-10-27T11:30:42.711733Z",
     "shell.execute_reply": "2020-10-27T11:30:42.712345Z"
    },
    "papermill": {
     "duration": 0.043048,
     "end_time": "2020-10-27T11:30:42.712507",
     "exception": false,
     "start_time": "2020-10-27T11:30:42.669459",
     "status": "completed"
    },
    "tags": []
   },
   "outputs": [
    {
     "name": "stdout",
     "output_type": "stream",
     "text": [
      "%96.57676348547717 of the texts containts words less than 200 \n"
     ]
    }
   ],
   "source": [
    "padding_determiner(200)"
   ]
  },
  {
   "cell_type": "markdown",
   "metadata": {
    "papermill": {
     "duration": 0.034321,
     "end_time": "2020-10-27T11:30:42.780836",
     "exception": false,
     "start_time": "2020-10-27T11:30:42.746515",
     "status": "completed"
    },
    "tags": []
   },
   "source": [
    "* We can use 200 as our size. Let's move on to padding!"
   ]
  },
  {
   "cell_type": "markdown",
   "metadata": {
    "papermill": {
     "duration": 0.032837,
     "end_time": "2020-10-27T11:30:42.846947",
     "exception": false,
     "start_time": "2020-10-27T11:30:42.814110",
     "status": "completed"
    },
    "tags": []
   },
   "source": [
    "# Padding"
   ]
  },
  {
   "cell_type": "code",
   "execution_count": 16,
   "metadata": {
    "execution": {
     "iopub.execute_input": "2020-10-27T11:30:42.918491Z",
     "iopub.status.busy": "2020-10-27T11:30:42.917656Z",
     "iopub.status.idle": "2020-10-27T11:30:42.938162Z",
     "shell.execute_reply": "2020-10-27T11:30:42.937461Z"
    },
    "papermill": {
     "duration": 0.058223,
     "end_time": "2020-10-27T11:30:42.938292",
     "exception": false,
     "start_time": "2020-10-27T11:30:42.880069",
     "status": "completed"
    },
    "tags": []
   },
   "outputs": [
    {
     "name": "stdout",
     "output_type": "stream",
     "text": [
      "[  0   0   0   0   0   0   0   0   0   0   0   0   0   0   0   0   0   0\n",
      "   0   0   0   0   0   0   0   0   0   0   0   0   0   0   0   0   0   0\n",
      "   0   0   0   0   0   0   0   0   0   0   0   0   0   0   0   0   0   0\n",
      "   0   0   0   0   0   0   0   0   0   0   0   0   0   0   0   0   0   0\n",
      "   0   0   0   0   0   0   0   0   0   0   0   0   0   0   0   0   0   0\n",
      "   0   0   0   0   0   0   0   0   0   0   0   0   0   0   0   0   0   0\n",
      "   0   0   0   0   0   0   0   0   0   0   0   0   0   0   0   0   0   0\n",
      "   0   0   0   0   0   0   0   0   0   0   0   0   0   0   0   0   0   0\n",
      "   0   0   0   0   0   0   0   0   0   0   0   0   0   0   0   0   0   0\n",
      "   0   0   0   0   0   0   0   0   0   0   0   0   0   0   0   0   0   0\n",
      "   0   0   0   0   0   0   0   0   0   0   0   0   0   0   0  58 960   2\n",
      "  59   2]\n"
     ]
    }
   ],
   "source": [
    "maxlen = 200\n",
    "x_pad = pad_sequences(x_token,maxlen=maxlen)\n",
    "\n",
    "print(x_pad[321])\n",
    "\n"
   ]
  },
  {
   "cell_type": "markdown",
   "metadata": {
    "papermill": {
     "duration": 0.033487,
     "end_time": "2020-10-27T11:30:43.006469",
     "exception": false,
     "start_time": "2020-10-27T11:30:42.972982",
     "status": "completed"
    },
    "tags": []
   },
   "source": [
    "* Our data is ready, now let's split our data into train and test."
   ]
  },
  {
   "cell_type": "markdown",
   "metadata": {
    "papermill": {
     "duration": 0.034225,
     "end_time": "2020-10-27T11:30:43.074994",
     "exception": false,
     "start_time": "2020-10-27T11:30:43.040769",
     "status": "completed"
    },
    "tags": []
   },
   "source": [
    "# Train Test Split\n",
    "\n",
    "We have a prepared data and we can use it to train our model. But if we use it all for training, how do we test our model. In order to solve this problem, we will split our data randomly."
   ]
  },
  {
   "cell_type": "code",
   "execution_count": 17,
   "metadata": {
    "execution": {
     "iopub.execute_input": "2020-10-27T11:30:43.161823Z",
     "iopub.status.busy": "2020-10-27T11:30:43.161025Z",
     "iopub.status.idle": "2020-10-27T11:30:43.164133Z",
     "shell.execute_reply": "2020-10-27T11:30:43.164611Z"
    },
    "papermill": {
     "duration": 0.054382,
     "end_time": "2020-10-27T11:30:43.164733",
     "exception": false,
     "start_time": "2020-10-27T11:30:43.110351",
     "status": "completed"
    },
    "tags": []
   },
   "outputs": [
    {
     "data": {
      "text/plain": [
       "(964,)"
      ]
     },
     "execution_count": 17,
     "metadata": {},
     "output_type": "execute_result"
    }
   ],
   "source": [
    "# Let's remind our y\n",
    "y.shape"
   ]
  },
  {
   "cell_type": "code",
   "execution_count": 18,
   "metadata": {
    "execution": {
     "iopub.execute_input": "2020-10-27T11:30:43.240121Z",
     "iopub.status.busy": "2020-10-27T11:30:43.239171Z",
     "iopub.status.idle": "2020-10-27T11:30:43.244273Z",
     "shell.execute_reply": "2020-10-27T11:30:43.243717Z"
    },
    "papermill": {
     "duration": 0.044522,
     "end_time": "2020-10-27T11:30:43.244372",
     "exception": false,
     "start_time": "2020-10-27T11:30:43.199850",
     "status": "completed"
    },
    "tags": []
   },
   "outputs": [],
   "source": [
    "x_train,x_test,y_train,y_test = train_test_split(np.array(x_pad),fin_y,test_size=0.2,random_state=1)\n"
   ]
  },
  {
   "cell_type": "markdown",
   "metadata": {
    "papermill": {
     "duration": 0.03409,
     "end_time": "2020-10-27T11:30:43.313528",
     "exception": false,
     "start_time": "2020-10-27T11:30:43.279438",
     "status": "completed"
    },
    "tags": []
   },
   "source": [
    "# Training Deep Learning Model\n",
    "\n",
    "In this section we will build our model using our prepared data. We will use a simple GRU."
   ]
  },
  {
   "cell_type": "code",
   "execution_count": 19,
   "metadata": {
    "execution": {
     "iopub.execute_input": "2020-10-27T11:30:43.392468Z",
     "iopub.status.busy": "2020-10-27T11:30:43.391670Z",
     "iopub.status.idle": "2020-10-27T11:30:46.486496Z",
     "shell.execute_reply": "2020-10-27T11:30:46.487388Z"
    },
    "papermill": {
     "duration": 3.137574,
     "end_time": "2020-10-27T11:30:46.487531",
     "exception": false,
     "start_time": "2020-10-27T11:30:43.349957",
     "status": "completed"
    },
    "tags": []
   },
   "outputs": [
    {
     "name": "stdout",
     "output_type": "stream",
     "text": [
      "Model: \"sequential\"\n",
      "_________________________________________________________________\n",
      "Layer (type)                 Output Shape              Param #   \n",
      "=================================================================\n",
      "embedding (Embedding)        (None, 200, 50)           250000    \n",
      "_________________________________________________________________\n",
      "cu_dnngru (CuDNNGRU)         (None, 200, 16)           3264      \n",
      "_________________________________________________________________\n",
      "cu_dnngru_1 (CuDNNGRU)       (None, 8)                 624       \n",
      "_________________________________________________________________\n",
      "dense (Dense)                (None, 1)                 9         \n",
      "=================================================================\n",
      "Total params: 253,897\n",
      "Trainable params: 253,897\n",
      "Non-trainable params: 0\n",
      "_________________________________________________________________\n"
     ]
    }
   ],
   "source": [
    "model = Sequential()\n",
    "model.add(Embedding(input_dim=num_words\n",
    "                   ,output_dim=50\n",
    "                   ,input_length=maxlen))\n",
    "\n",
    "model.add(CuDNNGRU(units=16,return_sequences = True))\n",
    "\n",
    "model.add(CuDNNGRU(units=8))\n",
    "\n",
    "model.add(Dense(1,activation=\"sigmoid\"))\n",
    "\n",
    "model.compile(loss=\"binary_crossentropy\",optimizer=\"adam\",metrics=[\"accuracy\"])\n",
    "\n",
    "model.summary()"
   ]
  },
  {
   "cell_type": "markdown",
   "metadata": {
    "papermill": {
     "duration": 0.036025,
     "end_time": "2020-10-27T11:30:46.559220",
     "exception": false,
     "start_time": "2020-10-27T11:30:46.523195",
     "status": "completed"
    },
    "tags": []
   },
   "source": [
    "# Fitting GRU Model\n",
    "\n",
    "In this section I am going to fit the model that I've created in previous section."
   ]
  },
  {
   "cell_type": "code",
   "execution_count": 20,
   "metadata": {
    "execution": {
     "iopub.execute_input": "2020-10-27T11:30:46.636720Z",
     "iopub.status.busy": "2020-10-27T11:30:46.635872Z",
     "iopub.status.idle": "2020-10-27T11:31:04.393499Z",
     "shell.execute_reply": "2020-10-27T11:31:04.394100Z"
    },
    "papermill": {
     "duration": 17.798438,
     "end_time": "2020-10-27T11:31:04.394272",
     "exception": false,
     "start_time": "2020-10-27T11:30:46.595834",
     "status": "completed"
    },
    "tags": []
   },
   "outputs": [
    {
     "name": "stdout",
     "output_type": "stream",
     "text": [
      "Epoch 1/20\n",
      "16/16 [==============================] - 4s 228ms/step - loss: 0.6927 - accuracy: 0.5084\n",
      "Epoch 2/20\n",
      "16/16 [==============================] - 0s 17ms/step - loss: 0.6829 - accuracy: 0.6213\n",
      "Epoch 3/20\n",
      "16/16 [==============================] - 0s 16ms/step - loss: 0.6568 - accuracy: 0.7484\n",
      "Epoch 4/20\n",
      "16/16 [==============================] - 0s 16ms/step - loss: 0.5639 - accuracy: 0.8703\n",
      "Epoch 5/20\n",
      "16/16 [==============================] - 1s 33ms/step - loss: 0.3432 - accuracy: 0.9222\n",
      "Epoch 6/20\n",
      "16/16 [==============================] - 0s 20ms/step - loss: 0.2132 - accuracy: 0.9235\n",
      "Epoch 7/20\n",
      "16/16 [==============================] - 0s 25ms/step - loss: 0.1957 - accuracy: 0.9222\n",
      "Epoch 8/20\n",
      "16/16 [==============================] - 0s 26ms/step - loss: 0.1626 - accuracy: 0.9468\n",
      "Epoch 9/20\n",
      "16/16 [==============================] - 0s 18ms/step - loss: 0.1445 - accuracy: 0.9572\n",
      "Epoch 10/20\n",
      "16/16 [==============================] - 0s 16ms/step - loss: 0.1311 - accuracy: 0.9624\n",
      "Epoch 11/20\n",
      "16/16 [==============================] - 0s 17ms/step - loss: 0.1211 - accuracy: 0.9611\n",
      "Epoch 12/20\n",
      "16/16 [==============================] - 0s 25ms/step - loss: 0.1129 - accuracy: 0.9650\n",
      "Epoch 13/20\n",
      "16/16 [==============================] - 0s 24ms/step - loss: 0.1052 - accuracy: 0.9663\n",
      "Epoch 14/20\n",
      "16/16 [==============================] - 0s 17ms/step - loss: 0.0987 - accuracy: 0.9676\n",
      "Epoch 15/20\n",
      "16/16 [==============================] - 0s 19ms/step - loss: 0.0917 - accuracy: 0.9689\n",
      "Epoch 16/20\n",
      "16/16 [==============================] - 0s 16ms/step - loss: 0.0859 - accuracy: 0.9715\n",
      "Epoch 17/20\n",
      "16/16 [==============================] - 0s 16ms/step - loss: 0.0781 - accuracy: 0.9741\n",
      "Epoch 18/20\n",
      "16/16 [==============================] - 0s 17ms/step - loss: 0.0725 - accuracy: 0.9767\n",
      "Epoch 19/20\n",
      "16/16 [==============================] - 0s 16ms/step - loss: 0.0647 - accuracy: 0.9792\n",
      "Epoch 20/20\n",
      "16/16 [==============================] - 0s 16ms/step - loss: 0.0580 - accuracy: 0.9792\n"
     ]
    },
    {
     "data": {
      "text/plain": [
       "<tensorflow.python.keras.callbacks.History at 0x7fc9ec035d50>"
      ]
     },
     "execution_count": 20,
     "metadata": {},
     "output_type": "execute_result"
    }
   ],
   "source": [
    "model.fit(x_train,y_train,epochs=20,batch_size=50)"
   ]
  },
  {
   "cell_type": "markdown",
   "metadata": {
    "papermill": {
     "duration": 0.086671,
     "end_time": "2020-10-27T11:31:04.570380",
     "exception": false,
     "start_time": "2020-10-27T11:31:04.483709",
     "status": "completed"
    },
    "tags": []
   },
   "source": [
    "# Predicting and Evaluating Results\n",
    "\n",
    "Our model is ready, now we can do some predictions."
   ]
  },
  {
   "cell_type": "code",
   "execution_count": 21,
   "metadata": {
    "execution": {
     "iopub.execute_input": "2020-10-27T11:31:04.750818Z",
     "iopub.status.busy": "2020-10-27T11:31:04.749816Z",
     "iopub.status.idle": "2020-10-27T11:31:11.919163Z",
     "shell.execute_reply": "2020-10-27T11:31:11.919612Z"
    },
    "papermill": {
     "duration": 7.263358,
     "end_time": "2020-10-27T11:31:11.919788",
     "exception": false,
     "start_time": "2020-10-27T11:31:04.656430",
     "status": "completed"
    },
    "tags": []
   },
   "outputs": [
    {
     "data": {
      "text/plain": [
       "0.7668393782383419"
      ]
     },
     "execution_count": 21,
     "metadata": {},
     "output_type": "execute_result"
    }
   ],
   "source": [
    "from sklearn.metrics import accuracy_score\n",
    "y_pred = model.predict_classes(x_test)\n",
    "\n",
    "accuracy_score(y_test,y_pred)"
   ]
  },
  {
   "cell_type": "markdown",
   "metadata": {
    "papermill": {
     "duration": 0.08559,
     "end_time": "2020-10-27T11:31:12.091398",
     "exception": false,
     "start_time": "2020-10-27T11:31:12.005808",
     "status": "completed"
    },
    "tags": []
   },
   "source": [
    "* Our score is %76. It is not bad."
   ]
  },
  {
   "cell_type": "markdown",
   "metadata": {
    "papermill": {
     "duration": 0.090481,
     "end_time": "2020-10-27T11:31:12.268119",
     "exception": false,
     "start_time": "2020-10-27T11:31:12.177638",
     "status": "completed"
    },
    "tags": []
   },
   "source": [
    "# Conclusion\n",
    "\n",
    "Thanks for your attention, if you like this kernel, please upvote. \n",
    "\n",
    "And if you have questions in your mind, please ask I will definetely asnwer your questions as much as I can. "
   ]
  }
 ],
 "metadata": {
  "kernelspec": {
   "display_name": "Python 3",
   "language": "python",
   "name": "python3"
  },
  "language_info": {
   "codemirror_mode": {
    "name": "ipython",
    "version": 3
   },
   "file_extension": ".py",
   "mimetype": "text/x-python",
   "name": "python",
   "nbconvert_exporter": "python",
   "pygments_lexer": "ipython3",
   "version": "3.7.6"
  },
  "papermill": {
   "duration": 44.800934,
   "end_time": "2020-10-27T11:31:13.789380",
   "environment_variables": {},
   "exception": null,
   "input_path": "__notebook__.ipynb",
   "output_path": "__notebook__.ipynb",
   "parameters": {},
   "start_time": "2020-10-27T11:30:28.988446",
   "version": "2.1.0"
  }
 },
 "nbformat": 4,
 "nbformat_minor": 4
}
