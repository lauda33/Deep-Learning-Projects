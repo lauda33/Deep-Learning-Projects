{
 "cells": [
  {
   "cell_type": "markdown",
   "metadata": {
    "papermill": {
     "duration": 0.028096,
     "end_time": "2020-11-01T09:26:31.013210",
     "exception": false,
     "start_time": "2020-11-01T09:26:30.985114",
     "status": "completed"
    },
    "tags": []
   },
   "source": [
    "# Starter: Text Generation with Keras\n",
    "\n",
    "Hello people, welcome to this kernel. In this kernel I am gonna generate text using RNNs. I will explain everything step-by-step. Before starting, let's take a look at our content.\n",
    "\n",
    "# Notebook Content\n",
    "1. Importing Libraries and The Data\n",
    "1. Data Overview\n",
    "1. Data Processing\n",
    "    * Char Dataset\n",
    "    * Sequence Dataset\n",
    "    * Splitting Input and Target\n",
    "    * Batching\n",
    "1. Modeling\n",
    "    * Sequence Model\n",
    "    * Loss Function and Compiling The Model\n",
    "    * Fitting Model\n",
    "1. Evaluating\n",
    "    * Loading Model\n",
    "    * Text Generating Function\n",
    "1. Conclusion"
   ]
  },
  {
   "cell_type": "markdown",
   "metadata": {
    "papermill": {
     "duration": 0.026831,
     "end_time": "2020-11-01T09:26:31.068258",
     "exception": false,
     "start_time": "2020-11-01T09:26:31.041427",
     "status": "completed"
    },
    "tags": []
   },
   "source": [
    "# Importing Libraries and The Data\n",
    "\n",
    "In this section I am going to import the libraries that I will use."
   ]
  },
  {
   "cell_type": "code",
   "execution_count": 1,
   "metadata": {
    "_cell_guid": "79c7e3d0-c299-4dcb-8224-4455121ee9b0",
    "_uuid": "d629ff2d2480ee46fbb7e2d37f6b5fab8052498a",
    "execution": {
     "iopub.execute_input": "2020-11-01T09:26:31.127057Z",
     "iopub.status.busy": "2020-11-01T09:26:31.126296Z",
     "iopub.status.idle": "2020-11-01T09:26:36.294503Z",
     "shell.execute_reply": "2020-11-01T09:26:36.295181Z"
    },
    "papermill": {
     "duration": 5.199631,
     "end_time": "2020-11-01T09:26:36.295466",
     "exception": false,
     "start_time": "2020-11-01T09:26:31.095835",
     "status": "completed"
    },
    "tags": []
   },
   "outputs": [],
   "source": [
    "import tensorflow as tf\n",
    "import numpy as np\n",
    "import os "
   ]
  },
  {
   "cell_type": "code",
   "execution_count": 2,
   "metadata": {
    "execution": {
     "iopub.execute_input": "2020-11-01T09:26:36.457611Z",
     "iopub.status.busy": "2020-11-01T09:26:36.456554Z",
     "iopub.status.idle": "2020-11-01T09:26:36.500002Z",
     "shell.execute_reply": "2020-11-01T09:26:36.500873Z"
    },
    "papermill": {
     "duration": 0.134274,
     "end_time": "2020-11-01T09:26:36.501061",
     "exception": false,
     "start_time": "2020-11-01T09:26:36.366787",
     "status": "completed"
    },
    "tags": []
   },
   "outputs": [
    {
     "name": "stdout",
     "output_type": "stream",
     "text": [
      "\r\n",
      "CHAPTER I\r\n",
      "\r\n",
      "“Well, Prince, so Genoa and Lucca are now just family estates of the\r\n",
      "Buonapartes. But I warn you, if you don’t tell me that this means war,\r\n",
      "if you still try to defend the infamies and horrors perpetrated by that\r\n",
      "Antichrist—I really believe he is Antichrist—I will have nothing\r\n",
      "more to do with you and you are no longer my friend, no longer my\r\n",
      "‘faithful slave,’ as you call yourself! But how do you do? I see I\r\n",
      "have frightened you—sit down and tell me all the news.”\r\n",
      "\r\n",
      "It was in July, 1805, and the speaker was the well-known Anna Pávlovna\r\n",
      "Schérer, maid of honor and favorite of the Empress Márya Fëdorovna.\r\n",
      "With these words she greeted Prince Vasíli Kurágin, a man of high\r\n",
      "rank and importance, who was the first to arrive at her reception. Anna\r\n",
      "Pávlovna had had a cough for some days. She was, as she said, suffering\r\n",
      "from la grippe; grippe being then a new word in St. Petersburg, used\r\n",
      "only by the elite.\r\n",
      "\r\n",
      "All her invitations without exception, written in French, and de\n"
     ]
    }
   ],
   "source": [
    "text = open(\"../input/war-and-peace-project-gutenberg/war_peace_plain.txt\",\"rb\").read().decode(\"utf-8\")\n",
    "print(text[:1000])"
   ]
  },
  {
   "cell_type": "markdown",
   "metadata": {
    "papermill": {
     "duration": 0.041856,
     "end_time": "2020-11-01T09:26:36.586267",
     "exception": false,
     "start_time": "2020-11-01T09:26:36.544411",
     "status": "completed"
    },
    "tags": []
   },
   "source": [
    "# Data Overview\n",
    "\n",
    "In this section I am going to take a look at the data."
   ]
  },
  {
   "cell_type": "code",
   "execution_count": 3,
   "metadata": {
    "execution": {
     "iopub.execute_input": "2020-11-01T09:26:36.677515Z",
     "iopub.status.busy": "2020-11-01T09:26:36.676610Z",
     "iopub.status.idle": "2020-11-01T09:26:36.684642Z",
     "shell.execute_reply": "2020-11-01T09:26:36.685447Z"
    },
    "papermill": {
     "duration": 0.057478,
     "end_time": "2020-11-01T09:26:36.685633",
     "exception": false,
     "start_time": "2020-11-01T09:26:36.628155",
     "status": "completed"
    },
    "tags": []
   },
   "outputs": [
    {
     "name": "stdout",
     "output_type": "stream",
     "text": [
      "There are 3266503 char in the text\n"
     ]
    }
   ],
   "source": [
    "print(\"There are {} char in the text\".format(len(text)))"
   ]
  },
  {
   "cell_type": "code",
   "execution_count": 4,
   "metadata": {
    "execution": {
     "iopub.execute_input": "2020-11-01T09:26:36.871429Z",
     "iopub.status.busy": "2020-11-01T09:26:36.870308Z",
     "iopub.status.idle": "2020-11-01T09:26:36.885759Z",
     "shell.execute_reply": "2020-11-01T09:26:36.887141Z"
    },
    "papermill": {
     "duration": 0.161671,
     "end_time": "2020-11-01T09:26:36.887387",
     "exception": false,
     "start_time": "2020-11-01T09:26:36.725716",
     "status": "completed"
    },
    "tags": []
   },
   "outputs": [
    {
     "name": "stdout",
     "output_type": "stream",
     "text": [
      "There are 105 unique char in the text\n"
     ]
    }
   ],
   "source": [
    "vocab = sorted(set(text))\n",
    "print(\"There are {} unique char in the text\".format(len(vocab)))"
   ]
  },
  {
   "cell_type": "code",
   "execution_count": 5,
   "metadata": {
    "execution": {
     "iopub.execute_input": "2020-11-01T09:26:37.039407Z",
     "iopub.status.busy": "2020-11-01T09:26:37.038511Z",
     "iopub.status.idle": "2020-11-01T09:26:37.440644Z",
     "shell.execute_reply": "2020-11-01T09:26:37.442119Z"
    },
    "papermill": {
     "duration": 0.508304,
     "end_time": "2020-11-01T09:26:37.442347",
     "exception": false,
     "start_time": "2020-11-01T09:26:36.934043",
     "status": "completed"
    },
    "tags": []
   },
   "outputs": [
    {
     "name": "stdout",
     "output_type": "stream",
     "text": [
      "[1, 0, 27, 32, 25, 40, 44, 29, 42, 2, 33, 1, 0, 1, 0, 103, 47, 55, 62, 62]\n"
     ]
    }
   ],
   "source": [
    "char2idx = {u:i for i,u in enumerate(vocab)}\n",
    "idx2char = np.array(vocab)\n",
    "\n",
    "text_as_int = [char2idx[char] for char in text]\n",
    "\n",
    "print(text_as_int[:20])"
   ]
  },
  {
   "cell_type": "markdown",
   "metadata": {
    "papermill": {
     "duration": 0.030023,
     "end_time": "2020-11-01T09:26:37.520357",
     "exception": false,
     "start_time": "2020-11-01T09:26:37.490334",
     "status": "completed"
    },
    "tags": []
   },
   "source": [
    "* I give an index to each unique char. In order to give indexes to chars I've used enumerate function of Python."
   ]
  },
  {
   "cell_type": "markdown",
   "metadata": {
    "papermill": {
     "duration": 0.029311,
     "end_time": "2020-11-01T09:26:37.579255",
     "exception": false,
     "start_time": "2020-11-01T09:26:37.549944",
     "status": "completed"
    },
    "tags": []
   },
   "source": [
    "# Data Processing\n",
    "\n",
    "In this section I am going to prepare the dataset in order to use in our future deep learning model."
   ]
  },
  {
   "cell_type": "code",
   "execution_count": 6,
   "metadata": {
    "execution": {
     "iopub.execute_input": "2020-11-01T09:26:37.681641Z",
     "iopub.status.busy": "2020-11-01T09:26:37.671431Z",
     "iopub.status.idle": "2020-11-01T09:26:54.993047Z",
     "shell.execute_reply": "2020-11-01T09:26:54.993611Z"
    },
    "papermill": {
     "duration": 17.385234,
     "end_time": "2020-11-01T09:26:54.993779",
     "exception": false,
     "start_time": "2020-11-01T09:26:37.608545",
     "status": "completed"
    },
    "tags": []
   },
   "outputs": [
    {
     "name": "stdout",
     "output_type": "stream",
     "text": [
      " 1\n",
      "\\n 0\n",
      "C 27\n",
      "H 32\n",
      "A 25\n",
      "P 40\n",
      "T 44\n",
      "E 29\n",
      "R 42\n",
      "SPACE 2\n"
     ]
    }
   ],
   "source": [
    "char_dataset = tf.data.Dataset.from_tensor_slices(text_as_int)\n",
    "\n",
    "for index in char_dataset.take(10):\n",
    "    if idx2char[index.numpy()] == \" \":\n",
    "        print(\"SPACE\",index.numpy())\n",
    "    elif idx2char[index.numpy()] == \"\\n\":\n",
    "        print(\"\\\\n\",index.numpy())\n",
    "    else:\n",
    "        print(idx2char[index.numpy()],index.numpy())\n",
    "    "
   ]
  },
  {
   "cell_type": "markdown",
   "metadata": {
    "papermill": {
     "duration": 0.031658,
     "end_time": "2020-11-01T09:26:55.057634",
     "exception": false,
     "start_time": "2020-11-01T09:26:55.025976",
     "status": "completed"
    },
    "tags": []
   },
   "source": [
    "I've sliced the dataset by each char so, each iteration is a character from the text."
   ]
  },
  {
   "cell_type": "code",
   "execution_count": 7,
   "metadata": {
    "execution": {
     "iopub.execute_input": "2020-11-01T09:26:55.129026Z",
     "iopub.status.busy": "2020-11-01T09:26:55.128075Z",
     "iopub.status.idle": "2020-11-01T09:26:55.143645Z",
     "shell.execute_reply": "2020-11-01T09:26:55.144497Z"
    },
    "papermill": {
     "duration": 0.055096,
     "end_time": "2020-11-01T09:26:55.144696",
     "exception": false,
     "start_time": "2020-11-01T09:26:55.089600",
     "status": "completed"
    },
    "tags": []
   },
   "outputs": [
    {
     "name": "stdout",
     "output_type": "stream",
     "text": [
      "tf.Tensor(\n",
      "[  1   0  27  32  25  40  44  29  42   2  33   1   0   1   0 103  47  55\n",
      "  62  62   7   2  40  68  59  64  53  55   7   2  69  65   2  31  55  64\n",
      "  65  51   2  51  64  54   2  36  71  53  53  51   2  51  68  55   2  64\n",
      "  65  73   2  60  71  69  70   2  56  51  63  59  62  75   2  55  69  70\n",
      "  51  70  55  69   2  65  56   2  70  58  55   1   0  26  71  65  64  51\n",
      "  66  51  68  70  55  69   9   2  26  71  70], shape=(101,), dtype=int32)\n",
      "\n",
      "\n",
      "['\\r' '\\n' 'C' 'H' 'A' 'P' 'T' 'E' 'R' ' ' 'I' '\\r' '\\n' '\\r' '\\n' '“' 'W'\n",
      " 'e' 'l' 'l' ',' ' ' 'P' 'r' 'i' 'n' 'c' 'e' ',' ' ' 's' 'o' ' ' 'G' 'e'\n",
      " 'n' 'o' 'a' ' ' 'a' 'n' 'd' ' ' 'L' 'u' 'c' 'c' 'a' ' ' 'a' 'r' 'e' ' '\n",
      " 'n' 'o' 'w' ' ' 'j' 'u' 's' 't' ' ' 'f' 'a' 'm' 'i' 'l' 'y' ' ' 'e' 's'\n",
      " 't' 'a' 't' 'e' 's' ' ' 'o' 'f' ' ' 't' 'h' 'e' '\\r' '\\n' 'B' 'u' 'o' 'n'\n",
      " 'a' 'p' 'a' 'r' 't' 'e' 's' '.' ' ' 'B' 'u' 't']\n",
      "\r\n",
      "CHAPTER I\r\n",
      "\r\n",
      "“Well, Prince, so Genoa and Lucca are now just family estates of the\r\n",
      "Buonapartes. But\n"
     ]
    }
   ],
   "source": [
    "seq_length = 100\n",
    "sequences = char_dataset.batch(seq_length+1,drop_remainder=True)\n",
    "\n",
    "for item in sequences.take(1):\n",
    "    \n",
    "    print(item,end=\"\\n\")\n",
    "    print(\"\\n\")\n",
    "    print(idx2char[item],end=\"\\n\")\n",
    "    print(\"\".join(idx2char[item]))"
   ]
  },
  {
   "cell_type": "markdown",
   "metadata": {
    "papermill": {
     "duration": 0.032818,
     "end_time": "2020-11-01T09:26:55.211661",
     "exception": false,
     "start_time": "2020-11-01T09:26:55.178843",
     "status": "completed"
    },
    "tags": []
   },
   "source": [
    "Now, I've created sequences. Each sequences contains 100 chars. I'will use these sequences in order to create input and target."
   ]
  },
  {
   "cell_type": "code",
   "execution_count": 8,
   "metadata": {
    "execution": {
     "iopub.execute_input": "2020-11-01T09:26:55.290145Z",
     "iopub.status.busy": "2020-11-01T09:26:55.289138Z",
     "iopub.status.idle": "2020-11-01T09:26:55.475984Z",
     "shell.execute_reply": "2020-11-01T09:26:55.476748Z"
    },
    "papermill": {
     "duration": 0.231779,
     "end_time": "2020-11-01T09:26:55.476965",
     "exception": false,
     "start_time": "2020-11-01T09:26:55.245186",
     "status": "completed"
    },
    "tags": []
   },
   "outputs": [
    {
     "name": "stdout",
     "output_type": "stream",
     "text": [
      "Input Example\n",
      "\r\n",
      "CHAPTER I\r\n",
      "\r\n",
      "“Well, Prince, so Genoa and Lucca are now just family estates of the\r\n",
      "Buonapartes. Bu\n",
      "\n",
      "\n",
      "Target Example\n",
      "\n",
      "CHAPTER I\r\n",
      "\r\n",
      "“Well, Prince, so Genoa and Lucca are now just family estates of the\r\n",
      "Buonapartes. But\n"
     ]
    }
   ],
   "source": [
    "def split_input_target(chunk):\n",
    "    \"\"\"\n",
    "    A function that converts sequences into input_text and target_text\n",
    "    \"\"\"\n",
    "    input_text = chunk[:-1]\n",
    "    target_text = chunk[1:]\n",
    "    return input_text,target_text\n",
    "\n",
    "dataset = sequences.map(split_input_target)\n",
    "\n",
    "for input_example,target_example in dataset.take(1):\n",
    "    \n",
    "    print(\"Input Example\")\n",
    "    print(\"\".join(idx2char[input_example.numpy()]))\n",
    "    print(\"\\n\")\n",
    "    print(\"Target Example\")\n",
    "    print(\"\".join(idx2char[target_example.numpy()]))\n",
    "\n"
   ]
  },
  {
   "cell_type": "markdown",
   "metadata": {
    "papermill": {
     "duration": 0.049162,
     "end_time": "2020-11-01T09:26:55.574126",
     "exception": false,
     "start_time": "2020-11-01T09:26:55.524964",
     "status": "completed"
    },
    "tags": []
   },
   "source": [
    "First I defined a function that converts each chunk into input_text and target_text. In char based models, I generally use this method. \n",
    "\n",
    "After that,I applied this function to every chunk."
   ]
  },
  {
   "cell_type": "markdown",
   "metadata": {
    "papermill": {
     "duration": 0.046792,
     "end_time": "2020-11-01T09:26:55.667610",
     "exception": false,
     "start_time": "2020-11-01T09:26:55.620818",
     "status": "completed"
    },
    "tags": []
   },
   "source": [
    "## Batching\n",
    "\n",
    "In this section I am going to split dataset into batches. But before batching, I will shuffle the dataset."
   ]
  },
  {
   "cell_type": "code",
   "execution_count": 9,
   "metadata": {
    "execution": {
     "iopub.execute_input": "2020-11-01T09:26:55.768027Z",
     "iopub.status.busy": "2020-11-01T09:26:55.767019Z",
     "iopub.status.idle": "2020-11-01T09:26:55.780467Z",
     "shell.execute_reply": "2020-11-01T09:26:55.781659Z"
    },
    "papermill": {
     "duration": 0.067591,
     "end_time": "2020-11-01T09:26:55.781854",
     "exception": false,
     "start_time": "2020-11-01T09:26:55.714263",
     "status": "completed"
    },
    "tags": []
   },
   "outputs": [
    {
     "data": {
      "text/plain": [
       "<BatchDataset shapes: ((128, 100), (128, 100)), types: (tf.int32, tf.int32)>"
      ]
     },
     "execution_count": 9,
     "metadata": {},
     "output_type": "execute_result"
    }
   ],
   "source": [
    "BATCH_SIZE = 128\n",
    "BUFFER_SIZE = 10000\n",
    "\n",
    "dataset = dataset.shuffle(BUFFER_SIZE).batch(BATCH_SIZE,drop_remainder=True)\n",
    "\n",
    "dataset\n"
   ]
  },
  {
   "cell_type": "markdown",
   "metadata": {
    "papermill": {
     "duration": 0.050911,
     "end_time": "2020-11-01T09:26:55.874548",
     "exception": false,
     "start_time": "2020-11-01T09:26:55.823637",
     "status": "completed"
    },
    "tags": []
   },
   "source": [
    "# Sequence Model\n",
    "\n",
    "In this section I am going to build a seqeunce model in order to generate texts. In text generating, we use RNNs. There are many types of RNNs, like Simple RNN, LSTM and GRU.\n",
    "\n",
    "Simple RNN is the most primitive version of RNN. It has problems, so we don't use it. In this kernel I am going to use GRU as RNN layer. You can also try LSTM. Both are good RNNs.\n",
    "\n",
    "Before building the model. Let's take a look at the layers that we will use.\n",
    "\n",
    "### Layers\n",
    "1. Embedding Layers: In order to create word vectors, we will use this layer.\n",
    "1. GRU1 : It is the first RNN layer of the model\n",
    "1. GRU2: It is the second RNN layer of the model\n",
    "1. GRU3: It is the third RNN layer of the model\n",
    "1. Dense: It is the output layer of the model.\n",
    "\n",
    "Now that we know our layers. Let's build and compile the model.\n"
   ]
  },
  {
   "cell_type": "code",
   "execution_count": 10,
   "metadata": {
    "execution": {
     "iopub.execute_input": "2020-11-01T09:26:55.978244Z",
     "iopub.status.busy": "2020-11-01T09:26:55.977349Z",
     "iopub.status.idle": "2020-11-01T09:26:55.981354Z",
     "shell.execute_reply": "2020-11-01T09:26:55.982090Z"
    },
    "papermill": {
     "duration": 0.059931,
     "end_time": "2020-11-01T09:26:55.982292",
     "exception": false,
     "start_time": "2020-11-01T09:26:55.922361",
     "status": "completed"
    },
    "tags": []
   },
   "outputs": [],
   "source": [
    "# loading everything\n",
    "from tensorflow.python.keras.layers import Dense,CuDNNGRU,Embedding\n",
    "from tensorflow.python.keras.models import Sequential\n",
    "from tensorflow.python.keras.callbacks import ModelCheckpoint"
   ]
  },
  {
   "cell_type": "code",
   "execution_count": 11,
   "metadata": {
    "execution": {
     "iopub.execute_input": "2020-11-01T09:26:56.088712Z",
     "iopub.status.busy": "2020-11-01T09:26:56.087683Z",
     "iopub.status.idle": "2020-11-01T09:26:56.090374Z",
     "shell.execute_reply": "2020-11-01T09:26:56.089593Z"
    },
    "papermill": {
     "duration": 0.060509,
     "end_time": "2020-11-01T09:26:56.090515",
     "exception": false,
     "start_time": "2020-11-01T09:26:56.030006",
     "status": "completed"
    },
    "tags": []
   },
   "outputs": [],
   "source": [
    "# Determining parameters\n",
    "\n",
    "vocab_size = len(vocab)\n",
    "\n",
    "# Embedding dimension, size of each word vector\n",
    "embedding_dim = 256\n",
    "\n",
    "# Unit number of each GRU\n",
    "rnn_units = 1024"
   ]
  },
  {
   "cell_type": "markdown",
   "metadata": {
    "papermill": {
     "duration": 0.048266,
     "end_time": "2020-11-01T09:26:56.186331",
     "exception": false,
     "start_time": "2020-11-01T09:26:56.138065",
     "status": "completed"
    },
    "tags": []
   },
   "source": [
    "* Now I am gonna define a function that helps us to build our model."
   ]
  },
  {
   "cell_type": "code",
   "execution_count": 12,
   "metadata": {
    "execution": {
     "iopub.execute_input": "2020-11-01T09:26:56.297154Z",
     "iopub.status.busy": "2020-11-01T09:26:56.296193Z",
     "iopub.status.idle": "2020-11-01T09:26:56.301292Z",
     "shell.execute_reply": "2020-11-01T09:26:56.302512Z"
    },
    "papermill": {
     "duration": 0.067713,
     "end_time": "2020-11-01T09:26:56.302705",
     "exception": false,
     "start_time": "2020-11-01T09:26:56.234992",
     "status": "completed"
    },
    "tags": []
   },
   "outputs": [],
   "source": [
    "def build_model(vocab_size,embedding_dim,rnn_units,batch_size):\n",
    "    \n",
    "    model = Sequential()\n",
    "    \n",
    "    model.add(Embedding(vocab_size,\n",
    "                       embedding_dim,\n",
    "                       batch_input_shape=[batch_size,None]))\n",
    "    \n",
    "    model.add(CuDNNGRU(rnn_units,\n",
    "                      return_sequences=True,\n",
    "                      stateful=True,\n",
    "                      recurrent_initializer=\"glorot_uniform\"))\n",
    "    \n",
    "    model.add(CuDNNGRU(rnn_units,\n",
    "                      return_sequences=True,\n",
    "                      stateful=True,\n",
    "                      recurrent_initializer=\"glorot_uniform\"))\n",
    "    \n",
    "    model.add(CuDNNGRU(rnn_units,\n",
    "                      return_sequences=True,\n",
    "                      stateful=True,\n",
    "                      recurrent_initializer=\"glorot_uniform\"))\n",
    "    \n",
    "    model.add(Dense(vocab_size))\n",
    "    \n",
    "    return model\n"
   ]
  },
  {
   "cell_type": "markdown",
   "metadata": {
    "papermill": {
     "duration": 0.048153,
     "end_time": "2020-11-01T09:26:56.400901",
     "exception": false,
     "start_time": "2020-11-01T09:26:56.352748",
     "status": "completed"
    },
    "tags": []
   },
   "source": [
    "* Our function is ready, now let's create our model."
   ]
  },
  {
   "cell_type": "code",
   "execution_count": 13,
   "metadata": {
    "execution": {
     "iopub.execute_input": "2020-11-01T09:26:56.514577Z",
     "iopub.status.busy": "2020-11-01T09:26:56.512308Z",
     "iopub.status.idle": "2020-11-01T09:26:57.077168Z",
     "shell.execute_reply": "2020-11-01T09:26:57.076376Z"
    },
    "papermill": {
     "duration": 0.627669,
     "end_time": "2020-11-01T09:26:57.077306",
     "exception": false,
     "start_time": "2020-11-01T09:26:56.449637",
     "status": "completed"
    },
    "tags": []
   },
   "outputs": [
    {
     "name": "stdout",
     "output_type": "stream",
     "text": [
      "Model: \"sequential\"\n",
      "_________________________________________________________________\n",
      "Layer (type)                 Output Shape              Param #   \n",
      "=================================================================\n",
      "embedding (Embedding)        (128, None, 256)          26880     \n",
      "_________________________________________________________________\n",
      "cu_dnngru (CuDNNGRU)         (128, None, 1024)         3938304   \n",
      "_________________________________________________________________\n",
      "cu_dnngru_1 (CuDNNGRU)       (128, None, 1024)         6297600   \n",
      "_________________________________________________________________\n",
      "cu_dnngru_2 (CuDNNGRU)       (128, None, 1024)         6297600   \n",
      "_________________________________________________________________\n",
      "dense (Dense)                (128, None, 105)          107625    \n",
      "=================================================================\n",
      "Total params: 16,668,009\n",
      "Trainable params: 16,668,009\n",
      "Non-trainable params: 0\n",
      "_________________________________________________________________\n"
     ]
    }
   ],
   "source": [
    "model = build_model(vocab_size,\n",
    "                    embedding_dim,\n",
    "                    rnn_units,\n",
    "                   BATCH_SIZE)\n",
    "\n",
    "model.summary()"
   ]
  },
  {
   "cell_type": "markdown",
   "metadata": {
    "papermill": {
     "duration": 0.034629,
     "end_time": "2020-11-01T09:26:57.147355",
     "exception": false,
     "start_time": "2020-11-01T09:26:57.112726",
     "status": "completed"
    },
    "tags": []
   },
   "source": [
    "## Loss Function and Compiling The Model"
   ]
  },
  {
   "cell_type": "markdown",
   "metadata": {
    "papermill": {
     "duration": 0.034471,
     "end_time": "2020-11-01T09:26:57.216370",
     "exception": false,
     "start_time": "2020-11-01T09:26:57.181899",
     "status": "completed"
    },
    "tags": []
   },
   "source": [
    "Now, I will define the loss and after that I will compile the model."
   ]
  },
  {
   "cell_type": "code",
   "execution_count": 14,
   "metadata": {
    "execution": {
     "iopub.execute_input": "2020-11-01T09:26:57.293711Z",
     "iopub.status.busy": "2020-11-01T09:26:57.292941Z",
     "iopub.status.idle": "2020-11-01T09:26:57.297019Z",
     "shell.execute_reply": "2020-11-01T09:26:57.297574Z"
    },
    "papermill": {
     "duration": 0.046433,
     "end_time": "2020-11-01T09:26:57.297723",
     "exception": false,
     "start_time": "2020-11-01T09:26:57.251290",
     "status": "completed"
    },
    "tags": []
   },
   "outputs": [],
   "source": [
    "def loss(labels,logits):\n",
    "    return tf.keras.losses.sparse_categorical_crossentropy(labels,logits,from_logits=True)"
   ]
  },
  {
   "attachments": {
    "image-6.png": {
     "image/png": "[encoded data removed]"
    }
   },
   "cell_type": "markdown",
   "metadata": {
    "papermill": {
     "duration": 0.035285,
     "end_time": "2020-11-01T09:26:57.368159",
     "exception": false,
     "start_time": "2020-11-01T09:26:57.332874",
     "status": "completed"
    },
    "tags": []
   },
   "source": [
    "* We will use sparse categorical cross entropy, here is the formula:\n",
    "\n",
    "![image-6.png](attachment:image-6.png)"
   ]
  },
  {
   "cell_type": "markdown",
   "metadata": {
    "papermill": {
     "duration": 0.035114,
     "end_time": "2020-11-01T09:26:57.438957",
     "exception": false,
     "start_time": "2020-11-01T09:26:57.403843",
     "status": "completed"
    },
    "tags": []
   },
   "source": [
    "* Let's compile the model."
   ]
  },
  {
   "cell_type": "code",
   "execution_count": 15,
   "metadata": {
    "execution": {
     "iopub.execute_input": "2020-11-01T09:26:57.523485Z",
     "iopub.status.busy": "2020-11-01T09:26:57.522721Z",
     "iopub.status.idle": "2020-11-01T09:26:57.540449Z",
     "shell.execute_reply": "2020-11-01T09:26:57.539571Z"
    },
    "papermill": {
     "duration": 0.065737,
     "end_time": "2020-11-01T09:26:57.540607",
     "exception": false,
     "start_time": "2020-11-01T09:26:57.474870",
     "status": "completed"
    },
    "tags": []
   },
   "outputs": [
    {
     "name": "stdout",
     "output_type": "stream",
     "text": [
      "Model: \"sequential\"\n",
      "_________________________________________________________________\n",
      "Layer (type)                 Output Shape              Param #   \n",
      "=================================================================\n",
      "embedding (Embedding)        (128, None, 256)          26880     \n",
      "_________________________________________________________________\n",
      "cu_dnngru (CuDNNGRU)         (128, None, 1024)         3938304   \n",
      "_________________________________________________________________\n",
      "cu_dnngru_1 (CuDNNGRU)       (128, None, 1024)         6297600   \n",
      "_________________________________________________________________\n",
      "cu_dnngru_2 (CuDNNGRU)       (128, None, 1024)         6297600   \n",
      "_________________________________________________________________\n",
      "dense (Dense)                (128, None, 105)          107625    \n",
      "=================================================================\n",
      "Total params: 16,668,009\n",
      "Trainable params: 16,668,009\n",
      "Non-trainable params: 0\n",
      "_________________________________________________________________\n"
     ]
    }
   ],
   "source": [
    "model.compile(optimizer=\"rmsprop\",loss=loss)\n",
    "model.summary()"
   ]
  },
  {
   "cell_type": "markdown",
   "metadata": {
    "papermill": {
     "duration": 0.035329,
     "end_time": "2020-11-01T09:26:57.611670",
     "exception": false,
     "start_time": "2020-11-01T09:26:57.576341",
     "status": "completed"
    },
    "tags": []
   },
   "source": [
    "Our model has compiled, now there is only one step before fitting the model. Preparing the callback."
   ]
  },
  {
   "cell_type": "code",
   "execution_count": 16,
   "metadata": {
    "execution": {
     "iopub.execute_input": "2020-11-01T09:26:57.689828Z",
     "iopub.status.busy": "2020-11-01T09:26:57.689059Z",
     "iopub.status.idle": "2020-11-01T09:26:57.693859Z",
     "shell.execute_reply": "2020-11-01T09:26:57.693127Z"
    },
    "papermill": {
     "duration": 0.046921,
     "end_time": "2020-11-01T09:26:57.693985",
     "exception": false,
     "start_time": "2020-11-01T09:26:57.647064",
     "status": "completed"
    },
    "tags": []
   },
   "outputs": [],
   "source": [
    "# Directory where the checkpoints will be saved\n",
    "\n",
    "# Creating a folder\n",
    "os.mkdir('./training_checkpoints')\n",
    "\n",
    "checkpoint_dir = './training_checkpoints'\n",
    "# Name of the checkpoint files\n",
    "\n",
    "checkpoint_prefix = os.path.join(checkpoint_dir, \"ckpt_{epoch}\")\n",
    "\n",
    "checkpoint_callback = tf.keras.callbacks.ModelCheckpoint(\n",
    "    filepath=checkpoint_prefix,\n",
    "    save_weights_only=True)"
   ]
  },
  {
   "cell_type": "markdown",
   "metadata": {
    "papermill": {
     "duration": 0.034941,
     "end_time": "2020-11-01T09:26:57.764899",
     "exception": false,
     "start_time": "2020-11-01T09:26:57.729958",
     "status": "completed"
    },
    "tags": []
   },
   "source": [
    "# Fitting Model\n",
    "\n",
    "In this section we will fix the model using our prepared dataset. "
   ]
  },
  {
   "cell_type": "code",
   "execution_count": 17,
   "metadata": {
    "execution": {
     "iopub.execute_input": "2020-11-01T09:26:57.842835Z",
     "iopub.status.busy": "2020-11-01T09:26:57.841702Z",
     "iopub.status.idle": "2020-11-01T09:36:53.874369Z",
     "shell.execute_reply": "2020-11-01T09:36:53.873852Z"
    },
    "papermill": {
     "duration": 596.073686,
     "end_time": "2020-11-01T09:36:53.874481",
     "exception": false,
     "start_time": "2020-11-01T09:26:57.800795",
     "status": "completed"
    },
    "tags": []
   },
   "outputs": [
    {
     "name": "stdout",
     "output_type": "stream",
     "text": [
      "Epoch 1/10\n",
      "252/252 [==============================] - 57s 226ms/step - loss: 3.1517\n",
      "Epoch 2/10\n",
      "252/252 [==============================] - 57s 225ms/step - loss: 2.2377\n",
      "Epoch 3/10\n",
      "252/252 [==============================] - 57s 226ms/step - loss: 1.6720\n",
      "Epoch 4/10\n",
      "252/252 [==============================] - 57s 226ms/step - loss: 1.4215\n",
      "Epoch 5/10\n",
      "252/252 [==============================] - 57s 227ms/step - loss: 1.3191\n",
      "Epoch 6/10\n",
      "252/252 [==============================] - 57s 226ms/step - loss: 1.2619\n",
      "Epoch 7/10\n",
      "252/252 [==============================] - 57s 225ms/step - loss: 1.2209\n",
      "Epoch 8/10\n",
      "252/252 [==============================] - 57s 225ms/step - loss: 1.1881\n",
      "Epoch 9/10\n",
      "252/252 [==============================] - 57s 226ms/step - loss: 1.1601\n",
      "Epoch 10/10\n",
      "252/252 [==============================] - 57s 226ms/step - loss: 1.1336\n"
     ]
    },
    {
     "data": {
      "text/plain": [
       "<tensorflow.python.keras.callbacks.History at 0x7fa775883f50>"
      ]
     },
     "execution_count": 17,
     "metadata": {},
     "output_type": "execute_result"
    }
   ],
   "source": [
    "EPOCHS = 10\n",
    "model.fit(dataset,epochs=EPOCHS,callbacks=[checkpoint_callback])"
   ]
  },
  {
   "cell_type": "markdown",
   "metadata": {
    "papermill": {
     "duration": 0.90811,
     "end_time": "2020-11-01T09:36:55.722968",
     "exception": false,
     "start_time": "2020-11-01T09:36:54.814858",
     "status": "completed"
    },
    "tags": []
   },
   "source": [
    "# Evaluating Model\n",
    "\n",
    "In this section I am going to use the trained model. I'll start with rebuilding the model."
   ]
  },
  {
   "cell_type": "markdown",
   "metadata": {
    "papermill": {
     "duration": 0.945939,
     "end_time": "2020-11-01T09:36:57.575013",
     "exception": false,
     "start_time": "2020-11-01T09:36:56.629074",
     "status": "completed"
    },
    "tags": []
   },
   "source": [
    "## Loading Model\n",
    "In this section I am going to rebuild model, you know our model takes 64 batches but we want to give only batch. In order to do this, I am going to rebuild model."
   ]
  },
  {
   "cell_type": "code",
   "execution_count": 18,
   "metadata": {
    "execution": {
     "iopub.execute_input": "2020-11-01T09:36:59.424124Z",
     "iopub.status.busy": "2020-11-01T09:36:59.422936Z",
     "iopub.status.idle": "2020-11-01T09:36:59.662062Z",
     "shell.execute_reply": "2020-11-01T09:36:59.660714Z"
    },
    "papermill": {
     "duration": 1.160805,
     "end_time": "2020-11-01T09:36:59.662181",
     "exception": false,
     "start_time": "2020-11-01T09:36:58.501376",
     "status": "completed"
    },
    "tags": []
   },
   "outputs": [],
   "source": [
    "model = build_model(vocab_size, embedding_dim, rnn_units, batch_size=1)\n",
    "\n",
    "model.load_weights(tf.train.latest_checkpoint(checkpoint_dir))\n",
    "\n",
    "model.build(tf.TensorShape([1, None]))"
   ]
  },
  {
   "cell_type": "markdown",
   "metadata": {
    "papermill": {
     "duration": 0.931333,
     "end_time": "2020-11-01T09:37:01.510207",
     "exception": false,
     "start_time": "2020-11-01T09:37:00.578874",
     "status": "completed"
    },
    "tags": []
   },
   "source": [
    "* Now let's define a function in order to generate texts."
   ]
  },
  {
   "cell_type": "code",
   "execution_count": 19,
   "metadata": {
    "execution": {
     "iopub.execute_input": "2020-11-01T09:37:03.604965Z",
     "iopub.status.busy": "2020-11-01T09:37:03.604072Z",
     "iopub.status.idle": "2020-11-01T09:37:03.614292Z",
     "shell.execute_reply": "2020-11-01T09:37:03.615395Z"
    },
    "papermill": {
     "duration": 1.17001,
     "end_time": "2020-11-01T09:37:03.615558",
     "exception": false,
     "start_time": "2020-11-01T09:37:02.445548",
     "status": "completed"
    },
    "tags": []
   },
   "outputs": [],
   "source": [
    "def generateText(model,start_string,char_size,temp=1.0):\n",
    "    \n",
    "    # Length of the text (as char)\n",
    "    num_generate = char_size\n",
    "    \n",
    "    # Converting start string to numbers\n",
    "    input_eval = [char2idx[s] for s in start_string]\n",
    "    input_eval = tf.expand_dims(input_eval,0)\n",
    "    \n",
    "    text_generated = []\n",
    "    \n",
    "    # Low temperature results in more predictable text.\n",
    "    # Higher temperature results in more surprising text.\n",
    "    temperature = temp\n",
    "    \n",
    "    model.reset_states()\n",
    "    for i in range(num_generate):\n",
    "        predictions = model(input_eval)\n",
    "        \n",
    "        # remove the batch dimension\n",
    "        predictions = tf.squeeze(predictions, 0)\n",
    "\n",
    "        # using a categorical distribution to predict the character returned by the model\n",
    "        predictions = predictions / temperature\n",
    "        predicted_id = tf.random.categorical(predictions, num_samples=1)[-1,0].numpy()\n",
    "\n",
    "        # Pass the predicted character as the next input to the model\n",
    "        # along with the previous hidden state\n",
    "        input_eval = tf.expand_dims([predicted_id], 0)\n",
    "\n",
    "        text_generated.append(idx2char[predicted_id])\n",
    "\n",
    "    return (start_string + ''.join(text_generated))"
   ]
  },
  {
   "cell_type": "markdown",
   "metadata": {
    "papermill": {
     "duration": 1.184658,
     "end_time": "2020-11-01T09:37:05.840823",
     "exception": false,
     "start_time": "2020-11-01T09:37:04.656165",
     "status": "completed"
    },
    "tags": []
   },
   "source": [
    "* Finally we came to the funniest stage. Let's create some texts."
   ]
  },
  {
   "cell_type": "code",
   "execution_count": 20,
   "metadata": {
    "execution": {
     "iopub.execute_input": "2020-11-01T09:37:07.694871Z",
     "iopub.status.busy": "2020-11-01T09:37:07.693881Z",
     "iopub.status.idle": "2020-11-01T09:37:31.903281Z",
     "shell.execute_reply": "2020-11-01T09:37:31.902121Z"
    },
    "papermill": {
     "duration": 25.13525,
     "end_time": "2020-11-01T09:37:31.903424",
     "exception": false,
     "start_time": "2020-11-01T09:37:06.768174",
     "status": "completed"
    },
    "tags": []
   },
   "outputs": [
    {
     "name": "stdout",
     "output_type": "stream",
     "text": [
      "CHAPTER 1 \n",
      "What a girl wanted the Twar! What\r\n",
      "is the hour, but that we have went from\r\n",
      "a wheel: the other had prepared, that is great even\r\n",
      "in warxagt tones. You understand her brothers who had never seen an\r\n",
      "expedient distance and departure, the reason\r\n",
      "with her taste seemed to haut the Kalúga Kurákin and a\r\n",
      "shaven hand. The aide-de-camp and shouted and\r\n",
      "heward again never had the cheerise voice\r\n",
      "unexpressed page leave and shouted with a panic and tried to real what was on duty there was passing\r\n",
      "or had getting not to talk away and gave the rapturous and apparent tears from the artner that is given and\r\n",
      "truth about yu. Mademoiselle Bourienne we can no is exertion was being cheered her and pregna was very\r\n",
      "talk with her that was there could please his presence. But from a handkerchief was bran\r\n",
      " in he saw the corrected the same to her exaggerated, and the joyous step\r\n",
      "and felt that the Kerng heapt and obtained her husband in a particular\r\n",
      "effect a group when we have true?”\r\n",
      "\r\n",
      "Yet after the whole \n"
     ]
    }
   ],
   "source": [
    "print(generateText(model,start_string=\"CHAPTER 1 \\n\",char_size=1000))"
   ]
  },
  {
   "cell_type": "markdown",
   "metadata": {
    "papermill": {
     "duration": 0.931892,
     "end_time": "2020-11-01T09:37:33.788698",
     "exception": false,
     "start_time": "2020-11-01T09:37:32.856806",
     "status": "completed"
    },
    "tags": []
   },
   "source": [
    "* Text looks good, it does not look meaningful but nice anyway. \n",
    "* If you read War and Peace, you will see the characters in this text. Rostov, Natasha and Pierre are characters in the book.\n",
    "* And I realised one more thing. In book, place names are in Russian and the model confused when it wants to create a place name. "
   ]
  },
  {
   "cell_type": "markdown",
   "metadata": {
    "papermill": {
     "duration": 0.971032,
     "end_time": "2020-11-01T09:37:35.695221",
     "exception": false,
     "start_time": "2020-11-01T09:37:34.724189",
     "status": "completed"
    },
    "tags": []
   },
   "source": [
    "# Conclusion\n",
    "\n",
    "Thanks for your attention, if you have questions in your mind, please ask. I will answer your questions as much as I can."
   ]
  },
  {
   "cell_type": "code",
   "execution_count": null,
   "metadata": {
    "papermill": {
     "duration": 0.916519,
     "end_time": "2020-11-01T09:37:38.900739",
     "exception": false,
     "start_time": "2020-11-01T09:37:37.984220",
     "status": "completed"
    },
    "tags": []
   },
   "outputs": [],
   "source": []
  }
 ],
 "metadata": {
  "kernelspec": {
   "display_name": "Python 3",
   "language": "python",
   "name": "python3"
  },
  "language_info": {
   "codemirror_mode": {
    "name": "ipython",
    "version": 3
   },
   "file_extension": ".py",
   "mimetype": "text/x-python",
   "name": "python",
   "nbconvert_exporter": "python",
   "pygments_lexer": "ipython3",
   "version": "3.7.6"
  },
  "papermill": {
   "duration": 674.290888,
   "end_time": "2020-11-01T09:37:41.399840",
   "environment_variables": {},
   "exception": null,
   "input_path": "__notebook__.ipynb",
   "output_path": "__notebook__.ipynb",
   "parameters": {},
   "start_time": "2020-11-01T09:26:27.108952",
   "version": "2.1.0"
  }
 },
 "nbformat": 4,
 "nbformat_minor": 4
}
