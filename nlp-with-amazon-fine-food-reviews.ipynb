{
 "cells": [
  {
   "cell_type": "markdown",
   "metadata": {
    "papermill": {
     "duration": 0.017893,
     "end_time": "2020-11-19T12:10:23.872903",
     "exception": false,
     "start_time": "2020-11-19T12:10:23.855010",
     "status": "completed"
    },
    "tags": []
   },
   "source": [
    "# Introduction\n",
    "Hello people, welcome to this kernel. In this kernel I am going to classify food reviews using RNNs. I will explain everything. Before starting, let's take a look at the content of this kernel.\n",
    "\n",
    "# Notebook Content\n",
    "1. Importing Libraries and The Data\n",
    "1. Natural Language Processing\n",
    "1. Training RNN Model\n",
    "1. Evaluating Model\n",
    "1. Conclusion"
   ]
  },
  {
   "cell_type": "markdown",
   "metadata": {
    "papermill": {
     "duration": 0.016872,
     "end_time": "2020-11-19T12:10:23.906740",
     "exception": false,
     "start_time": "2020-11-19T12:10:23.889868",
     "status": "completed"
    },
    "tags": []
   },
   "source": [
    "# Importing Libraries and The Data\n",
    "In this section I am going to import libraries that I will use. In this kernel I will use Keras as deep learning library. And I will use GRU as RNN model. But you can try LSTM as well."
   ]
  },
  {
   "cell_type": "code",
   "execution_count": 1,
   "metadata": {
    "_cell_guid": "b1076dfc-b9ad-4769-8c92-a6c4dae69d19",
    "_uuid": "8f2839f25d086af736a60e9eeb907d3b93b6e0e5",
    "execution": {
     "iopub.execute_input": "2020-11-19T12:10:23.953062Z",
     "iopub.status.busy": "2020-11-19T12:10:23.952238Z",
     "iopub.status.idle": "2020-11-19T12:10:28.331524Z",
     "shell.execute_reply": "2020-11-19T12:10:28.330890Z"
    },
    "papermill": {
     "duration": 4.406908,
     "end_time": "2020-11-19T12:10:28.331651",
     "exception": false,
     "start_time": "2020-11-19T12:10:23.924743",
     "status": "completed"
    },
    "tags": []
   },
   "outputs": [
    {
     "name": "stdout",
     "output_type": "stream",
     "text": [
      "/kaggle/input/amazon-fine-food-reviews/database.sqlite\n",
      "/kaggle/input/amazon-fine-food-reviews/hashes.txt\n",
      "/kaggle/input/amazon-fine-food-reviews/Reviews.csv\n"
     ]
    }
   ],
   "source": [
    "# This Python 3 environment comes with many helpful analytics libraries installed\n",
    "# It is defined by the kaggle/python Docker image: https://github.com/kaggle/docker-python\n",
    "# For example, here's several helpful packages to load\n",
    "\n",
    "import numpy as np # linear algebra\n",
    "import pandas as pd # data processing, CSV file I/O (e.g. pd.read_csv)\n",
    "\n",
    "import matplotlib.pyplot as plt\n",
    "\n",
    "from keras.models import Sequential\n",
    "from keras.layers import GRU,Dense,Embedding\n",
    "from tensorflow.python.keras.layers import CuDNNGRU\n",
    "\n",
    "import re \n",
    "from tensorflow.python.keras.preprocessing.text import Tokenizer\n",
    "from tensorflow.python.keras.preprocessing.sequence import pad_sequences\n",
    "\n",
    "# Input data files are available in the read-only \"../input/\" directory\n",
    "# For example, running this (by clicking run or pressing Shift+Enter) will list all files under the input directory\n",
    "\n",
    "import os\n",
    "for dirname, _, filenames in os.walk('/kaggle/input'):\n",
    "    for filename in filenames:\n",
    "        print(os.path.join(dirname, filename))\n",
    "\n",
    "# You can write up to 20GB to the current directory (/kaggle/working/) that gets preserved as output when you create a version using \"Save & Run All\" \n",
    "# You can also write temporary files to /kaggle/temp/, but they won't be saved outside of the current session"
   ]
  },
  {
   "cell_type": "code",
   "execution_count": 2,
   "metadata": {
    "_cell_guid": "79c7e3d0-c299-4dcb-8224-4455121ee9b0",
    "_uuid": "d629ff2d2480ee46fbb7e2d37f6b5fab8052498a",
    "execution": {
     "iopub.execute_input": "2020-11-19T12:10:28.375182Z",
     "iopub.status.busy": "2020-11-19T12:10:28.374504Z",
     "iopub.status.idle": "2020-11-19T12:10:33.431083Z",
     "shell.execute_reply": "2020-11-19T12:10:33.430547Z"
    },
    "papermill": {
     "duration": 5.079957,
     "end_time": "2020-11-19T12:10:33.431213",
     "exception": false,
     "start_time": "2020-11-19T12:10:28.351256",
     "status": "completed"
    },
    "tags": []
   },
   "outputs": [
    {
     "data": {
      "text/html": [
       "<div>\n",
       "<style scoped>\n",
       "    .dataframe tbody tr th:only-of-type {\n",
       "        vertical-align: middle;\n",
       "    }\n",
       "\n",
       "    .dataframe tbody tr th {\n",
       "        vertical-align: top;\n",
       "    }\n",
       "\n",
       "    .dataframe thead th {\n",
       "        text-align: right;\n",
       "    }\n",
       "</style>\n",
       "<table border=\"1\" class=\"dataframe\">\n",
       "  <thead>\n",
       "    <tr style=\"text-align: right;\">\n",
       "      <th></th>\n",
       "      <th>Id</th>\n",
       "      <th>ProductId</th>\n",
       "      <th>UserId</th>\n",
       "      <th>ProfileName</th>\n",
       "      <th>HelpfulnessNumerator</th>\n",
       "      <th>HelpfulnessDenominator</th>\n",
       "      <th>Score</th>\n",
       "      <th>Time</th>\n",
       "      <th>Summary</th>\n",
       "      <th>Text</th>\n",
       "    </tr>\n",
       "  </thead>\n",
       "  <tbody>\n",
       "    <tr>\n",
       "      <th>0</th>\n",
       "      <td>1</td>\n",
       "      <td>B001E4KFG0</td>\n",
       "      <td>A3SGXH7AUHU8GW</td>\n",
       "      <td>delmartian</td>\n",
       "      <td>1</td>\n",
       "      <td>1</td>\n",
       "      <td>5</td>\n",
       "      <td>1303862400</td>\n",
       "      <td>Good Quality Dog Food</td>\n",
       "      <td>I have bought several of the Vitality canned d...</td>\n",
       "    </tr>\n",
       "    <tr>\n",
       "      <th>1</th>\n",
       "      <td>2</td>\n",
       "      <td>B00813GRG4</td>\n",
       "      <td>A1D87F6ZCVE5NK</td>\n",
       "      <td>dll pa</td>\n",
       "      <td>0</td>\n",
       "      <td>0</td>\n",
       "      <td>1</td>\n",
       "      <td>1346976000</td>\n",
       "      <td>Not as Advertised</td>\n",
       "      <td>Product arrived labeled as Jumbo Salted Peanut...</td>\n",
       "    </tr>\n",
       "    <tr>\n",
       "      <th>2</th>\n",
       "      <td>3</td>\n",
       "      <td>B000LQOCH0</td>\n",
       "      <td>ABXLMWJIXXAIN</td>\n",
       "      <td>Natalia Corres \"Natalia Corres\"</td>\n",
       "      <td>1</td>\n",
       "      <td>1</td>\n",
       "      <td>4</td>\n",
       "      <td>1219017600</td>\n",
       "      <td>\"Delight\" says it all</td>\n",
       "      <td>This is a confection that has been around a fe...</td>\n",
       "    </tr>\n",
       "    <tr>\n",
       "      <th>3</th>\n",
       "      <td>4</td>\n",
       "      <td>B000UA0QIQ</td>\n",
       "      <td>A395BORC6FGVXV</td>\n",
       "      <td>Karl</td>\n",
       "      <td>3</td>\n",
       "      <td>3</td>\n",
       "      <td>2</td>\n",
       "      <td>1307923200</td>\n",
       "      <td>Cough Medicine</td>\n",
       "      <td>If you are looking for the secret ingredient i...</td>\n",
       "    </tr>\n",
       "    <tr>\n",
       "      <th>4</th>\n",
       "      <td>5</td>\n",
       "      <td>B006K2ZZ7K</td>\n",
       "      <td>A1UQRSCLF8GW1T</td>\n",
       "      <td>Michael D. Bigham \"M. Wassir\"</td>\n",
       "      <td>0</td>\n",
       "      <td>0</td>\n",
       "      <td>5</td>\n",
       "      <td>1350777600</td>\n",
       "      <td>Great taffy</td>\n",
       "      <td>Great taffy at a great price.  There was a wid...</td>\n",
       "    </tr>\n",
       "  </tbody>\n",
       "</table>\n",
       "</div>"
      ],
      "text/plain": [
       "   Id   ProductId          UserId                      ProfileName  \\\n",
       "0   1  B001E4KFG0  A3SGXH7AUHU8GW                       delmartian   \n",
       "1   2  B00813GRG4  A1D87F6ZCVE5NK                           dll pa   \n",
       "2   3  B000LQOCH0   ABXLMWJIXXAIN  Natalia Corres \"Natalia Corres\"   \n",
       "3   4  B000UA0QIQ  A395BORC6FGVXV                             Karl   \n",
       "4   5  B006K2ZZ7K  A1UQRSCLF8GW1T    Michael D. Bigham \"M. Wassir\"   \n",
       "\n",
       "   HelpfulnessNumerator  HelpfulnessDenominator  Score        Time  \\\n",
       "0                     1                       1      5  1303862400   \n",
       "1                     0                       0      1  1346976000   \n",
       "2                     1                       1      4  1219017600   \n",
       "3                     3                       3      2  1307923200   \n",
       "4                     0                       0      5  1350777600   \n",
       "\n",
       "                 Summary                                               Text  \n",
       "0  Good Quality Dog Food  I have bought several of the Vitality canned d...  \n",
       "1      Not as Advertised  Product arrived labeled as Jumbo Salted Peanut...  \n",
       "2  \"Delight\" says it all  This is a confection that has been around a fe...  \n",
       "3         Cough Medicine  If you are looking for the secret ingredient i...  \n",
       "4            Great taffy  Great taffy at a great price.  There was a wid...  "
      ]
     },
     "execution_count": 2,
     "metadata": {},
     "output_type": "execute_result"
    }
   ],
   "source": [
    "data = pd.read_csv('/kaggle/input/amazon-fine-food-reviews/Reviews.csv')\n",
    "data.head()"
   ]
  },
  {
   "cell_type": "markdown",
   "metadata": {
    "papermill": {
     "duration": 0.019191,
     "end_time": "2020-11-19T12:10:33.468667",
     "exception": false,
     "start_time": "2020-11-19T12:10:33.449476",
     "status": "completed"
    },
    "tags": []
   },
   "source": [
    "* There are 9 features in this dataset, but at least for this kernel we will just use score and review text.        "
   ]
  },
  {
   "cell_type": "code",
   "execution_count": 3,
   "metadata": {
    "execution": {
     "iopub.execute_input": "2020-11-19T12:10:33.510794Z",
     "iopub.status.busy": "2020-11-19T12:10:33.510157Z",
     "iopub.status.idle": "2020-11-19T12:10:33.513878Z",
     "shell.execute_reply": "2020-11-19T12:10:33.514445Z"
    },
    "papermill": {
     "duration": 0.027405,
     "end_time": "2020-11-19T12:10:33.514553",
     "exception": false,
     "start_time": "2020-11-19T12:10:33.487148",
     "status": "completed"
    },
    "tags": []
   },
   "outputs": [],
   "source": [
    "x = data[\"Text\"]\n",
    "y = data[\"Score\"]\n"
   ]
  },
  {
   "cell_type": "markdown",
   "metadata": {
    "papermill": {
     "duration": 0.018609,
     "end_time": "2020-11-19T12:10:33.552543",
     "exception": false,
     "start_time": "2020-11-19T12:10:33.533934",
     "status": "completed"
    },
    "tags": []
   },
   "source": [
    "* Now, I will one hot encode our scores. Probably you know what is one hot encoding but even so I want to explain.\n",
    "\n",
    "Assume that you have a data with 3 different label classes. Your data's first 5 column is like that:\n",
    "\n",
    "                         1 \n",
    "                         0\n",
    "                         2\n",
    "                         1\n",
    "                         0"
   ]
  },
  {
   "cell_type": "markdown",
   "metadata": {
    "papermill": {
     "duration": 0.018686,
     "end_time": "2020-11-19T12:10:33.590637",
     "exception": false,
     "start_time": "2020-11-19T12:10:33.571951",
     "status": "completed"
    },
    "tags": []
   },
   "source": [
    "If you encode your data it will look like this:\n",
    "\n",
    "                    0 1 0\n",
    "                    1 0 0 \n",
    "                    0 0 1\n",
    "                    0 1 0\n",
    "                    1 0 0\n",
    "                    "
   ]
  },
  {
   "cell_type": "code",
   "execution_count": 4,
   "metadata": {
    "execution": {
     "iopub.execute_input": "2020-11-19T12:10:33.631989Z",
     "iopub.status.busy": "2020-11-19T12:10:33.631057Z",
     "iopub.status.idle": "2020-11-19T12:10:33.652670Z",
     "shell.execute_reply": "2020-11-19T12:10:33.653255Z"
    },
    "papermill": {
     "duration": 0.04473,
     "end_time": "2020-11-19T12:10:33.653370",
     "exception": false,
     "start_time": "2020-11-19T12:10:33.608640",
     "status": "completed"
    },
    "tags": []
   },
   "outputs": [
    {
     "data": {
      "text/html": [
       "<div>\n",
       "<style scoped>\n",
       "    .dataframe tbody tr th:only-of-type {\n",
       "        vertical-align: middle;\n",
       "    }\n",
       "\n",
       "    .dataframe tbody tr th {\n",
       "        vertical-align: top;\n",
       "    }\n",
       "\n",
       "    .dataframe thead th {\n",
       "        text-align: right;\n",
       "    }\n",
       "</style>\n",
       "<table border=\"1\" class=\"dataframe\">\n",
       "  <thead>\n",
       "    <tr style=\"text-align: right;\">\n",
       "      <th></th>\n",
       "      <th>1</th>\n",
       "      <th>2</th>\n",
       "      <th>3</th>\n",
       "      <th>4</th>\n",
       "      <th>5</th>\n",
       "    </tr>\n",
       "  </thead>\n",
       "  <tbody>\n",
       "    <tr>\n",
       "      <th>0</th>\n",
       "      <td>0</td>\n",
       "      <td>0</td>\n",
       "      <td>0</td>\n",
       "      <td>0</td>\n",
       "      <td>1</td>\n",
       "    </tr>\n",
       "    <tr>\n",
       "      <th>1</th>\n",
       "      <td>1</td>\n",
       "      <td>0</td>\n",
       "      <td>0</td>\n",
       "      <td>0</td>\n",
       "      <td>0</td>\n",
       "    </tr>\n",
       "    <tr>\n",
       "      <th>2</th>\n",
       "      <td>0</td>\n",
       "      <td>0</td>\n",
       "      <td>0</td>\n",
       "      <td>1</td>\n",
       "      <td>0</td>\n",
       "    </tr>\n",
       "    <tr>\n",
       "      <th>3</th>\n",
       "      <td>0</td>\n",
       "      <td>1</td>\n",
       "      <td>0</td>\n",
       "      <td>0</td>\n",
       "      <td>0</td>\n",
       "    </tr>\n",
       "    <tr>\n",
       "      <th>4</th>\n",
       "      <td>0</td>\n",
       "      <td>0</td>\n",
       "      <td>0</td>\n",
       "      <td>0</td>\n",
       "      <td>1</td>\n",
       "    </tr>\n",
       "  </tbody>\n",
       "</table>\n",
       "</div>"
      ],
      "text/plain": [
       "   1  2  3  4  5\n",
       "0  0  0  0  0  1\n",
       "1  1  0  0  0  0\n",
       "2  0  0  0  1  0\n",
       "3  0  1  0  0  0\n",
       "4  0  0  0  0  1"
      ]
     },
     "execution_count": 4,
     "metadata": {},
     "output_type": "execute_result"
    }
   ],
   "source": [
    "y = pd.get_dummies(y)\n",
    "y.head()"
   ]
  },
  {
   "cell_type": "markdown",
   "metadata": {
    "papermill": {
     "duration": 0.019664,
     "end_time": "2020-11-19T12:10:33.692358",
     "exception": false,
     "start_time": "2020-11-19T12:10:33.672694",
     "status": "completed"
    },
    "tags": []
   },
   "source": [
    "* Our y data is ready to use, now we need to process our x."
   ]
  },
  {
   "cell_type": "markdown",
   "metadata": {
    "papermill": {
     "duration": 0.019837,
     "end_time": "2020-11-19T12:10:33.732574",
     "exception": false,
     "start_time": "2020-11-19T12:10:33.712737",
     "status": "completed"
    },
    "tags": []
   },
   "source": [
    "# Natural Language Processing\n",
    "\n",
    "In this section I am going to process our x data. I will follow these steps:\n",
    "\n",
    "1. Cleaning the text\n",
    "1. Lowering the text\n",
    "1. Tokenizing\n",
    "1. Padding\n"
   ]
  },
  {
   "cell_type": "markdown",
   "metadata": {
    "papermill": {
     "duration": 0.019715,
     "end_time": "2020-11-19T12:10:33.771448",
     "exception": false,
     "start_time": "2020-11-19T12:10:33.751733",
     "status": "completed"
    },
    "tags": []
   },
   "source": [
    "### Cleaning the text\n",
    "\n",
    "In this section I am going to remove everything that is unrelevant. I will use re module for this."
   ]
  },
  {
   "cell_type": "code",
   "execution_count": 5,
   "metadata": {
    "execution": {
     "iopub.execute_input": "2020-11-19T12:10:33.838411Z",
     "iopub.status.busy": "2020-11-19T12:10:33.833233Z",
     "iopub.status.idle": "2020-11-19T12:11:00.176747Z",
     "shell.execute_reply": "2020-11-19T12:11:00.176232Z"
    },
    "papermill": {
     "duration": 26.386468,
     "end_time": "2020-11-19T12:11:00.176876",
     "exception": false,
     "start_time": "2020-11-19T12:10:33.790408",
     "status": "completed"
    },
    "tags": []
   },
   "outputs": [
    {
     "data": {
      "text/plain": [
       "['I have bought several of the Vitality canned dog food products and have found them all to be of good quality  The product looks more like a stew than a processed meat and it smells better  My Labrador is finicky and she appreciates this product better than  most ',\n",
       " 'Product arrived labeled as Jumbo Salted Peanuts   the peanuts were actually small sized unsalted  Not sure if this was an error or if the vendor intended to represent the product as  Jumbo  ']"
      ]
     },
     "execution_count": 5,
     "metadata": {},
     "output_type": "execute_result"
    }
   ],
   "source": [
    "pattern = \"[^a-zA-Z0123456789]\"\n",
    "\n",
    "x = [re.sub(pattern,\" \",text) for text in x]\n",
    "\n",
    "x[:2]"
   ]
  },
  {
   "cell_type": "markdown",
   "metadata": {
    "papermill": {
     "duration": 0.020177,
     "end_time": "2020-11-19T12:11:00.216924",
     "exception": false,
     "start_time": "2020-11-19T12:11:00.196747",
     "status": "completed"
    },
    "tags": []
   },
   "source": [
    "* Now let's lower everything."
   ]
  },
  {
   "cell_type": "code",
   "execution_count": 6,
   "metadata": {
    "execution": {
     "iopub.execute_input": "2020-11-19T12:11:00.314509Z",
     "iopub.status.busy": "2020-11-19T12:11:00.299230Z",
     "iopub.status.idle": "2020-11-19T12:11:00.701901Z",
     "shell.execute_reply": "2020-11-19T12:11:00.702411Z"
    },
    "papermill": {
     "duration": 0.463909,
     "end_time": "2020-11-19T12:11:00.702540",
     "exception": false,
     "start_time": "2020-11-19T12:11:00.238631",
     "status": "completed"
    },
    "tags": []
   },
   "outputs": [
    {
     "data": {
      "text/plain": [
       "['i have bought several of the vitality canned dog food products and have found them all to be of good quality  the product looks more like a stew than a processed meat and it smells better  my labrador is finicky and she appreciates this product better than  most ',\n",
       " 'product arrived labeled as jumbo salted peanuts   the peanuts were actually small sized unsalted  not sure if this was an error or if the vendor intended to represent the product as  jumbo  ']"
      ]
     },
     "execution_count": 6,
     "metadata": {},
     "output_type": "execute_result"
    }
   ],
   "source": [
    "x = [text.lower() for text in x]\n",
    "x[:2]"
   ]
  },
  {
   "cell_type": "markdown",
   "metadata": {
    "papermill": {
     "duration": 0.020201,
     "end_time": "2020-11-19T12:11:00.743312",
     "exception": false,
     "start_time": "2020-11-19T12:11:00.723111",
     "status": "completed"
    },
    "tags": []
   },
   "source": [
    "### Tokenizing\n",
    "Now I am going to convert words into indexes. In order to do it I will use Tokenizer."
   ]
  },
  {
   "cell_type": "code",
   "execution_count": 7,
   "metadata": {
    "execution": {
     "iopub.execute_input": "2020-11-19T12:11:00.817826Z",
     "iopub.status.busy": "2020-11-19T12:11:00.807553Z",
     "iopub.status.idle": "2020-11-19T12:11:48.557978Z",
     "shell.execute_reply": "2020-11-19T12:11:48.556933Z"
    },
    "papermill": {
     "duration": 47.794372,
     "end_time": "2020-11-19T12:11:48.558105",
     "exception": false,
     "start_time": "2020-11-19T12:11:00.763733",
     "status": "completed"
    },
    "tags": []
   },
   "outputs": [],
   "source": [
    "tokenizer = Tokenizer(num_words=5000)\n",
    "tokenizer.fit_on_texts(x)"
   ]
  },
  {
   "cell_type": "code",
   "execution_count": 8,
   "metadata": {
    "execution": {
     "iopub.execute_input": "2020-11-19T12:11:48.633889Z",
     "iopub.status.busy": "2020-11-19T12:11:48.623615Z",
     "iopub.status.idle": "2020-11-19T12:12:32.210629Z",
     "shell.execute_reply": "2020-11-19T12:12:32.211592Z"
    },
    "papermill": {
     "duration": 43.632407,
     "end_time": "2020-11-19T12:12:32.211816",
     "exception": false,
     "start_time": "2020-11-19T12:11:48.579409",
     "status": "completed"
    },
    "tags": []
   },
   "outputs": [
    {
     "name": "stdout",
     "output_type": "stream",
     "text": [
      "[2, 18, 126, 324, 7, 1, 4776, 521, 102, 53, 207, 3, 18, 118, 30, 44, 6, 32, 7, 31, 184, 1, 40, 629, 50, 27, 4, 2621, 59, 4, 1179, 447, 3, 5, 619, 100, 13, 8, 1770, 3, 85, 9, 40, 100, 59, 142]\n"
     ]
    }
   ],
   "source": [
    "x_tokens = tokenizer.texts_to_sequences(x)\n",
    "print(x_tokens[0])"
   ]
  },
  {
   "cell_type": "code",
   "execution_count": 9,
   "metadata": {
    "execution": {
     "iopub.execute_input": "2020-11-19T12:12:32.262225Z",
     "iopub.status.busy": "2020-11-19T12:12:32.261365Z",
     "iopub.status.idle": "2020-11-19T12:12:32.265946Z",
     "shell.execute_reply": "2020-11-19T12:12:32.266632Z"
    },
    "papermill": {
     "duration": 0.031589,
     "end_time": "2020-11-19T12:12:32.266790",
     "exception": false,
     "start_time": "2020-11-19T12:12:32.235201",
     "status": "completed"
    },
    "tags": []
   },
   "outputs": [
    {
     "name": "stdout",
     "output_type": "stream",
     "text": [
      "[40, 375, 2195, 25, 1948, 1079, 1, 1079, 82, 256, 195, 1050, 3585, 19, 212, 39, 9, 21, 72, 3175, 33, 39, 1, 1568, 2206, 6, 1, 40, 25]\n"
     ]
    }
   ],
   "source": [
    "print(x_tokens[1])"
   ]
  },
  {
   "cell_type": "markdown",
   "metadata": {
    "papermill": {
     "duration": 0.021919,
     "end_time": "2020-11-19T12:12:32.312484",
     "exception": false,
     "start_time": "2020-11-19T12:12:32.290565",
     "status": "completed"
    },
    "tags": []
   },
   "source": [
    "* As you can see each review has a different size, but in deep learning we determine only one shape. So we have to pad them."
   ]
  },
  {
   "cell_type": "code",
   "execution_count": 10,
   "metadata": {
    "execution": {
     "iopub.execute_input": "2020-11-19T12:12:32.396012Z",
     "iopub.status.busy": "2020-11-19T12:12:32.385681Z",
     "iopub.status.idle": "2020-11-19T12:12:32.600913Z",
     "shell.execute_reply": "2020-11-19T12:12:32.597228Z"
    },
    "papermill": {
     "duration": 0.266063,
     "end_time": "2020-11-19T12:12:32.601053",
     "exception": false,
     "start_time": "2020-11-19T12:12:32.334990",
     "status": "completed"
    },
    "tags": []
   },
   "outputs": [
    {
     "name": "stdout",
     "output_type": "stream",
     "text": [
      "Maximum length of a text is 3116\n",
      "Mean of length of the texts is 79\n"
     ]
    }
   ],
   "source": [
    "max_len = max([len(text) for text in x_tokens])\n",
    "\n",
    "mean_len = int(np.mean([len(text) for text in x_tokens]))\n",
    "print(\"Maximum length of a text is {}\".format(max_len))\n",
    "\n",
    "print(\"Mean of length of the texts is {}\".format(mean_len))"
   ]
  },
  {
   "cell_type": "code",
   "execution_count": 11,
   "metadata": {
    "execution": {
     "iopub.execute_input": "2020-11-19T12:12:32.693453Z",
     "iopub.status.busy": "2020-11-19T12:12:32.688200Z",
     "iopub.status.idle": "2020-11-19T12:12:42.993429Z",
     "shell.execute_reply": "2020-11-19T12:12:42.992498Z"
    },
    "papermill": {
     "duration": 10.366967,
     "end_time": "2020-11-19T12:12:42.993571",
     "exception": false,
     "start_time": "2020-11-19T12:12:32.626604",
     "status": "completed"
    },
    "tags": []
   },
   "outputs": [
    {
     "data": {
      "text/plain": [
       "(568454, 79)"
      ]
     },
     "execution_count": 11,
     "metadata": {},
     "output_type": "execute_result"
    }
   ],
   "source": [
    "x_tokens_pad = pad_sequences(x_tokens,maxlen=mean_len)\n",
    "x_tokens_pad.shape"
   ]
  },
  {
   "cell_type": "code",
   "execution_count": 12,
   "metadata": {
    "execution": {
     "iopub.execute_input": "2020-11-19T12:12:43.050738Z",
     "iopub.status.busy": "2020-11-19T12:12:43.050034Z",
     "iopub.status.idle": "2020-11-19T12:12:44.246621Z",
     "shell.execute_reply": "2020-11-19T12:12:44.247967Z"
    },
    "papermill": {
     "duration": 1.229734,
     "end_time": "2020-11-19T12:12:44.248211",
     "exception": false,
     "start_time": "2020-11-19T12:12:43.018477",
     "status": "completed"
    },
    "tags": []
   },
   "outputs": [
    {
     "name": "stdout",
     "output_type": "stream",
     "text": [
      "Shape of x_train is (409286, 79)\n",
      "Shape of x_val is (45477, 79)\n",
      "Shape of x_test is (113691, 79)\n",
      "Shape of y_train is (409286, 5)\n",
      "Shape of y_val is (45477, 5)\n",
      "Shape of y_test is (113691, 5)\n"
     ]
    }
   ],
   "source": [
    "from sklearn.model_selection import train_test_split\n",
    "x_train,x_test,y_train,y_test = train_test_split(x_tokens_pad,y,test_size=0.2,random_state=1)\n",
    "\n",
    "x_train,x_val,y_train,y_val = train_test_split(x_train,y_train,test_size=0.1,random_state=1)\n",
    "\n",
    "del x_tokens_pad\n",
    "del x_tokens\n",
    "\n",
    "print(\"Shape of x_train is {}\".format(x_train.shape))\n",
    "print(\"Shape of x_val is {}\".format(x_val.shape))\n",
    "print(\"Shape of x_test is {}\".format(x_test.shape))\n",
    "print(\"Shape of y_train is {}\".format(y_train.shape))\n",
    "print(\"Shape of y_val is {}\".format(y_val.shape))\n",
    "print(\"Shape of y_test is {}\".format(y_test.shape))"
   ]
  },
  {
   "cell_type": "markdown",
   "metadata": {
    "papermill": {
     "duration": 0.038055,
     "end_time": "2020-11-19T12:12:44.325374",
     "exception": false,
     "start_time": "2020-11-19T12:12:44.287319",
     "status": "completed"
    },
    "tags": []
   },
   "source": [
    "# Deep Learning"
   ]
  },
  {
   "cell_type": "code",
   "execution_count": 13,
   "metadata": {
    "execution": {
     "iopub.execute_input": "2020-11-19T12:12:44.413322Z",
     "iopub.status.busy": "2020-11-19T12:12:44.412460Z",
     "iopub.status.idle": "2020-11-19T12:12:47.171336Z",
     "shell.execute_reply": "2020-11-19T12:12:47.170672Z"
    },
    "papermill": {
     "duration": 2.805833,
     "end_time": "2020-11-19T12:12:47.171462",
     "exception": false,
     "start_time": "2020-11-19T12:12:44.365629",
     "status": "completed"
    },
    "tags": []
   },
   "outputs": [],
   "source": [
    "NODE_SIZE = 256\n",
    "NUM_CLASSES = 5\n",
    "\n",
    "VOCAB_SIZE = 5000\n",
    "VECTOR_SIZE = 100\n",
    "TOKEN_SIZE = max_len\n",
    "\n",
    "model = Sequential()\n",
    "\n",
    "model.add(Embedding(input_dim=5000,\n",
    "                   output_dim = VECTOR_SIZE,\n",
    "                   input_length = TOKEN_SIZE\n",
    "                  ))\n",
    "\n",
    "model.add(CuDNNGRU(NODE_SIZE,return_sequences=True))\n",
    "\n",
    "model.add(CuDNNGRU(NODE_SIZE,return_sequences=True))\n",
    "\n",
    "model.add(CuDNNGRU(NODE_SIZE,return_sequences=False))\n",
    "\n",
    "model.add(Dense(NUM_CLASSES,activation=\"softmax\"))\n",
    "\n",
    "model.compile(optimizer=\"adam\",loss=\"categorical_crossentropy\",metrics=[\"accuracy\"])"
   ]
  },
  {
   "cell_type": "code",
   "execution_count": 14,
   "metadata": {
    "execution": {
     "iopub.execute_input": "2020-11-19T12:12:47.231484Z",
     "iopub.status.busy": "2020-11-19T12:12:47.228999Z",
     "iopub.status.idle": "2020-11-19T12:12:47.236345Z",
     "shell.execute_reply": "2020-11-19T12:12:47.232164Z"
    },
    "papermill": {
     "duration": 0.041258,
     "end_time": "2020-11-19T12:12:47.236526",
     "exception": false,
     "start_time": "2020-11-19T12:12:47.195268",
     "status": "completed"
    },
    "tags": []
   },
   "outputs": [
    {
     "name": "stdout",
     "output_type": "stream",
     "text": [
      "Model: \"sequential\"\n",
      "_________________________________________________________________\n",
      "Layer (type)                 Output Shape              Param #   \n",
      "=================================================================\n",
      "embedding (Embedding)        (None, 3116, 100)         500000    \n",
      "_________________________________________________________________\n",
      "cu_dnngru (CuDNNGRU)         (None, 3116, 256)         274944    \n",
      "_________________________________________________________________\n",
      "cu_dnngru_1 (CuDNNGRU)       (None, 3116, 256)         394752    \n",
      "_________________________________________________________________\n",
      "cu_dnngru_2 (CuDNNGRU)       (None, 256)               394752    \n",
      "_________________________________________________________________\n",
      "dense (Dense)                (None, 5)                 1285      \n",
      "=================================================================\n",
      "Total params: 1,565,733\n",
      "Trainable params: 1,565,733\n",
      "Non-trainable params: 0\n",
      "_________________________________________________________________\n"
     ]
    }
   ],
   "source": [
    "model.summary()"
   ]
  },
  {
   "cell_type": "code",
   "execution_count": 15,
   "metadata": {
    "execution": {
     "iopub.execute_input": "2020-11-19T12:12:47.303306Z",
     "iopub.status.busy": "2020-11-19T12:12:47.302586Z",
     "iopub.status.idle": "2020-11-19T12:28:45.715658Z",
     "shell.execute_reply": "2020-11-19T12:28:45.715107Z"
    },
    "papermill": {
     "duration": 958.45077,
     "end_time": "2020-11-19T12:28:45.715806",
     "exception": false,
     "start_time": "2020-11-19T12:12:47.265036",
     "status": "completed"
    },
    "tags": []
   },
   "outputs": [
    {
     "name": "stdout",
     "output_type": "stream",
     "text": [
      "Epoch 1/3\n",
      "12791/12791 [==============================] - 321s 25ms/step - loss: 0.7103 - accuracy: 0.7353 - val_loss: 0.6371 - val_accuracy: 0.7630\n",
      "Epoch 2/3\n",
      "12791/12791 [==============================] - 314s 25ms/step - loss: 0.5921 - accuracy: 0.7788 - val_loss: 0.5994 - val_accuracy: 0.7800\n",
      "Epoch 3/3\n",
      "12791/12791 [==============================] - 315s 25ms/step - loss: 0.5349 - accuracy: 0.8033 - val_loss: 0.5893 - val_accuracy: 0.7867\n"
     ]
    },
    {
     "data": {
      "text/plain": [
       "<tensorflow.python.keras.callbacks.History at 0x7feb223ba810>"
      ]
     },
     "execution_count": 15,
     "metadata": {},
     "output_type": "execute_result"
    }
   ],
   "source": [
    "model.fit(x_train,y_train,validation_data=(x_val,y_val),epochs=3)"
   ]
  },
  {
   "cell_type": "code",
   "execution_count": 16,
   "metadata": {
    "execution": {
     "iopub.execute_input": "2020-11-19T12:28:57.382240Z",
     "iopub.status.busy": "2020-11-19T12:28:57.381097Z",
     "iopub.status.idle": "2020-11-19T12:29:30.049387Z",
     "shell.execute_reply": "2020-11-19T12:29:30.050050Z"
    },
    "papermill": {
     "duration": 38.314571,
     "end_time": "2020-11-19T12:29:30.050269",
     "exception": false,
     "start_time": "2020-11-19T12:28:51.735698",
     "status": "completed"
    },
    "tags": []
   },
   "outputs": [
    {
     "name": "stdout",
     "output_type": "stream",
     "text": [
      "3553/3553 [==============================] - 33s 9ms/step - loss: 0.5851 - accuracy: 0.7866\n"
     ]
    },
    {
     "data": {
      "text/plain": [
       "[0.5851007103919983, 0.7866234183311462]"
      ]
     },
     "execution_count": 16,
     "metadata": {},
     "output_type": "execute_result"
    }
   ],
   "source": [
    "model.evaluate(x_test,y_test)"
   ]
  }
 ],
 "metadata": {
  "kernelspec": {
   "display_name": "Python 3",
   "language": "python",
   "name": "python3"
  },
  "language_info": {
   "codemirror_mode": {
    "name": "ipython",
    "version": 3
   },
   "file_extension": ".py",
   "mimetype": "text/x-python",
   "name": "python",
   "nbconvert_exporter": "python",
   "pygments_lexer": "ipython3",
   "version": "3.7.6"
  },
  "papermill": {
   "duration": 1157.172468,
   "end_time": "2020-11-19T12:29:36.904375",
   "environment_variables": {},
   "exception": null,
   "input_path": "__notebook__.ipynb",
   "output_path": "__notebook__.ipynb",
   "parameters": {},
   "start_time": "2020-11-19T12:10:19.731907",
   "version": "2.1.0"
  }
 },
 "nbformat": 4,
 "nbformat_minor": 4
}
