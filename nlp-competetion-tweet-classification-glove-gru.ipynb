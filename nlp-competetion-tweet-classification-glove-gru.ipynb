{
 "cells": [
  {
   "cell_type": "markdown",
   "metadata": {
    "papermill": {
     "duration": 0.038971,
     "end_time": "2020-11-05T13:57:50.749345",
     "exception": false,
     "start_time": "2020-11-05T13:57:50.710374",
     "status": "completed"
    },
    "tags": []
   },
   "source": [
    "# Introduction\n",
    "\n",
    "Hello people, welcome to this kernel. In this kernel I am going to classify tweets real or not real. Before starting, let's take a look at the content\n",
    "\n",
    "# Notebook Content\n",
    "1. Importing Libraries and The Data\n",
    "1. Data Overview\n",
    "1. Label Preprocessing\n",
    "1. Cleaning Texts\n",
    "1. Natural Language Processing\n",
    "    * Tokenizing\n",
    "    * Padding\n",
    "    * Train Validation Split\n",
    "1. Loading Trained GloVe Vectors\n",
    "1. Modeling\n",
    "    * Building GRU Model\n",
    "    * Fitting GRU Model\n",
    "    * Evaluating Validation Results\n",
    "1. Submitting\n",
    "1. Conclusion"
   ]
  },
  {
   "cell_type": "markdown",
   "metadata": {
    "papermill": {
     "duration": 0.036822,
     "end_time": "2020-11-05T13:57:50.823932",
     "exception": false,
     "start_time": "2020-11-05T13:57:50.787110",
     "status": "completed"
    },
    "tags": []
   },
   "source": [
    "# Importing Libraries And The Data\n",
    "\n",
    "In this section I am going to import all the libraries that I will need and after that I will import the data."
   ]
  },
  {
   "cell_type": "code",
   "execution_count": 1,
   "metadata": {
    "_cell_guid": "b1076dfc-b9ad-4769-8c92-a6c4dae69d19",
    "_uuid": "8f2839f25d086af736a60e9eeb907d3b93b6e0e5",
    "execution": {
     "iopub.execute_input": "2020-11-05T13:57:50.908015Z",
     "iopub.status.busy": "2020-11-05T13:57:50.907244Z",
     "iopub.status.idle": "2020-11-05T13:57:58.652804Z",
     "shell.execute_reply": "2020-11-05T13:57:58.652281Z"
    },
    "papermill": {
     "duration": 7.792286,
     "end_time": "2020-11-05T13:57:58.652930",
     "exception": false,
     "start_time": "2020-11-05T13:57:50.860644",
     "status": "completed"
    },
    "tags": []
   },
   "outputs": [
    {
     "name": "stdout",
     "output_type": "stream",
     "text": [
      "/kaggle/input/glove-global-vectors-for-word-representation/glove.6B.50d.txt\n",
      "/kaggle/input/glove-global-vectors-for-word-representation/glove.6B.100d.txt\n",
      "/kaggle/input/glove-global-vectors-for-word-representation/glove.6B.200d.txt\n",
      "/kaggle/input/nlp-getting-started/test.csv\n",
      "/kaggle/input/nlp-getting-started/sample_submission.csv\n",
      "/kaggle/input/nlp-getting-started/train.csv\n"
     ]
    }
   ],
   "source": [
    "import numpy as np # linear algebra\n",
    "import pandas as pd # data processing, CSV file I/O (e.g. pd.read_csv)\n",
    "\n",
    "import matplotlib.pyplot as plt\n",
    "import seaborn as sns\n",
    "\n",
    "import nltk \n",
    "import re\n",
    "\n",
    "\n",
    "from tensorflow.python.keras.preprocessing.text import Tokenizer\n",
    "from tensorflow.python.keras.preprocessing.sequence import pad_sequences\n",
    "from sklearn.model_selection import train_test_split\n",
    "\n",
    "from tensorflow.python.keras.models import Sequential\n",
    "from tensorflow.python.keras.layers import Dense,CuDNNGRU,Embedding,GRU\n",
    "\n",
    "\n",
    "import os\n",
    "for dirname, _, filenames in os.walk('/kaggle/input'):\n",
    "    for filename in filenames:\n",
    "        print(os.path.join(dirname, filename))\n"
   ]
  },
  {
   "cell_type": "markdown",
   "metadata": {
    "papermill": {
     "duration": 0.037362,
     "end_time": "2020-11-05T13:57:58.727572",
     "exception": false,
     "start_time": "2020-11-05T13:57:58.690210",
     "status": "completed"
    },
    "tags": []
   },
   "source": [
    "* Now let's load the data."
   ]
  },
  {
   "cell_type": "code",
   "execution_count": 2,
   "metadata": {
    "execution": {
     "iopub.execute_input": "2020-11-05T13:57:58.819527Z",
     "iopub.status.busy": "2020-11-05T13:57:58.818674Z",
     "iopub.status.idle": "2020-11-05T13:57:58.884384Z",
     "shell.execute_reply": "2020-11-05T13:57:58.883490Z"
    },
    "papermill": {
     "duration": 0.119031,
     "end_time": "2020-11-05T13:57:58.884506",
     "exception": false,
     "start_time": "2020-11-05T13:57:58.765475",
     "status": "completed"
    },
    "tags": []
   },
   "outputs": [
    {
     "data": {
      "text/html": [
       "<div>\n",
       "<style scoped>\n",
       "    .dataframe tbody tr th:only-of-type {\n",
       "        vertical-align: middle;\n",
       "    }\n",
       "\n",
       "    .dataframe tbody tr th {\n",
       "        vertical-align: top;\n",
       "    }\n",
       "\n",
       "    .dataframe thead th {\n",
       "        text-align: right;\n",
       "    }\n",
       "</style>\n",
       "<table border=\"1\" class=\"dataframe\">\n",
       "  <thead>\n",
       "    <tr style=\"text-align: right;\">\n",
       "      <th></th>\n",
       "      <th>id</th>\n",
       "      <th>keyword</th>\n",
       "      <th>location</th>\n",
       "      <th>text</th>\n",
       "      <th>target</th>\n",
       "    </tr>\n",
       "  </thead>\n",
       "  <tbody>\n",
       "    <tr>\n",
       "      <th>0</th>\n",
       "      <td>1</td>\n",
       "      <td>NaN</td>\n",
       "      <td>NaN</td>\n",
       "      <td>Our Deeds are the Reason of this #earthquake M...</td>\n",
       "      <td>1</td>\n",
       "    </tr>\n",
       "    <tr>\n",
       "      <th>1</th>\n",
       "      <td>4</td>\n",
       "      <td>NaN</td>\n",
       "      <td>NaN</td>\n",
       "      <td>Forest fire near La Ronge Sask. Canada</td>\n",
       "      <td>1</td>\n",
       "    </tr>\n",
       "    <tr>\n",
       "      <th>2</th>\n",
       "      <td>5</td>\n",
       "      <td>NaN</td>\n",
       "      <td>NaN</td>\n",
       "      <td>All residents asked to 'shelter in place' are ...</td>\n",
       "      <td>1</td>\n",
       "    </tr>\n",
       "    <tr>\n",
       "      <th>3</th>\n",
       "      <td>6</td>\n",
       "      <td>NaN</td>\n",
       "      <td>NaN</td>\n",
       "      <td>13,000 people receive #wildfires evacuation or...</td>\n",
       "      <td>1</td>\n",
       "    </tr>\n",
       "    <tr>\n",
       "      <th>4</th>\n",
       "      <td>7</td>\n",
       "      <td>NaN</td>\n",
       "      <td>NaN</td>\n",
       "      <td>Just got sent this photo from Ruby #Alaska as ...</td>\n",
       "      <td>1</td>\n",
       "    </tr>\n",
       "  </tbody>\n",
       "</table>\n",
       "</div>"
      ],
      "text/plain": [
       "   id keyword location                                               text  \\\n",
       "0   1     NaN      NaN  Our Deeds are the Reason of this #earthquake M...   \n",
       "1   4     NaN      NaN             Forest fire near La Ronge Sask. Canada   \n",
       "2   5     NaN      NaN  All residents asked to 'shelter in place' are ...   \n",
       "3   6     NaN      NaN  13,000 people receive #wildfires evacuation or...   \n",
       "4   7     NaN      NaN  Just got sent this photo from Ruby #Alaska as ...   \n",
       "\n",
       "   target  \n",
       "0       1  \n",
       "1       1  \n",
       "2       1  \n",
       "3       1  \n",
       "4       1  "
      ]
     },
     "execution_count": 2,
     "metadata": {},
     "output_type": "execute_result"
    }
   ],
   "source": [
    "test_df = pd.read_csv('/kaggle/input/nlp-getting-started/test.csv') \n",
    "train_df = pd.read_csv('/kaggle/input/nlp-getting-started/train.csv')\n",
    "train_df.head()"
   ]
  },
  {
   "cell_type": "markdown",
   "metadata": {
    "papermill": {
     "duration": 0.03848,
     "end_time": "2020-11-05T13:57:58.962027",
     "exception": false,
     "start_time": "2020-11-05T13:57:58.923547",
     "status": "completed"
    },
    "tags": []
   },
   "source": [
    "# Data Overview\n",
    "\n",
    "In this section I am going to take a general look at the data, and I will determine which process will I do. Let's start."
   ]
  },
  {
   "cell_type": "code",
   "execution_count": 3,
   "metadata": {
    "execution": {
     "iopub.execute_input": "2020-11-05T13:57:59.049781Z",
     "iopub.status.busy": "2020-11-05T13:57:59.048808Z",
     "iopub.status.idle": "2020-11-05T13:57:59.053295Z",
     "shell.execute_reply": "2020-11-05T13:57:59.052712Z"
    },
    "papermill": {
     "duration": 0.053968,
     "end_time": "2020-11-05T13:57:59.053409",
     "exception": false,
     "start_time": "2020-11-05T13:57:58.999441",
     "status": "completed"
    },
    "tags": []
   },
   "outputs": [
    {
     "data": {
      "text/html": [
       "<div>\n",
       "<style scoped>\n",
       "    .dataframe tbody tr th:only-of-type {\n",
       "        vertical-align: middle;\n",
       "    }\n",
       "\n",
       "    .dataframe tbody tr th {\n",
       "        vertical-align: top;\n",
       "    }\n",
       "\n",
       "    .dataframe thead th {\n",
       "        text-align: right;\n",
       "    }\n",
       "</style>\n",
       "<table border=\"1\" class=\"dataframe\">\n",
       "  <thead>\n",
       "    <tr style=\"text-align: right;\">\n",
       "      <th></th>\n",
       "      <th>id</th>\n",
       "      <th>keyword</th>\n",
       "      <th>location</th>\n",
       "      <th>text</th>\n",
       "      <th>target</th>\n",
       "    </tr>\n",
       "  </thead>\n",
       "  <tbody>\n",
       "    <tr>\n",
       "      <th>0</th>\n",
       "      <td>1</td>\n",
       "      <td>NaN</td>\n",
       "      <td>NaN</td>\n",
       "      <td>Our Deeds are the Reason of this #earthquake M...</td>\n",
       "      <td>1</td>\n",
       "    </tr>\n",
       "    <tr>\n",
       "      <th>1</th>\n",
       "      <td>4</td>\n",
       "      <td>NaN</td>\n",
       "      <td>NaN</td>\n",
       "      <td>Forest fire near La Ronge Sask. Canada</td>\n",
       "      <td>1</td>\n",
       "    </tr>\n",
       "    <tr>\n",
       "      <th>2</th>\n",
       "      <td>5</td>\n",
       "      <td>NaN</td>\n",
       "      <td>NaN</td>\n",
       "      <td>All residents asked to 'shelter in place' are ...</td>\n",
       "      <td>1</td>\n",
       "    </tr>\n",
       "    <tr>\n",
       "      <th>3</th>\n",
       "      <td>6</td>\n",
       "      <td>NaN</td>\n",
       "      <td>NaN</td>\n",
       "      <td>13,000 people receive #wildfires evacuation or...</td>\n",
       "      <td>1</td>\n",
       "    </tr>\n",
       "    <tr>\n",
       "      <th>4</th>\n",
       "      <td>7</td>\n",
       "      <td>NaN</td>\n",
       "      <td>NaN</td>\n",
       "      <td>Just got sent this photo from Ruby #Alaska as ...</td>\n",
       "      <td>1</td>\n",
       "    </tr>\n",
       "  </tbody>\n",
       "</table>\n",
       "</div>"
      ],
      "text/plain": [
       "   id keyword location                                               text  \\\n",
       "0   1     NaN      NaN  Our Deeds are the Reason of this #earthquake M...   \n",
       "1   4     NaN      NaN             Forest fire near La Ronge Sask. Canada   \n",
       "2   5     NaN      NaN  All residents asked to 'shelter in place' are ...   \n",
       "3   6     NaN      NaN  13,000 people receive #wildfires evacuation or...   \n",
       "4   7     NaN      NaN  Just got sent this photo from Ruby #Alaska as ...   \n",
       "\n",
       "   target  \n",
       "0       1  \n",
       "1       1  \n",
       "2       1  \n",
       "3       1  \n",
       "4       1  "
      ]
     },
     "execution_count": 3,
     "metadata": {},
     "output_type": "execute_result"
    }
   ],
   "source": [
    "train_df.head()"
   ]
  },
  {
   "cell_type": "code",
   "execution_count": 4,
   "metadata": {
    "execution": {
     "iopub.execute_input": "2020-11-05T13:57:59.140989Z",
     "iopub.status.busy": "2020-11-05T13:57:59.140042Z",
     "iopub.status.idle": "2020-11-05T13:57:59.143801Z",
     "shell.execute_reply": "2020-11-05T13:57:59.144294Z"
    },
    "papermill": {
     "duration": 0.052112,
     "end_time": "2020-11-05T13:57:59.144407",
     "exception": false,
     "start_time": "2020-11-05T13:57:59.092295",
     "status": "completed"
    },
    "tags": []
   },
   "outputs": [
    {
     "data": {
      "text/html": [
       "<div>\n",
       "<style scoped>\n",
       "    .dataframe tbody tr th:only-of-type {\n",
       "        vertical-align: middle;\n",
       "    }\n",
       "\n",
       "    .dataframe tbody tr th {\n",
       "        vertical-align: top;\n",
       "    }\n",
       "\n",
       "    .dataframe thead th {\n",
       "        text-align: right;\n",
       "    }\n",
       "</style>\n",
       "<table border=\"1\" class=\"dataframe\">\n",
       "  <thead>\n",
       "    <tr style=\"text-align: right;\">\n",
       "      <th></th>\n",
       "      <th>id</th>\n",
       "      <th>keyword</th>\n",
       "      <th>location</th>\n",
       "      <th>text</th>\n",
       "    </tr>\n",
       "  </thead>\n",
       "  <tbody>\n",
       "    <tr>\n",
       "      <th>0</th>\n",
       "      <td>0</td>\n",
       "      <td>NaN</td>\n",
       "      <td>NaN</td>\n",
       "      <td>Just happened a terrible car crash</td>\n",
       "    </tr>\n",
       "    <tr>\n",
       "      <th>1</th>\n",
       "      <td>2</td>\n",
       "      <td>NaN</td>\n",
       "      <td>NaN</td>\n",
       "      <td>Heard about #earthquake is different cities, s...</td>\n",
       "    </tr>\n",
       "    <tr>\n",
       "      <th>2</th>\n",
       "      <td>3</td>\n",
       "      <td>NaN</td>\n",
       "      <td>NaN</td>\n",
       "      <td>there is a forest fire at spot pond, geese are...</td>\n",
       "    </tr>\n",
       "    <tr>\n",
       "      <th>3</th>\n",
       "      <td>9</td>\n",
       "      <td>NaN</td>\n",
       "      <td>NaN</td>\n",
       "      <td>Apocalypse lighting. #Spokane #wildfires</td>\n",
       "    </tr>\n",
       "    <tr>\n",
       "      <th>4</th>\n",
       "      <td>11</td>\n",
       "      <td>NaN</td>\n",
       "      <td>NaN</td>\n",
       "      <td>Typhoon Soudelor kills 28 in China and Taiwan</td>\n",
       "    </tr>\n",
       "  </tbody>\n",
       "</table>\n",
       "</div>"
      ],
      "text/plain": [
       "   id keyword location                                               text\n",
       "0   0     NaN      NaN                 Just happened a terrible car crash\n",
       "1   2     NaN      NaN  Heard about #earthquake is different cities, s...\n",
       "2   3     NaN      NaN  there is a forest fire at spot pond, geese are...\n",
       "3   9     NaN      NaN           Apocalypse lighting. #Spokane #wildfires\n",
       "4  11     NaN      NaN      Typhoon Soudelor kills 28 in China and Taiwan"
      ]
     },
     "execution_count": 4,
     "metadata": {},
     "output_type": "execute_result"
    }
   ],
   "source": [
    "test_df.head()"
   ]
  },
  {
   "cell_type": "markdown",
   "metadata": {
    "papermill": {
     "duration": 0.039195,
     "end_time": "2020-11-05T13:57:59.225109",
     "exception": false,
     "start_time": "2020-11-05T13:57:59.185914",
     "status": "completed"
    },
    "tags": []
   },
   "source": [
    "* Keyword and location features seems useless, there must be too much missing values in them. But before deciding let's check the number of missing values."
   ]
  },
  {
   "cell_type": "code",
   "execution_count": 5,
   "metadata": {
    "execution": {
     "iopub.execute_input": "2020-11-05T13:57:59.310586Z",
     "iopub.status.busy": "2020-11-05T13:57:59.309956Z",
     "iopub.status.idle": "2020-11-05T13:57:59.316984Z",
     "shell.execute_reply": "2020-11-05T13:57:59.317502Z"
    },
    "papermill": {
     "duration": 0.052856,
     "end_time": "2020-11-05T13:57:59.317628",
     "exception": false,
     "start_time": "2020-11-05T13:57:59.264772",
     "status": "completed"
    },
    "tags": []
   },
   "outputs": [
    {
     "data": {
      "text/plain": [
       "id             0\n",
       "keyword       61\n",
       "location    2533\n",
       "text           0\n",
       "target         0\n",
       "dtype: int64"
      ]
     },
     "execution_count": 5,
     "metadata": {},
     "output_type": "execute_result"
    }
   ],
   "source": [
    "train_df.isnull().sum()"
   ]
  },
  {
   "cell_type": "code",
   "execution_count": 6,
   "metadata": {
    "execution": {
     "iopub.execute_input": "2020-11-05T13:57:59.410300Z",
     "iopub.status.busy": "2020-11-05T13:57:59.409326Z",
     "iopub.status.idle": "2020-11-05T13:57:59.413631Z",
     "shell.execute_reply": "2020-11-05T13:57:59.413162Z"
    },
    "papermill": {
     "duration": 0.054767,
     "end_time": "2020-11-05T13:57:59.413724",
     "exception": false,
     "start_time": "2020-11-05T13:57:59.358957",
     "status": "completed"
    },
    "tags": []
   },
   "outputs": [
    {
     "data": {
      "text/plain": [
       "id             0\n",
       "keyword       26\n",
       "location    1105\n",
       "text           0\n",
       "dtype: int64"
      ]
     },
     "execution_count": 6,
     "metadata": {},
     "output_type": "execute_result"
    }
   ],
   "source": [
    "test_df.isnull().sum()"
   ]
  },
  {
   "cell_type": "markdown",
   "metadata": {
    "papermill": {
     "duration": 0.044812,
     "end_time": "2020-11-05T13:57:59.506878",
     "exception": false,
     "start_time": "2020-11-05T13:57:59.462066",
     "status": "completed"
    },
    "tags": []
   },
   "source": [
    "* Although, keyword feature does not have too much missing keyword values, I won't use these features."
   ]
  },
  {
   "cell_type": "markdown",
   "metadata": {
    "papermill": {
     "duration": 0.040728,
     "end_time": "2020-11-05T13:57:59.597320",
     "exception": false,
     "start_time": "2020-11-05T13:57:59.556592",
     "status": "completed"
    },
    "tags": []
   },
   "source": [
    "Now I will check random texts from the train set."
   ]
  },
  {
   "cell_type": "code",
   "execution_count": 7,
   "metadata": {
    "execution": {
     "iopub.execute_input": "2020-11-05T13:57:59.683988Z",
     "iopub.status.busy": "2020-11-05T13:57:59.683119Z",
     "iopub.status.idle": "2020-11-05T13:57:59.687042Z",
     "shell.execute_reply": "2020-11-05T13:57:59.686575Z"
    },
    "papermill": {
     "duration": 0.048403,
     "end_time": "2020-11-05T13:57:59.687136",
     "exception": false,
     "start_time": "2020-11-05T13:57:59.638733",
     "status": "completed"
    },
    "tags": []
   },
   "outputs": [
    {
     "data": {
      "text/plain": [
       "'Armageddon https://t.co/uCSUDk3q1d'"
      ]
     },
     "execution_count": 7,
     "metadata": {},
     "output_type": "execute_result"
    }
   ],
   "source": [
    "train_df.text[321]"
   ]
  },
  {
   "cell_type": "markdown",
   "metadata": {
    "papermill": {
     "duration": 0.041205,
     "end_time": "2020-11-05T13:57:59.769281",
     "exception": false,
     "start_time": "2020-11-05T13:57:59.728076",
     "status": "completed"
    },
    "tags": []
   },
   "source": [
    "* Clear and clear."
   ]
  },
  {
   "cell_type": "code",
   "execution_count": 8,
   "metadata": {
    "execution": {
     "iopub.execute_input": "2020-11-05T13:57:59.857001Z",
     "iopub.status.busy": "2020-11-05T13:57:59.856122Z",
     "iopub.status.idle": "2020-11-05T13:57:59.859607Z",
     "shell.execute_reply": "2020-11-05T13:57:59.860218Z"
    },
    "papermill": {
     "duration": 0.049985,
     "end_time": "2020-11-05T13:57:59.860335",
     "exception": false,
     "start_time": "2020-11-05T13:57:59.810350",
     "status": "completed"
    },
    "tags": []
   },
   "outputs": [
    {
     "data": {
      "text/plain": [
       "\"@iphooey @TIME Ironically Michele Bachmann brought this up in '11 w/Ron Paul &amp; everyone blew her off and called hoax. She was finally right\""
      ]
     },
     "execution_count": 8,
     "metadata": {},
     "output_type": "execute_result"
    }
   ],
   "source": [
    "train_df.text[765]"
   ]
  },
  {
   "cell_type": "markdown",
   "metadata": {
    "papermill": {
     "duration": 0.041408,
     "end_time": "2020-11-05T13:57:59.942962",
     "exception": false,
     "start_time": "2020-11-05T13:57:59.901554",
     "status": "completed"
    },
    "tags": []
   },
   "source": [
    "# Label Preprocessing\n",
    "\n",
    "In this section I am going to process our label. This section will be short, but I've still wanted to made this part as seperate."
   ]
  },
  {
   "cell_type": "code",
   "execution_count": 9,
   "metadata": {
    "execution": {
     "iopub.execute_input": "2020-11-05T13:58:00.054587Z",
     "iopub.status.busy": "2020-11-05T13:58:00.053528Z",
     "iopub.status.idle": "2020-11-05T13:58:00.062532Z",
     "shell.execute_reply": "2020-11-05T13:58:00.063351Z"
    },
    "papermill": {
     "duration": 0.078894,
     "end_time": "2020-11-05T13:58:00.063544",
     "exception": false,
     "start_time": "2020-11-05T13:57:59.984650",
     "status": "completed"
    },
    "tags": []
   },
   "outputs": [
    {
     "data": {
      "text/html": [
       "<div>\n",
       "<style scoped>\n",
       "    .dataframe tbody tr th:only-of-type {\n",
       "        vertical-align: middle;\n",
       "    }\n",
       "\n",
       "    .dataframe tbody tr th {\n",
       "        vertical-align: top;\n",
       "    }\n",
       "\n",
       "    .dataframe thead th {\n",
       "        text-align: right;\n",
       "    }\n",
       "</style>\n",
       "<table border=\"1\" class=\"dataframe\">\n",
       "  <thead>\n",
       "    <tr style=\"text-align: right;\">\n",
       "      <th></th>\n",
       "      <th>id</th>\n",
       "      <th>text</th>\n",
       "      <th>target</th>\n",
       "    </tr>\n",
       "  </thead>\n",
       "  <tbody>\n",
       "    <tr>\n",
       "      <th>0</th>\n",
       "      <td>1</td>\n",
       "      <td>Our Deeds are the Reason of this #earthquake M...</td>\n",
       "      <td>1</td>\n",
       "    </tr>\n",
       "    <tr>\n",
       "      <th>1</th>\n",
       "      <td>4</td>\n",
       "      <td>Forest fire near La Ronge Sask. Canada</td>\n",
       "      <td>1</td>\n",
       "    </tr>\n",
       "    <tr>\n",
       "      <th>2</th>\n",
       "      <td>5</td>\n",
       "      <td>All residents asked to 'shelter in place' are ...</td>\n",
       "      <td>1</td>\n",
       "    </tr>\n",
       "    <tr>\n",
       "      <th>3</th>\n",
       "      <td>6</td>\n",
       "      <td>13,000 people receive #wildfires evacuation or...</td>\n",
       "      <td>1</td>\n",
       "    </tr>\n",
       "    <tr>\n",
       "      <th>4</th>\n",
       "      <td>7</td>\n",
       "      <td>Just got sent this photo from Ruby #Alaska as ...</td>\n",
       "      <td>1</td>\n",
       "    </tr>\n",
       "  </tbody>\n",
       "</table>\n",
       "</div>"
      ],
      "text/plain": [
       "   id                                               text  target\n",
       "0   1  Our Deeds are the Reason of this #earthquake M...       1\n",
       "1   4             Forest fire near La Ronge Sask. Canada       1\n",
       "2   5  All residents asked to 'shelter in place' are ...       1\n",
       "3   6  13,000 people receive #wildfires evacuation or...       1\n",
       "4   7  Just got sent this photo from Ruby #Alaska as ...       1"
      ]
     },
     "execution_count": 9,
     "metadata": {},
     "output_type": "execute_result"
    }
   ],
   "source": [
    "# dropping unrelevant features\n",
    "train_df.drop([\"keyword\",\"location\"],axis=1,inplace=True)\n",
    "test_df.drop([\"keyword\",\"location\"],axis=1,inplace=True)\n",
    "\n",
    "train_df.head()"
   ]
  },
  {
   "cell_type": "code",
   "execution_count": 10,
   "metadata": {
    "execution": {
     "iopub.execute_input": "2020-11-05T13:58:00.178436Z",
     "iopub.status.busy": "2020-11-05T13:58:00.177443Z",
     "iopub.status.idle": "2020-11-05T13:58:00.181425Z",
     "shell.execute_reply": "2020-11-05T13:58:00.182016Z"
    },
    "papermill": {
     "duration": 0.057433,
     "end_time": "2020-11-05T13:58:00.182165",
     "exception": false,
     "start_time": "2020-11-05T13:58:00.124732",
     "status": "completed"
    },
    "tags": []
   },
   "outputs": [
    {
     "data": {
      "text/html": [
       "<div>\n",
       "<style scoped>\n",
       "    .dataframe tbody tr th:only-of-type {\n",
       "        vertical-align: middle;\n",
       "    }\n",
       "\n",
       "    .dataframe tbody tr th {\n",
       "        vertical-align: top;\n",
       "    }\n",
       "\n",
       "    .dataframe thead th {\n",
       "        text-align: right;\n",
       "    }\n",
       "</style>\n",
       "<table border=\"1\" class=\"dataframe\">\n",
       "  <thead>\n",
       "    <tr style=\"text-align: right;\">\n",
       "      <th></th>\n",
       "      <th>id</th>\n",
       "      <th>text</th>\n",
       "    </tr>\n",
       "  </thead>\n",
       "  <tbody>\n",
       "    <tr>\n",
       "      <th>0</th>\n",
       "      <td>0</td>\n",
       "      <td>Just happened a terrible car crash</td>\n",
       "    </tr>\n",
       "    <tr>\n",
       "      <th>1</th>\n",
       "      <td>2</td>\n",
       "      <td>Heard about #earthquake is different cities, s...</td>\n",
       "    </tr>\n",
       "    <tr>\n",
       "      <th>2</th>\n",
       "      <td>3</td>\n",
       "      <td>there is a forest fire at spot pond, geese are...</td>\n",
       "    </tr>\n",
       "    <tr>\n",
       "      <th>3</th>\n",
       "      <td>9</td>\n",
       "      <td>Apocalypse lighting. #Spokane #wildfires</td>\n",
       "    </tr>\n",
       "    <tr>\n",
       "      <th>4</th>\n",
       "      <td>11</td>\n",
       "      <td>Typhoon Soudelor kills 28 in China and Taiwan</td>\n",
       "    </tr>\n",
       "  </tbody>\n",
       "</table>\n",
       "</div>"
      ],
      "text/plain": [
       "   id                                               text\n",
       "0   0                 Just happened a terrible car crash\n",
       "1   2  Heard about #earthquake is different cities, s...\n",
       "2   3  there is a forest fire at spot pond, geese are...\n",
       "3   9           Apocalypse lighting. #Spokane #wildfires\n",
       "4  11      Typhoon Soudelor kills 28 in China and Taiwan"
      ]
     },
     "execution_count": 10,
     "metadata": {},
     "output_type": "execute_result"
    }
   ],
   "source": [
    "test_df.head()"
   ]
  },
  {
   "cell_type": "code",
   "execution_count": 11,
   "metadata": {
    "execution": {
     "iopub.execute_input": "2020-11-05T13:58:00.276016Z",
     "iopub.status.busy": "2020-11-05T13:58:00.275063Z",
     "iopub.status.idle": "2020-11-05T13:58:00.277988Z",
     "shell.execute_reply": "2020-11-05T13:58:00.277496Z"
    },
    "papermill": {
     "duration": 0.051609,
     "end_time": "2020-11-05T13:58:00.278086",
     "exception": false,
     "start_time": "2020-11-05T13:58:00.226477",
     "status": "completed"
    },
    "tags": []
   },
   "outputs": [],
   "source": [
    "x_train = train_df.text\n",
    "y_train = train_df.target\n",
    "x_test = test_df.text\n"
   ]
  },
  {
   "cell_type": "code",
   "execution_count": 12,
   "metadata": {
    "execution": {
     "iopub.execute_input": "2020-11-05T13:58:00.371833Z",
     "iopub.status.busy": "2020-11-05T13:58:00.371034Z",
     "iopub.status.idle": "2020-11-05T13:58:00.374968Z",
     "shell.execute_reply": "2020-11-05T13:58:00.374412Z"
    },
    "papermill": {
     "duration": 0.053359,
     "end_time": "2020-11-05T13:58:00.375062",
     "exception": false,
     "start_time": "2020-11-05T13:58:00.321703",
     "status": "completed"
    },
    "tags": []
   },
   "outputs": [
    {
     "data": {
      "text/plain": [
       "0    1\n",
       "1    1\n",
       "2    1\n",
       "3    1\n",
       "4    1\n",
       "Name: target, dtype: int64"
      ]
     },
     "execution_count": 12,
     "metadata": {},
     "output_type": "execute_result"
    }
   ],
   "source": [
    "y_train.head()"
   ]
  },
  {
   "cell_type": "code",
   "execution_count": 13,
   "metadata": {
    "execution": {
     "iopub.execute_input": "2020-11-05T13:58:00.469432Z",
     "iopub.status.busy": "2020-11-05T13:58:00.468766Z",
     "iopub.status.idle": "2020-11-05T13:58:00.479164Z",
     "shell.execute_reply": "2020-11-05T13:58:00.478680Z"
    },
    "papermill": {
     "duration": 0.05932,
     "end_time": "2020-11-05T13:58:00.479263",
     "exception": false,
     "start_time": "2020-11-05T13:58:00.419943",
     "status": "completed"
    },
    "tags": []
   },
   "outputs": [
    {
     "data": {
      "text/html": [
       "<div>\n",
       "<style scoped>\n",
       "    .dataframe tbody tr th:only-of-type {\n",
       "        vertical-align: middle;\n",
       "    }\n",
       "\n",
       "    .dataframe tbody tr th {\n",
       "        vertical-align: top;\n",
       "    }\n",
       "\n",
       "    .dataframe thead th {\n",
       "        text-align: right;\n",
       "    }\n",
       "</style>\n",
       "<table border=\"1\" class=\"dataframe\">\n",
       "  <thead>\n",
       "    <tr style=\"text-align: right;\">\n",
       "      <th></th>\n",
       "      <th>0</th>\n",
       "      <th>1</th>\n",
       "    </tr>\n",
       "  </thead>\n",
       "  <tbody>\n",
       "    <tr>\n",
       "      <th>0</th>\n",
       "      <td>0</td>\n",
       "      <td>1</td>\n",
       "    </tr>\n",
       "    <tr>\n",
       "      <th>1</th>\n",
       "      <td>0</td>\n",
       "      <td>1</td>\n",
       "    </tr>\n",
       "    <tr>\n",
       "      <th>2</th>\n",
       "      <td>0</td>\n",
       "      <td>1</td>\n",
       "    </tr>\n",
       "    <tr>\n",
       "      <th>3</th>\n",
       "      <td>0</td>\n",
       "      <td>1</td>\n",
       "    </tr>\n",
       "    <tr>\n",
       "      <th>4</th>\n",
       "      <td>0</td>\n",
       "      <td>1</td>\n",
       "    </tr>\n",
       "  </tbody>\n",
       "</table>\n",
       "</div>"
      ],
      "text/plain": [
       "   0  1\n",
       "0  0  1\n",
       "1  0  1\n",
       "2  0  1\n",
       "3  0  1\n",
       "4  0  1"
      ]
     },
     "execution_count": 13,
     "metadata": {},
     "output_type": "execute_result"
    }
   ],
   "source": [
    "y_train = pd.get_dummies(y_train)\n",
    "y_train.head()"
   ]
  },
  {
   "cell_type": "markdown",
   "metadata": {
    "papermill": {
     "duration": 0.048388,
     "end_time": "2020-11-05T13:58:00.572426",
     "exception": false,
     "start_time": "2020-11-05T13:58:00.524038",
     "status": "completed"
    },
    "tags": []
   },
   "source": [
    "* This part was finished."
   ]
  },
  {
   "cell_type": "markdown",
   "metadata": {
    "papermill": {
     "duration": 0.049755,
     "end_time": "2020-11-05T13:58:00.672311",
     "exception": false,
     "start_time": "2020-11-05T13:58:00.622556",
     "status": "completed"
    },
    "tags": []
   },
   "source": [
    "# Cleaning Texts\n",
    "\n",
    "In this section I am going to clean the text. I will use simple methods in order to clean the text. I will follow these steps:\n",
    "\n",
    "1. Removing Links\n",
    "1. Lowering \n",
    "1. Removing All The Things Except Characters\n",
    "\n",
    "I am not sure these steps are most efficent way to clean text. But I will use it anyway."
   ]
  },
  {
   "cell_type": "code",
   "execution_count": 14,
   "metadata": {
    "execution": {
     "iopub.execute_input": "2020-11-05T13:58:00.805228Z",
     "iopub.status.busy": "2020-11-05T13:58:00.804265Z",
     "iopub.status.idle": "2020-11-05T13:58:00.932291Z",
     "shell.execute_reply": "2020-11-05T13:58:00.932870Z"
    },
    "papermill": {
     "duration": 0.211786,
     "end_time": "2020-11-05T13:58:00.933032",
     "exception": false,
     "start_time": "2020-11-05T13:58:00.721246",
     "status": "completed"
    },
    "tags": []
   },
   "outputs": [
    {
     "name": "stdout",
     "output_type": "stream",
     "text": [
      "['our deeds are the reason of this  earthquake may allah forgive us all', 'forest fire near la ronge sask  canada', 'all residents asked to  shelter in place  are being notified by officers  no other evacuation or shelter in place orders are expected', '13 000 people receive  wildfires evacuation orders in california ', 'just got sent this photo from ruby  alaska as smoke from  wildfires pours into a school ']\n"
     ]
    }
   ],
   "source": [
    "clean_x_train = []\n",
    "clean_x_test = []\n",
    "\n",
    "# It means that remove everything except these chars.\n",
    "pattern = \"[^a-zA-Z0123456789]\" \n",
    "\n",
    "for text in x_train:\n",
    "    \n",
    "    text = re.sub(r\"http\\S+\", \"\", text)\n",
    "    text = text.lower()\n",
    "    text = re.sub(pattern,\" \",text)\n",
    "    clean_x_train.append(text)    \n",
    "\n",
    "for text in x_test:\n",
    "    text = re.sub(r\"http\\S+\", \"\", text)\n",
    "    text = text.lower()\n",
    "    text = re.sub(pattern,\" \",text)\n",
    "    \n",
    "    clean_x_test.append(text)\n",
    "\n",
    "print(clean_x_train[:5])\n",
    "\n",
    "    \n",
    "    \n",
    "    "
   ]
  },
  {
   "cell_type": "markdown",
   "metadata": {
    "papermill": {
     "duration": 0.047686,
     "end_time": "2020-11-05T13:58:01.030966",
     "exception": false,
     "start_time": "2020-11-05T13:58:00.983280",
     "status": "completed"
    },
    "tags": []
   },
   "source": [
    "* I think our cleaned texts are ready, let's convert these cleaned texts list to np arrays."
   ]
  },
  {
   "cell_type": "code",
   "execution_count": 15,
   "metadata": {
    "execution": {
     "iopub.execute_input": "2020-11-05T13:58:01.135517Z",
     "iopub.status.busy": "2020-11-05T13:58:01.134635Z",
     "iopub.status.idle": "2020-11-05T13:58:01.140759Z",
     "shell.execute_reply": "2020-11-05T13:58:01.141501Z"
    },
    "papermill": {
     "duration": 0.063887,
     "end_time": "2020-11-05T13:58:01.141660",
     "exception": false,
     "start_time": "2020-11-05T13:58:01.077773",
     "status": "completed"
    },
    "tags": []
   },
   "outputs": [
    {
     "name": "stdout",
     "output_type": "stream",
     "text": [
      "(7613,)\n",
      "(3263,)\n"
     ]
    }
   ],
   "source": [
    "x_train = np.array(clean_x_train) \n",
    "x_test = np.array(clean_x_test)\n",
    "print(x_train.shape)\n",
    "print(x_test.shape)"
   ]
  },
  {
   "cell_type": "markdown",
   "metadata": {
    "papermill": {
     "duration": 0.046883,
     "end_time": "2020-11-05T13:58:01.237774",
     "exception": false,
     "start_time": "2020-11-05T13:58:01.190891",
     "status": "completed"
    },
    "tags": []
   },
   "source": [
    "# Natural Language Processing\n",
    "\n",
    "In this section I am going to prepare the texts in order to use in the deep learning. "
   ]
  },
  {
   "cell_type": "markdown",
   "metadata": {
    "papermill": {
     "duration": 0.04781,
     "end_time": "2020-11-05T13:58:01.333833",
     "exception": false,
     "start_time": "2020-11-05T13:58:01.286023",
     "status": "completed"
    },
    "tags": []
   },
   "source": [
    "## Tokenizing\n",
    "\n",
    "First, I am going to tokeinze all the texts. In order to do this I will use tensorflow's tokenizer."
   ]
  },
  {
   "cell_type": "code",
   "execution_count": 16,
   "metadata": {
    "execution": {
     "iopub.execute_input": "2020-11-05T13:58:01.432469Z",
     "iopub.status.busy": "2020-11-05T13:58:01.431476Z",
     "iopub.status.idle": "2020-11-05T13:58:01.736125Z",
     "shell.execute_reply": "2020-11-05T13:58:01.736702Z"
    },
    "papermill": {
     "duration": 0.35759,
     "end_time": "2020-11-05T13:58:01.736847",
     "exception": false,
     "start_time": "2020-11-05T13:58:01.379257",
     "status": "completed"
    },
    "tags": []
   },
   "outputs": [
    {
     "data": {
      "text/plain": [
       "['the',\n",
       " 'a',\n",
       " 'to',\n",
       " 'in',\n",
       " 'of',\n",
       " 'i',\n",
       " 'and',\n",
       " 's',\n",
       " 'is',\n",
       " 'you',\n",
       " 'for',\n",
       " 'on',\n",
       " 'it',\n",
       " 'my',\n",
       " 'that',\n",
       " 'with',\n",
       " 'by',\n",
       " 'at',\n",
       " 't',\n",
       " 'this']"
      ]
     },
     "execution_count": 16,
     "metadata": {},
     "output_type": "execute_result"
    }
   ],
   "source": [
    "tokenizer = Tokenizer(num_words=10000) \n",
    "total_texts = np.concatenate([x_train,x_test],axis=0)\n",
    "tokenizer.fit_on_texts(total_texts)\n",
    "\n",
    "list(tokenizer.word_index)[:20]"
   ]
  },
  {
   "cell_type": "markdown",
   "metadata": {
    "papermill": {
     "duration": 0.044364,
     "end_time": "2020-11-05T13:58:01.830301",
     "exception": false,
     "start_time": "2020-11-05T13:58:01.785937",
     "status": "completed"
    },
    "tags": []
   },
   "source": [
    "* Now I am going to convert texts into tokens."
   ]
  },
  {
   "cell_type": "code",
   "execution_count": 17,
   "metadata": {
    "execution": {
     "iopub.execute_input": "2020-11-05T13:58:01.959655Z",
     "iopub.status.busy": "2020-11-05T13:58:01.954600Z",
     "iopub.status.idle": "2020-11-05T13:58:02.206068Z",
     "shell.execute_reply": "2020-11-05T13:58:02.206579Z"
    },
    "papermill": {
     "duration": 0.328138,
     "end_time": "2020-11-05T13:58:02.206712",
     "exception": false,
     "start_time": "2020-11-05T13:58:01.878574",
     "status": "completed"
    },
    "tags": []
   },
   "outputs": [
    {
     "data": {
      "text/plain": [
       "[582]"
      ]
     },
     "execution_count": 17,
     "metadata": {},
     "output_type": "execute_result"
    }
   ],
   "source": [
    "x_train = tokenizer.texts_to_sequences(x_train)\n",
    "x_test = tokenizer.texts_to_sequences(x_test)\n",
    "\n",
    "x_train[321]"
   ]
  },
  {
   "cell_type": "code",
   "execution_count": 18,
   "metadata": {
    "execution": {
     "iopub.execute_input": "2020-11-05T13:58:02.306645Z",
     "iopub.status.busy": "2020-11-05T13:58:02.305732Z",
     "iopub.status.idle": "2020-11-05T13:58:02.310561Z",
     "shell.execute_reply": "2020-11-05T13:58:02.311015Z"
    },
    "papermill": {
     "duration": 0.057192,
     "end_time": "2020-11-05T13:58:02.311162",
     "exception": false,
     "start_time": "2020-11-05T13:58:02.253970",
     "status": "completed"
    },
    "tags": []
   },
   "outputs": [
    {
     "data": {
      "text/plain": [
       "[2866, 6158, 216, 944, 344, 942, 396, 3371]"
      ]
     },
     "execution_count": 18,
     "metadata": {},
     "output_type": "execute_result"
    }
   ],
   "source": [
    "# checking random samples\n",
    "\n",
    "x_train[875]"
   ]
  },
  {
   "cell_type": "markdown",
   "metadata": {
    "papermill": {
     "duration": 0.047366,
     "end_time": "2020-11-05T13:58:02.406742",
     "exception": false,
     "start_time": "2020-11-05T13:58:02.359376",
     "status": "completed"
    },
    "tags": []
   },
   "source": [
    "## Padding\n",
    "\n",
    "Now, I am going to pad each sequences. In order to determine the number of each sequence, I will determine the sequence that have maximum length. This is the best approach."
   ]
  },
  {
   "cell_type": "code",
   "execution_count": 19,
   "metadata": {
    "execution": {
     "iopub.execute_input": "2020-11-05T13:58:02.516441Z",
     "iopub.status.busy": "2020-11-05T13:58:02.515676Z",
     "iopub.status.idle": "2020-11-05T13:58:02.519724Z",
     "shell.execute_reply": "2020-11-05T13:58:02.520323Z"
    },
    "papermill": {
     "duration": 0.065925,
     "end_time": "2020-11-05T13:58:02.520473",
     "exception": false,
     "start_time": "2020-11-05T13:58:02.454548",
     "status": "completed"
    },
    "tags": []
   },
   "outputs": [
    {
     "name": "stdout",
     "output_type": "stream",
     "text": [
      "The text that has maximum length has 157 tokens.\n"
     ]
    }
   ],
   "source": [
    "total_len = [len(text) for text in total_texts]\n",
    "print(\"The text that has maximum length has {} tokens.\".format(max(total_len)))"
   ]
  },
  {
   "cell_type": "code",
   "execution_count": 20,
   "metadata": {
    "execution": {
     "iopub.execute_input": "2020-11-05T13:58:02.623898Z",
     "iopub.status.busy": "2020-11-05T13:58:02.622802Z",
     "iopub.status.idle": "2020-11-05T13:58:02.724883Z",
     "shell.execute_reply": "2020-11-05T13:58:02.724422Z"
    },
    "papermill": {
     "duration": 0.155551,
     "end_time": "2020-11-05T13:58:02.724979",
     "exception": false,
     "start_time": "2020-11-05T13:58:02.569428",
     "status": "completed"
    },
    "tags": []
   },
   "outputs": [
    {
     "name": "stdout",
     "output_type": "stream",
     "text": [
      "[  0   0   0   0   0   0   0   0   0   0   0   0   0   0   0   0   0   0\n",
      "   0   0   0   0   0   0   0   0   0   0   0   0   0   0   0   0   0   0\n",
      "   0   0   0   0   0   0   0   0   0   0   0   0   0   0   0   0   0   0\n",
      "   0   0   0   0   0   0   0   0   0   0   0   0   0   0   0   0   0   0\n",
      "   0   0   0   0   0   0   0   0   0   0   0   0   0   0   0   0   0   0\n",
      "   0   0   0   0   0   0   0   0   0   0   0   0   0   0   0   0   0   0\n",
      "   0   0   0   0   0   0   0   0   0   0   0   0   0   0   0   0   0   0\n",
      "   0   0   0   0   0   0   0   0   0   0   0   0   0   0   0   0   0   0\n",
      "   0   0   0   0   0   0   0   0   0   0   0   0 582]\n"
     ]
    }
   ],
   "source": [
    "SEQUENCE_SIZE = 157\n",
    "x_train_pad = pad_sequences(x_train,maxlen=157)\n",
    "x_test_pad = pad_sequences(x_test,maxlen=157)\n",
    "\n",
    "print(x_train_pad[321])"
   ]
  },
  {
   "cell_type": "markdown",
   "metadata": {
    "papermill": {
     "duration": 0.048769,
     "end_time": "2020-11-05T13:58:02.821251",
     "exception": false,
     "start_time": "2020-11-05T13:58:02.772482",
     "status": "completed"
    },
    "tags": []
   },
   "source": [
    "## Train Validation Split\n",
    "\n",
    "In this section I am gonna split train set into train and validation set. Maybe you don't know why we need to use validation sets, so I want to explain. In real-life problems. We use several models and in order to learn the success of model, we need to test the model. So we use validation set.  "
   ]
  },
  {
   "cell_type": "code",
   "execution_count": 21,
   "metadata": {
    "execution": {
     "iopub.execute_input": "2020-11-05T13:58:02.926095Z",
     "iopub.status.busy": "2020-11-05T13:58:02.924955Z",
     "iopub.status.idle": "2020-11-05T13:58:02.943924Z",
     "shell.execute_reply": "2020-11-05T13:58:02.944421Z"
    },
    "papermill": {
     "duration": 0.074589,
     "end_time": "2020-11-05T13:58:02.944607",
     "exception": false,
     "start_time": "2020-11-05T13:58:02.870018",
     "status": "completed"
    },
    "tags": []
   },
   "outputs": [
    {
     "name": "stdout",
     "output_type": "stream",
     "text": [
      "Shape of x_train is (6471, 157)\n",
      "Shape of x_val is (1142, 157)\n",
      "Shape of y_train is (6471, 2)\n",
      "Shape of y_val is (1142, 2)\n"
     ]
    }
   ],
   "source": [
    "x_train,x_val,Y_train,y_val = train_test_split(np.array(x_train_pad),np.array(y_train),test_size=0.15,random_state=1)\n",
    "\n",
    "print(\"Shape of x_train is\",x_train.shape)\n",
    "print(\"Shape of x_val is\",x_val.shape)\n",
    "print(\"Shape of y_train is\",Y_train.shape)\n",
    "print(\"Shape of y_val is\",y_val.shape)"
   ]
  },
  {
   "cell_type": "markdown",
   "metadata": {
    "papermill": {
     "duration": 0.065566,
     "end_time": "2020-11-05T13:58:03.082162",
     "exception": false,
     "start_time": "2020-11-05T13:58:03.016596",
     "status": "completed"
    },
    "tags": []
   },
   "source": [
    "# Loading Trained GloVe Vectors\n",
    "\n",
    "You know, in order to classify texts, we need word vectors. Generally people use GloVe or word2vec. In this kernel I will use GloVe. We can train our word vectors but there are trained vectors, they have trained with bigger corpus so they are better. \n",
    "\n",
    "In this kernel I am going to use trained GloVe vectors from Stanford University, you can download them for their website, or just import it from the kaggle."
   ]
  },
  {
   "cell_type": "code",
   "execution_count": 22,
   "metadata": {
    "execution": {
     "iopub.execute_input": "2020-11-05T13:58:03.193424Z",
     "iopub.status.busy": "2020-11-05T13:58:03.191323Z",
     "iopub.status.idle": "2020-11-05T13:58:24.772598Z",
     "shell.execute_reply": "2020-11-05T13:58:24.770949Z"
    },
    "papermill": {
     "duration": 21.640242,
     "end_time": "2020-11-05T13:58:24.772723",
     "exception": false,
     "start_time": "2020-11-05T13:58:03.132481",
     "status": "completed"
    },
    "tags": []
   },
   "outputs": [],
   "source": [
    "glove_vectors = {}\n",
    "with open(\"../input/glove-global-vectors-for-word-representation/glove.6B.100d.txt\",encoding=\"UTF-8\") as f:\n",
    "    \n",
    "    for line in f:\n",
    "        values = line.split()\n",
    "        word = values[0]\n",
    "        vectors = np.asarray(values[1:],dtype=\"float32\")\n",
    "        glove_vectors[word] = vectors"
   ]
  },
  {
   "cell_type": "markdown",
   "metadata": {
    "papermill": {
     "duration": 0.049234,
     "end_time": "2020-11-05T13:58:24.870894",
     "exception": false,
     "start_time": "2020-11-05T13:58:24.821660",
     "status": "completed"
    },
    "tags": []
   },
   "source": [
    "* We read our vectors but we can't use them in this moment, because there may be words that are in our words but non in trained words.\n",
    "* In order to solve this problem, we will initialize random vectors."
   ]
  },
  {
   "cell_type": "code",
   "execution_count": 23,
   "metadata": {
    "execution": {
     "iopub.execute_input": "2020-11-05T13:58:24.976372Z",
     "iopub.status.busy": "2020-11-05T13:58:24.975534Z",
     "iopub.status.idle": "2020-11-05T13:58:25.010852Z",
     "shell.execute_reply": "2020-11-05T13:58:25.010289Z"
    },
    "papermill": {
     "duration": 0.089712,
     "end_time": "2020-11-05T13:58:25.010954",
     "exception": false,
     "start_time": "2020-11-05T13:58:24.921242",
     "status": "completed"
    },
    "tags": []
   },
   "outputs": [],
   "source": [
    "NUM_TOKENIZER_WORDS = 10000\n",
    "embedding_matrix = np.random.uniform(-1,1,(NUM_TOKENIZER_WORDS,100))\n",
    "for word,i in tokenizer.word_index.items():\n",
    "    if i<NUM_TOKENIZER_WORDS:\n",
    "        embedding_vector = glove_vectors.get(word)\n",
    "        if embedding_vector is not None:\n",
    "            embedding_matrix[i] = embedding_vector"
   ]
  },
  {
   "cell_type": "markdown",
   "metadata": {
    "papermill": {
     "duration": 0.04991,
     "end_time": "2020-11-05T13:58:25.109523",
     "exception": false,
     "start_time": "2020-11-05T13:58:25.059613",
     "status": "completed"
    },
    "tags": []
   },
   "source": [
    "1. First we initialize random vectors.\n",
    "1. Then we started a for loop, this for loop return each word an its index from the tokenizer's word index.\n",
    "1. If this word have a vector in glove_vectors, then we add glove vector to embedding matrix.\n",
    "1. If there is no word, its value remains random.\n"
   ]
  },
  {
   "cell_type": "markdown",
   "metadata": {
    "papermill": {
     "duration": 0.053588,
     "end_time": "2020-11-05T13:58:25.213256",
     "exception": false,
     "start_time": "2020-11-05T13:58:25.159668",
     "status": "completed"
    },
    "tags": []
   },
   "source": [
    "# Modeling\n",
    "\n",
    "In this section I am going to build,fit and evaluate a RNN model. In order to build a RNN model I will use Keras API. Let's start with building the model."
   ]
  },
  {
   "cell_type": "markdown",
   "metadata": {
    "papermill": {
     "duration": 0.051652,
     "end_time": "2020-11-05T13:58:25.318274",
     "exception": false,
     "start_time": "2020-11-05T13:58:25.266622",
     "status": "completed"
    },
    "tags": []
   },
   "source": [
    "## Building GRU Model\n",
    "\n",
    "You know, there are several types of RNNs, like SimpleRNN, LSTM. Generally people use LSTM (Long Short Term Memory) and GRU (Gated Recurrent Unit). In this kernel I am going to use GRU. Let's start."
   ]
  },
  {
   "cell_type": "code",
   "execution_count": 24,
   "metadata": {
    "execution": {
     "iopub.execute_input": "2020-11-05T13:58:25.425222Z",
     "iopub.status.busy": "2020-11-05T13:58:25.424488Z",
     "iopub.status.idle": "2020-11-05T13:58:28.994462Z",
     "shell.execute_reply": "2020-11-05T13:58:28.994919Z"
    },
    "papermill": {
     "duration": 3.629006,
     "end_time": "2020-11-05T13:58:28.995061",
     "exception": false,
     "start_time": "2020-11-05T13:58:25.366055",
     "status": "completed"
    },
    "tags": []
   },
   "outputs": [
    {
     "name": "stdout",
     "output_type": "stream",
     "text": [
      "Model: \"sequential\"\n",
      "_________________________________________________________________\n",
      "Layer (type)                 Output Shape              Param #   \n",
      "=================================================================\n",
      "embedding (Embedding)        (None, None, 100)         1000000   \n",
      "_________________________________________________________________\n",
      "cu_dnngru (CuDNNGRU)         (None, None, 512)         943104    \n",
      "_________________________________________________________________\n",
      "cu_dnngru_1 (CuDNNGRU)       (None, 512)               1575936   \n",
      "_________________________________________________________________\n",
      "dense (Dense)                (None, 2)                 1026      \n",
      "=================================================================\n",
      "Total params: 3,520,066\n",
      "Trainable params: 3,520,066\n",
      "Non-trainable params: 0\n",
      "_________________________________________________________________\n"
     ]
    }
   ],
   "source": [
    "state_size = 512\n",
    "\n",
    "model = Sequential()\n",
    "\n",
    "model.add(Embedding(input_dim=NUM_TOKENIZER_WORDS,\n",
    "                    output_dim=100,\n",
    "                    weights=[embedding_matrix],\n",
    "                    trainable=True\n",
    "                   ))\n",
    "\n",
    "model.add(CuDNNGRU(state_size,return_sequences=True))\n",
    "\n",
    "model.add(CuDNNGRU(state_size,return_sequences=False))\n",
    "\n",
    "model.add(Dense(2,activation=\"sigmoid\"))\n",
    "\n",
    "model.compile(loss=\"binary_crossentropy\",optimizer=\"adam\",metrics=[\"accuracy\"])\n",
    "\n",
    "model.summary()\n",
    "          "
   ]
  },
  {
   "cell_type": "markdown",
   "metadata": {
    "papermill": {
     "duration": 0.051625,
     "end_time": "2020-11-05T13:58:29.132334",
     "exception": false,
     "start_time": "2020-11-05T13:58:29.080709",
     "status": "completed"
    },
    "tags": []
   },
   "source": [
    "## Fitting The Model\n",
    "\n",
    "In this section I am going to fit the model."
   ]
  },
  {
   "cell_type": "code",
   "execution_count": 25,
   "metadata": {
    "execution": {
     "iopub.execute_input": "2020-11-05T13:58:29.243994Z",
     "iopub.status.busy": "2020-11-05T13:58:29.243119Z",
     "iopub.status.idle": "2020-11-05T13:59:42.037245Z",
     "shell.execute_reply": "2020-11-05T13:59:42.036601Z"
    },
    "papermill": {
     "duration": 72.851645,
     "end_time": "2020-11-05T13:59:42.037369",
     "exception": false,
     "start_time": "2020-11-05T13:58:29.185724",
     "status": "completed"
    },
    "tags": []
   },
   "outputs": [
    {
     "name": "stdout",
     "output_type": "stream",
     "text": [
      "Epoch 1/4\n",
      "203/203 [==============================] - 28s 139ms/step - loss: 0.4792 - accuracy: 0.7755 - val_loss: 0.4497 - val_accuracy: 0.7977\n",
      "Epoch 2/4\n",
      "203/203 [==============================] - 11s 53ms/step - loss: 0.3868 - accuracy: 0.8371 - val_loss: 0.4250 - val_accuracy: 0.8187\n",
      "Epoch 3/4\n",
      "203/203 [==============================] - 11s 54ms/step - loss: 0.3201 - accuracy: 0.8666 - val_loss: 0.4732 - val_accuracy: 0.8144\n",
      "Epoch 4/4\n",
      "203/203 [==============================] - 11s 53ms/step - loss: 0.2508 - accuracy: 0.9008 - val_loss: 0.5478 - val_accuracy: 0.8091\n"
     ]
    }
   ],
   "source": [
    "EPOCH_NUMBER = 4\n",
    "history = model.fit(x_train,Y_train,epochs=EPOCH_NUMBER,validation_data=(x_val,y_val))"
   ]
  },
  {
   "cell_type": "markdown",
   "metadata": {
    "papermill": {
     "duration": 0.301565,
     "end_time": "2020-11-05T13:59:42.638646",
     "exception": false,
     "start_time": "2020-11-05T13:59:42.337081",
     "status": "completed"
    },
    "tags": []
   },
   "source": [
    "## Evaluating The Model\n",
    "In this section I am going to evaluate the model. Let's start with the loss and accuracy chart."
   ]
  },
  {
   "cell_type": "code",
   "execution_count": 26,
   "metadata": {
    "execution": {
     "iopub.execute_input": "2020-11-05T13:59:43.256214Z",
     "iopub.status.busy": "2020-11-05T13:59:43.255552Z",
     "iopub.status.idle": "2020-11-05T13:59:43.831701Z",
     "shell.execute_reply": "2020-11-05T13:59:43.830632Z"
    },
    "papermill": {
     "duration": 0.889499,
     "end_time": "2020-11-05T13:59:43.831889",
     "exception": false,
     "start_time": "2020-11-05T13:59:42.942390",
     "status": "completed"
    },
    "tags": []
   },
   "outputs": [
    {
     "data": {
      "image/png": "[encoded data removed]",
      "text/plain": [
       "<Figure size 432x288 with 1 Axes>"
      ]
     },
     "metadata": {},
     "output_type": "display_data"
    }
   ],
   "source": [
    "sns.set_style(\"whitegrid\")\n",
    "plt.plot(history.history[\"loss\"],color=\"blue\",label=\"Loss\")\n",
    "plt.plot(history.history[\"val_accuracy\"],color=\"green\",label=\"Validation Accuracy\")\n",
    "plt.plot(history.history[\"val_loss\"],color=\"red\",label=\"Validation Loss\")\n",
    "plt.legend(loc=\"upper right\")\n",
    "plt.show()"
   ]
  },
  {
   "cell_type": "markdown",
   "metadata": {
    "papermill": {
     "duration": 0.299909,
     "end_time": "2020-11-05T13:59:44.550101",
     "exception": false,
     "start_time": "2020-11-05T13:59:44.250192",
     "status": "completed"
    },
    "tags": []
   },
   "source": [
    "Now let's take a look at the confusion matrix of validation set."
   ]
  },
  {
   "cell_type": "code",
   "execution_count": 27,
   "metadata": {
    "execution": {
     "iopub.execute_input": "2020-11-05T13:59:45.164831Z",
     "iopub.status.busy": "2020-11-05T13:59:45.163891Z",
     "iopub.status.idle": "2020-11-05T13:59:45.822990Z",
     "shell.execute_reply": "2020-11-05T13:59:45.822463Z"
    },
    "papermill": {
     "duration": 0.968328,
     "end_time": "2020-11-05T13:59:45.823094",
     "exception": false,
     "start_time": "2020-11-05T13:59:44.854766",
     "status": "completed"
    },
    "tags": []
   },
   "outputs": [
    {
     "name": "stdout",
     "output_type": "stream",
     "text": [
      "36/36 [==============================] - 1s 16ms/step - loss: 0.5478 - accuracy: 0.8091\n"
     ]
    },
    {
     "data": {
      "text/plain": [
       "[0.5478349924087524, 0.8091068267822266]"
      ]
     },
     "execution_count": 27,
     "metadata": {},
     "output_type": "execute_result"
    }
   ],
   "source": [
    "model.evaluate(x_val,y_val)"
   ]
  },
  {
   "cell_type": "code",
   "execution_count": 28,
   "metadata": {
    "execution": {
     "iopub.execute_input": "2020-11-05T13:59:46.440530Z",
     "iopub.status.busy": "2020-11-05T13:59:46.439558Z",
     "iopub.status.idle": "2020-11-05T13:59:50.201307Z",
     "shell.execute_reply": "2020-11-05T13:59:50.200330Z"
    },
    "papermill": {
     "duration": 4.075092,
     "end_time": "2020-11-05T13:59:50.201434",
     "exception": false,
     "start_time": "2020-11-05T13:59:46.126342",
     "status": "completed"
    },
    "tags": []
   },
   "outputs": [
    {
     "name": "stdout",
     "output_type": "stream",
     "text": [
      "[1 0 0 0 0 0 0 0 1 0]\n"
     ]
    }
   ],
   "source": [
    "y_pred = model.predict_classes(x_val)\n",
    "print(y_pred[:10])"
   ]
  },
  {
   "cell_type": "code",
   "execution_count": 29,
   "metadata": {
    "execution": {
     "iopub.execute_input": "2020-11-05T13:59:50.816440Z",
     "iopub.status.busy": "2020-11-05T13:59:50.815676Z",
     "iopub.status.idle": "2020-11-05T13:59:50.821698Z",
     "shell.execute_reply": "2020-11-05T13:59:50.821093Z"
    },
    "papermill": {
     "duration": 0.317524,
     "end_time": "2020-11-05T13:59:50.821800",
     "exception": false,
     "start_time": "2020-11-05T13:59:50.504276",
     "status": "completed"
    },
    "tags": []
   },
   "outputs": [
    {
     "name": "stdout",
     "output_type": "stream",
     "text": [
      "[1, 0, 0, 0, 1, 0, 1, 0, 1, 0]\n"
     ]
    }
   ],
   "source": [
    "y_true = []\n",
    "y_vallist = y_val.tolist()\n",
    "for i in y_vallist:\n",
    "    \n",
    "    index = i.index(1)\n",
    "    y_true.append(index)\n",
    "\n",
    "print(y_true[:10])"
   ]
  },
  {
   "cell_type": "code",
   "execution_count": 30,
   "metadata": {
    "execution": {
     "iopub.execute_input": "2020-11-05T13:59:51.451237Z",
     "iopub.status.busy": "2020-11-05T13:59:51.450421Z",
     "iopub.status.idle": "2020-11-05T13:59:51.687482Z",
     "shell.execute_reply": "2020-11-05T13:59:51.688039Z"
    },
    "papermill": {
     "duration": 0.55887,
     "end_time": "2020-11-05T13:59:51.688228",
     "exception": false,
     "start_time": "2020-11-05T13:59:51.129358",
     "status": "completed"
    },
    "tags": []
   },
   "outputs": [
    {
     "data": {
      "image/png": "[encoded data removed]",
      "text/plain": [
       "<Figure size 432x288 with 2 Axes>"
      ]
     },
     "metadata": {},
     "output_type": "display_data"
    }
   ],
   "source": [
    "from sklearn.metrics import confusion_matrix\n",
    "\n",
    "matrix = confusion_matrix(y_pred=y_pred,y_true=y_true)\n",
    "\n",
    "sns.heatmap(matrix,annot=True,linewidths=2.0,cmap=\"BuGn\",fmt=\".1f\")\n",
    "plt.show()"
   ]
  },
  {
   "cell_type": "markdown",
   "metadata": {
    "papermill": {
     "duration": 0.304907,
     "end_time": "2020-11-05T13:59:52.319528",
     "exception": false,
     "start_time": "2020-11-05T13:59:52.014621",
     "status": "completed"
    },
    "tags": []
   },
   "source": [
    "# Submitting \n",
    "\n",
    "In this section I am going to predict x_test_pad and after that I will export the results as csv file."
   ]
  },
  {
   "cell_type": "code",
   "execution_count": 31,
   "metadata": {
    "execution": {
     "iopub.execute_input": "2020-11-05T13:59:52.936569Z",
     "iopub.status.busy": "2020-11-05T13:59:52.935581Z",
     "iopub.status.idle": "2020-11-05T13:59:52.946601Z",
     "shell.execute_reply": "2020-11-05T13:59:52.947097Z"
    },
    "papermill": {
     "duration": 0.324413,
     "end_time": "2020-11-05T13:59:52.947239",
     "exception": false,
     "start_time": "2020-11-05T13:59:52.622826",
     "status": "completed"
    },
    "tags": []
   },
   "outputs": [
    {
     "data": {
      "text/html": [
       "<div>\n",
       "<style scoped>\n",
       "    .dataframe tbody tr th:only-of-type {\n",
       "        vertical-align: middle;\n",
       "    }\n",
       "\n",
       "    .dataframe tbody tr th {\n",
       "        vertical-align: top;\n",
       "    }\n",
       "\n",
       "    .dataframe thead th {\n",
       "        text-align: right;\n",
       "    }\n",
       "</style>\n",
       "<table border=\"1\" class=\"dataframe\">\n",
       "  <thead>\n",
       "    <tr style=\"text-align: right;\">\n",
       "      <th></th>\n",
       "      <th>id</th>\n",
       "      <th>target</th>\n",
       "    </tr>\n",
       "  </thead>\n",
       "  <tbody>\n",
       "    <tr>\n",
       "      <th>0</th>\n",
       "      <td>0</td>\n",
       "      <td>0</td>\n",
       "    </tr>\n",
       "    <tr>\n",
       "      <th>1</th>\n",
       "      <td>2</td>\n",
       "      <td>0</td>\n",
       "    </tr>\n",
       "    <tr>\n",
       "      <th>2</th>\n",
       "      <td>3</td>\n",
       "      <td>0</td>\n",
       "    </tr>\n",
       "    <tr>\n",
       "      <th>3</th>\n",
       "      <td>9</td>\n",
       "      <td>0</td>\n",
       "    </tr>\n",
       "    <tr>\n",
       "      <th>4</th>\n",
       "      <td>11</td>\n",
       "      <td>0</td>\n",
       "    </tr>\n",
       "  </tbody>\n",
       "</table>\n",
       "</div>"
      ],
      "text/plain": [
       "   id  target\n",
       "0   0       0\n",
       "1   2       0\n",
       "2   3       0\n",
       "3   9       0\n",
       "4  11       0"
      ]
     },
     "execution_count": 31,
     "metadata": {},
     "output_type": "execute_result"
    }
   ],
   "source": [
    "sample = pd.read_csv('../input/nlp-getting-started/sample_submission.csv')\n",
    "sample.head()"
   ]
  },
  {
   "cell_type": "code",
   "execution_count": 32,
   "metadata": {
    "execution": {
     "iopub.execute_input": "2020-11-05T13:59:53.584659Z",
     "iopub.status.busy": "2020-11-05T13:59:53.583780Z",
     "iopub.status.idle": "2020-11-05T13:59:53.590579Z",
     "shell.execute_reply": "2020-11-05T13:59:53.591241Z"
    },
    "papermill": {
     "duration": 0.331505,
     "end_time": "2020-11-05T13:59:53.591389",
     "exception": false,
     "start_time": "2020-11-05T13:59:53.259884",
     "status": "completed"
    },
    "tags": []
   },
   "outputs": [
    {
     "name": "stdout",
     "output_type": "stream",
     "text": [
      "<class 'pandas.core.frame.DataFrame'>\n",
      "RangeIndex: 3263 entries, 0 to 3262\n",
      "Data columns (total 2 columns):\n",
      " #   Column  Non-Null Count  Dtype\n",
      "---  ------  --------------  -----\n",
      " 0   id      3263 non-null   int64\n",
      " 1   target  3263 non-null   int64\n",
      "dtypes: int64(2)\n",
      "memory usage: 51.1 KB\n"
     ]
    }
   ],
   "source": [
    "sample.info()"
   ]
  },
  {
   "cell_type": "code",
   "execution_count": 33,
   "metadata": {
    "execution": {
     "iopub.execute_input": "2020-11-05T13:59:54.433094Z",
     "iopub.status.busy": "2020-11-05T13:59:54.432236Z",
     "iopub.status.idle": "2020-11-05T13:59:54.449079Z",
     "shell.execute_reply": "2020-11-05T13:59:54.449885Z"
    },
    "papermill": {
     "duration": 0.512683,
     "end_time": "2020-11-05T13:59:54.450069",
     "exception": false,
     "start_time": "2020-11-05T13:59:53.937386",
     "status": "completed"
    },
    "tags": []
   },
   "outputs": [
    {
     "data": {
      "text/html": [
       "<div>\n",
       "<style scoped>\n",
       "    .dataframe tbody tr th:only-of-type {\n",
       "        vertical-align: middle;\n",
       "    }\n",
       "\n",
       "    .dataframe tbody tr th {\n",
       "        vertical-align: top;\n",
       "    }\n",
       "\n",
       "    .dataframe thead th {\n",
       "        text-align: right;\n",
       "    }\n",
       "</style>\n",
       "<table border=\"1\" class=\"dataframe\">\n",
       "  <thead>\n",
       "    <tr style=\"text-align: right;\">\n",
       "      <th></th>\n",
       "      <th>id</th>\n",
       "      <th>text</th>\n",
       "    </tr>\n",
       "  </thead>\n",
       "  <tbody>\n",
       "    <tr>\n",
       "      <th>0</th>\n",
       "      <td>0</td>\n",
       "      <td>Just happened a terrible car crash</td>\n",
       "    </tr>\n",
       "    <tr>\n",
       "      <th>1</th>\n",
       "      <td>2</td>\n",
       "      <td>Heard about #earthquake is different cities, s...</td>\n",
       "    </tr>\n",
       "    <tr>\n",
       "      <th>2</th>\n",
       "      <td>3</td>\n",
       "      <td>there is a forest fire at spot pond, geese are...</td>\n",
       "    </tr>\n",
       "    <tr>\n",
       "      <th>3</th>\n",
       "      <td>9</td>\n",
       "      <td>Apocalypse lighting. #Spokane #wildfires</td>\n",
       "    </tr>\n",
       "    <tr>\n",
       "      <th>4</th>\n",
       "      <td>11</td>\n",
       "      <td>Typhoon Soudelor kills 28 in China and Taiwan</td>\n",
       "    </tr>\n",
       "  </tbody>\n",
       "</table>\n",
       "</div>"
      ],
      "text/plain": [
       "   id                                               text\n",
       "0   0                 Just happened a terrible car crash\n",
       "1   2  Heard about #earthquake is different cities, s...\n",
       "2   3  there is a forest fire at spot pond, geese are...\n",
       "3   9           Apocalypse lighting. #Spokane #wildfires\n",
       "4  11      Typhoon Soudelor kills 28 in China and Taiwan"
      ]
     },
     "execution_count": 33,
     "metadata": {},
     "output_type": "execute_result"
    }
   ],
   "source": [
    "test_df.head()"
   ]
  },
  {
   "cell_type": "code",
   "execution_count": 34,
   "metadata": {
    "execution": {
     "iopub.execute_input": "2020-11-05T13:59:56.069310Z",
     "iopub.status.busy": "2020-11-05T13:59:56.068391Z",
     "iopub.status.idle": "2020-11-05T14:00:02.557627Z",
     "shell.execute_reply": "2020-11-05T14:00:02.556419Z"
    },
    "papermill": {
     "duration": 6.937978,
     "end_time": "2020-11-05T14:00:02.557760",
     "exception": false,
     "start_time": "2020-11-05T13:59:55.619782",
     "status": "completed"
    },
    "tags": []
   },
   "outputs": [],
   "source": [
    "preds = model.predict_classes(x_test_pad)"
   ]
  },
  {
   "cell_type": "code",
   "execution_count": 35,
   "metadata": {
    "execution": {
     "iopub.execute_input": "2020-11-05T14:00:03.204914Z",
     "iopub.status.busy": "2020-11-05T14:00:03.204195Z",
     "iopub.status.idle": "2020-11-05T14:00:03.209501Z",
     "shell.execute_reply": "2020-11-05T14:00:03.208863Z"
    },
    "papermill": {
     "duration": 0.334116,
     "end_time": "2020-11-05T14:00:03.209616",
     "exception": false,
     "start_time": "2020-11-05T14:00:02.875500",
     "status": "completed"
    },
    "tags": []
   },
   "outputs": [
    {
     "data": {
      "text/plain": [
       "array([1, 1, 1, 1, 1, 1, 0, 0, 0, 0])"
      ]
     },
     "execution_count": 35,
     "metadata": {},
     "output_type": "execute_result"
    }
   ],
   "source": [
    "preds[:10]"
   ]
  },
  {
   "cell_type": "code",
   "execution_count": 36,
   "metadata": {
    "execution": {
     "iopub.execute_input": "2020-11-05T14:00:03.849565Z",
     "iopub.status.busy": "2020-11-05T14:00:03.848721Z",
     "iopub.status.idle": "2020-11-05T14:00:03.853090Z",
     "shell.execute_reply": "2020-11-05T14:00:03.852543Z"
    },
    "papermill": {
     "duration": 0.324947,
     "end_time": "2020-11-05T14:00:03.853205",
     "exception": false,
     "start_time": "2020-11-05T14:00:03.528258",
     "status": "completed"
    },
    "tags": []
   },
   "outputs": [
    {
     "data": {
      "text/html": [
       "<div>\n",
       "<style scoped>\n",
       "    .dataframe tbody tr th:only-of-type {\n",
       "        vertical-align: middle;\n",
       "    }\n",
       "\n",
       "    .dataframe tbody tr th {\n",
       "        vertical-align: top;\n",
       "    }\n",
       "\n",
       "    .dataframe thead th {\n",
       "        text-align: right;\n",
       "    }\n",
       "</style>\n",
       "<table border=\"1\" class=\"dataframe\">\n",
       "  <thead>\n",
       "    <tr style=\"text-align: right;\">\n",
       "      <th></th>\n",
       "      <th>id</th>\n",
       "      <th>target</th>\n",
       "    </tr>\n",
       "  </thead>\n",
       "  <tbody>\n",
       "    <tr>\n",
       "      <th>0</th>\n",
       "      <td>0</td>\n",
       "      <td>1</td>\n",
       "    </tr>\n",
       "    <tr>\n",
       "      <th>1</th>\n",
       "      <td>2</td>\n",
       "      <td>1</td>\n",
       "    </tr>\n",
       "    <tr>\n",
       "      <th>2</th>\n",
       "      <td>3</td>\n",
       "      <td>1</td>\n",
       "    </tr>\n",
       "    <tr>\n",
       "      <th>3</th>\n",
       "      <td>9</td>\n",
       "      <td>1</td>\n",
       "    </tr>\n",
       "    <tr>\n",
       "      <th>4</th>\n",
       "      <td>11</td>\n",
       "      <td>1</td>\n",
       "    </tr>\n",
       "  </tbody>\n",
       "</table>\n",
       "</div>"
      ],
      "text/plain": [
       "   id  target\n",
       "0   0       1\n",
       "1   2       1\n",
       "2   3       1\n",
       "3   9       1\n",
       "4  11       1"
      ]
     },
     "execution_count": 36,
     "metadata": {},
     "output_type": "execute_result"
    }
   ],
   "source": [
    "sample[\"target\"] = preds\n",
    "sample.head()"
   ]
  },
  {
   "cell_type": "code",
   "execution_count": 37,
   "metadata": {
    "execution": {
     "iopub.execute_input": "2020-11-05T14:00:04.518413Z",
     "iopub.status.busy": "2020-11-05T14:00:04.517446Z",
     "iopub.status.idle": "2020-11-05T14:00:04.742181Z",
     "shell.execute_reply": "2020-11-05T14:00:04.740961Z"
    },
    "papermill": {
     "duration": 0.575391,
     "end_time": "2020-11-05T14:00:04.742315",
     "exception": false,
     "start_time": "2020-11-05T14:00:04.166924",
     "status": "completed"
    },
    "tags": []
   },
   "outputs": [],
   "source": [
    "sample.to_csv('submission.csv')"
   ]
  },
  {
   "cell_type": "markdown",
   "metadata": {
    "papermill": {
     "duration": 0.355576,
     "end_time": "2020-11-05T14:00:05.410895",
     "exception": false,
     "start_time": "2020-11-05T14:00:05.055319",
     "status": "completed"
    },
    "tags": []
   },
   "source": [
    "# Conclusion\n",
    "\n",
    "Thanks for your attention, if you have any question in your mind, please ask. I will definetely return to you. \n",
    "\n",
    "Have a great day!"
   ]
  }
 ],
 "metadata": {
  "kernelspec": {
   "display_name": "Python 3",
   "language": "python",
   "name": "python3"
  },
  "language_info": {
   "codemirror_mode": {
    "name": "ipython",
    "version": 3
   },
   "file_extension": ".py",
   "mimetype": "text/x-python",
   "name": "python",
   "nbconvert_exporter": "python",
   "pygments_lexer": "ipython3",
   "version": "3.7.6"
  },
  "papermill": {
   "duration": 141.211694,
   "end_time": "2020-11-05T14:00:07.240511",
   "environment_variables": {},
   "exception": null,
   "input_path": "__notebook__.ipynb",
   "output_path": "__notebook__.ipynb",
   "parameters": {},
   "start_time": "2020-11-05T13:57:46.028817",
   "version": "2.1.0"
  }
 },
 "nbformat": 4,
 "nbformat_minor": 4
}
