{
 "cells": [
  {
   "cell_type": "markdown",
   "metadata": {
    "papermill": {
     "duration": 0.053311,
     "end_time": "2020-10-22T15:37:56.838802",
     "exception": false,
     "start_time": "2020-10-22T15:37:56.785491",
     "status": "completed"
    },
    "tags": []
   },
   "source": [
    "# Introduction\n",
    "Hello people, welcome to this kernel! In this kernel I will predict genders of students according their exams. Before starting let's take a look at our content\n",
    "\n",
    "# Notebook Content\n",
    "1. Importing Data and Libraries \n",
    "1. Data Overview\n",
    "1. Simple Data Analyses \n",
    "    * Gender Countplot\n",
    "    * Race Countplot\n",
    "    * Parental Level Of Education Countplot\n",
    "    * Lunch Countplot\n",
    "    * Test Preparation Course Countplot\n",
    "    * Math Score\n",
    "    * Reading Score\n",
    "    * Writing Score\n",
    "1. Detailed Data Analyses\n",
    "    * Correlation Heatmap\n",
    "    * Relation Between Gender - Math Score\n",
    "    * Relation Between Gender - Writing Score\n",
    "    * Relation Between Gender - Reading Score\n",
    "    * Relation Between Race - Math Score\n",
    "    * Relation Between Race - Writing Score\n",
    "    * Relation Between Race - Reading Score\n",
    "1. Data Preprocessing\n",
    "1. Building Model Using Pytorch\n",
    "1. Fitting Model Using Pytorch\n",
    "1. Evaulating Results\n",
    "1. Conclusion\n",
    "\n"
   ]
  },
  {
   "cell_type": "markdown",
   "metadata": {
    "papermill": {
     "duration": 0.051501,
     "end_time": "2020-10-22T15:37:56.942303",
     "exception": false,
     "start_time": "2020-10-22T15:37:56.890802",
     "status": "completed"
    },
    "tags": []
   },
   "source": [
    "# Importing Data and Libraries\n",
    "\n",
    "In this section I am going to import libraries and the data that I wil use. "
   ]
  },
  {
   "cell_type": "code",
   "execution_count": 1,
   "metadata": {
    "_cell_guid": "b1076dfc-b9ad-4769-8c92-a6c4dae69d19",
    "_uuid": "8f2839f25d086af736a60e9eeb907d3b93b6e0e5",
    "execution": {
     "iopub.execute_input": "2020-10-22T15:37:57.055891Z",
     "iopub.status.busy": "2020-10-22T15:37:57.055079Z",
     "iopub.status.idle": "2020-10-22T15:37:59.703201Z",
     "shell.execute_reply": "2020-10-22T15:37:59.704051Z"
    },
    "papermill": {
     "duration": 2.710257,
     "end_time": "2020-10-22T15:37:59.704314",
     "exception": false,
     "start_time": "2020-10-22T15:37:56.994057",
     "status": "completed"
    },
    "tags": []
   },
   "outputs": [
    {
     "name": "stdout",
     "output_type": "stream",
     "text": [
      "/kaggle/input/students-performance-in-exams/StudentsPerformance.csv\n"
     ]
    }
   ],
   "source": [
    "# This Python 3 environment comes with many helpful analytics libraries installed\n",
    "# It is defined by the kaggle/python Docker image: https://github.com/kaggle/docker-python\n",
    "# For example, here's several helpful packages to load\n",
    "\n",
    "import numpy as np # linear algebra\n",
    "import pandas as pd # data processing, CSV file I/O (e.g. pd.read_csv)\n",
    "\n",
    "import matplotlib.pyplot as plt\n",
    "import seaborn as sns\n",
    "\n",
    "import torch\n",
    "import torch.nn as nn\n",
    "\n",
    "from sklearn.model_selection import train_test_split\n",
    "\n",
    "import warnings as wrn\n",
    "\n",
    "wrn.filterwarnings('ignore') # Filter unrelevant warnings\n",
    "sns.set_style(\"darkgrid\")\n",
    "\n",
    "# Input data files are available in the read-only \"../input/\" directory\n",
    "# For example, running this (by clicking run or pressing Shift+Enter) will list all files under the input directory\n",
    "\n",
    "import os\n",
    "for dirname, _, filenames in os.walk('/kaggle/input'):\n",
    "    for filename in filenames:\n",
    "        print(os.path.join(dirname, filename))\n",
    "\n",
    "# You can write up to 5GB to the current directory (/kaggle/working/) that gets preserved as output when you create a version using \"Save & Run All\" \n",
    "# You can also write temporary files to /kaggle/temp/, but they won't be saved outside of the current session"
   ]
  },
  {
   "cell_type": "code",
   "execution_count": 2,
   "metadata": {
    "_cell_guid": "79c7e3d0-c299-4dcb-8224-4455121ee9b0",
    "_uuid": "d629ff2d2480ee46fbb7e2d37f6b5fab8052498a",
    "execution": {
     "iopub.execute_input": "2020-10-22T15:37:59.818564Z",
     "iopub.status.busy": "2020-10-22T15:37:59.817857Z",
     "iopub.status.idle": "2020-10-22T15:37:59.831316Z",
     "shell.execute_reply": "2020-10-22T15:37:59.830601Z"
    },
    "papermill": {
     "duration": 0.071743,
     "end_time": "2020-10-22T15:37:59.831492",
     "exception": false,
     "start_time": "2020-10-22T15:37:59.759749",
     "status": "completed"
    },
    "tags": []
   },
   "outputs": [],
   "source": [
    "# Importing data\n",
    "data = pd.read_csv('/kaggle/input/students-performance-in-exams/StudentsPerformance.csv')"
   ]
  },
  {
   "cell_type": "markdown",
   "metadata": {
    "papermill": {
     "duration": 0.052541,
     "end_time": "2020-10-22T15:37:59.937446",
     "exception": false,
     "start_time": "2020-10-22T15:37:59.884905",
     "status": "completed"
    },
    "tags": []
   },
   "source": [
    "# Data Overview\n",
    "In this section I am going to take look at the data."
   ]
  },
  {
   "cell_type": "code",
   "execution_count": 3,
   "metadata": {
    "execution": {
     "iopub.execute_input": "2020-10-22T15:38:00.064494Z",
     "iopub.status.busy": "2020-10-22T15:38:00.063441Z",
     "iopub.status.idle": "2020-10-22T15:38:00.100844Z",
     "shell.execute_reply": "2020-10-22T15:38:00.100027Z"
    },
    "papermill": {
     "duration": 0.102937,
     "end_time": "2020-10-22T15:38:00.100977",
     "exception": false,
     "start_time": "2020-10-22T15:37:59.998040",
     "status": "completed"
    },
    "tags": []
   },
   "outputs": [
    {
     "data": {
      "text/html": [
       "<div>\n",
       "<style scoped>\n",
       "    .dataframe tbody tr th:only-of-type {\n",
       "        vertical-align: middle;\n",
       "    }\n",
       "\n",
       "    .dataframe tbody tr th {\n",
       "        vertical-align: top;\n",
       "    }\n",
       "\n",
       "    .dataframe thead th {\n",
       "        text-align: right;\n",
       "    }\n",
       "</style>\n",
       "<table border=\"1\" class=\"dataframe\">\n",
       "  <thead>\n",
       "    <tr style=\"text-align: right;\">\n",
       "      <th></th>\n",
       "      <th>gender</th>\n",
       "      <th>race/ethnicity</th>\n",
       "      <th>parental level of education</th>\n",
       "      <th>lunch</th>\n",
       "      <th>test preparation course</th>\n",
       "      <th>math score</th>\n",
       "      <th>reading score</th>\n",
       "      <th>writing score</th>\n",
       "    </tr>\n",
       "  </thead>\n",
       "  <tbody>\n",
       "    <tr>\n",
       "      <th>0</th>\n",
       "      <td>female</td>\n",
       "      <td>group B</td>\n",
       "      <td>bachelor's degree</td>\n",
       "      <td>standard</td>\n",
       "      <td>none</td>\n",
       "      <td>72</td>\n",
       "      <td>72</td>\n",
       "      <td>74</td>\n",
       "    </tr>\n",
       "    <tr>\n",
       "      <th>1</th>\n",
       "      <td>female</td>\n",
       "      <td>group C</td>\n",
       "      <td>some college</td>\n",
       "      <td>standard</td>\n",
       "      <td>completed</td>\n",
       "      <td>69</td>\n",
       "      <td>90</td>\n",
       "      <td>88</td>\n",
       "    </tr>\n",
       "    <tr>\n",
       "      <th>2</th>\n",
       "      <td>female</td>\n",
       "      <td>group B</td>\n",
       "      <td>master's degree</td>\n",
       "      <td>standard</td>\n",
       "      <td>none</td>\n",
       "      <td>90</td>\n",
       "      <td>95</td>\n",
       "      <td>93</td>\n",
       "    </tr>\n",
       "    <tr>\n",
       "      <th>3</th>\n",
       "      <td>male</td>\n",
       "      <td>group A</td>\n",
       "      <td>associate's degree</td>\n",
       "      <td>free/reduced</td>\n",
       "      <td>none</td>\n",
       "      <td>47</td>\n",
       "      <td>57</td>\n",
       "      <td>44</td>\n",
       "    </tr>\n",
       "    <tr>\n",
       "      <th>4</th>\n",
       "      <td>male</td>\n",
       "      <td>group C</td>\n",
       "      <td>some college</td>\n",
       "      <td>standard</td>\n",
       "      <td>none</td>\n",
       "      <td>76</td>\n",
       "      <td>78</td>\n",
       "      <td>75</td>\n",
       "    </tr>\n",
       "  </tbody>\n",
       "</table>\n",
       "</div>"
      ],
      "text/plain": [
       "   gender race/ethnicity parental level of education         lunch  \\\n",
       "0  female        group B           bachelor's degree      standard   \n",
       "1  female        group C                some college      standard   \n",
       "2  female        group B             master's degree      standard   \n",
       "3    male        group A          associate's degree  free/reduced   \n",
       "4    male        group C                some college      standard   \n",
       "\n",
       "  test preparation course  math score  reading score  writing score  \n",
       "0                    none          72             72             74  \n",
       "1               completed          69             90             88  \n",
       "2                    none          90             95             93  \n",
       "3                    none          47             57             44  \n",
       "4                    none          76             78             75  "
      ]
     },
     "execution_count": 3,
     "metadata": {},
     "output_type": "execute_result"
    }
   ],
   "source": [
    "data.head()"
   ]
  },
  {
   "cell_type": "markdown",
   "metadata": {
    "papermill": {
     "duration": 0.053567,
     "end_time": "2020-10-22T15:38:00.212448",
     "exception": false,
     "start_time": "2020-10-22T15:38:00.158881",
     "status": "completed"
    },
    "tags": []
   },
   "source": [
    "* There are eight features in the dataset. 5 of them are categorical and 3 of them are numerical."
   ]
  },
  {
   "cell_type": "code",
   "execution_count": 4,
   "metadata": {
    "execution": {
     "iopub.execute_input": "2020-10-22T15:38:00.338615Z",
     "iopub.status.busy": "2020-10-22T15:38:00.337789Z",
     "iopub.status.idle": "2020-10-22T15:38:00.342289Z",
     "shell.execute_reply": "2020-10-22T15:38:00.341206Z"
    },
    "papermill": {
     "duration": 0.075669,
     "end_time": "2020-10-22T15:38:00.342487",
     "exception": false,
     "start_time": "2020-10-22T15:38:00.266818",
     "status": "completed"
    },
    "tags": []
   },
   "outputs": [
    {
     "name": "stdout",
     "output_type": "stream",
     "text": [
      "<class 'pandas.core.frame.DataFrame'>\n",
      "RangeIndex: 1000 entries, 0 to 999\n",
      "Data columns (total 8 columns):\n",
      " #   Column                       Non-Null Count  Dtype \n",
      "---  ------                       --------------  ----- \n",
      " 0   gender                       1000 non-null   object\n",
      " 1   race/ethnicity               1000 non-null   object\n",
      " 2   parental level of education  1000 non-null   object\n",
      " 3   lunch                        1000 non-null   object\n",
      " 4   test preparation course      1000 non-null   object\n",
      " 5   math score                   1000 non-null   int64 \n",
      " 6   reading score                1000 non-null   int64 \n",
      " 7   writing score                1000 non-null   int64 \n",
      "dtypes: int64(3), object(5)\n",
      "memory usage: 62.6+ KB\n"
     ]
    }
   ],
   "source": [
    "data.info()"
   ]
  },
  {
   "cell_type": "markdown",
   "metadata": {
    "papermill": {
     "duration": 0.054244,
     "end_time": "2020-10-22T15:38:00.460383",
     "exception": false,
     "start_time": "2020-10-22T15:38:00.406139",
     "status": "completed"
    },
    "tags": []
   },
   "source": [
    "# Simple Data Analyses\n",
    "In this section I am going to do some simple EDA. "
   ]
  },
  {
   "cell_type": "markdown",
   "metadata": {
    "papermill": {
     "duration": 0.054378,
     "end_time": "2020-10-22T15:38:00.569154",
     "exception": false,
     "start_time": "2020-10-22T15:38:00.514776",
     "status": "completed"
    },
    "tags": []
   },
   "source": [
    "## Countplots/Histograms of Features\n",
    "\n",
    "### Gender Countplot"
   ]
  },
  {
   "cell_type": "code",
   "execution_count": 5,
   "metadata": {
    "execution": {
     "iopub.execute_input": "2020-10-22T15:38:00.687667Z",
     "iopub.status.busy": "2020-10-22T15:38:00.686588Z",
     "iopub.status.idle": "2020-10-22T15:38:00.691591Z",
     "shell.execute_reply": "2020-10-22T15:38:00.690869Z"
    },
    "papermill": {
     "duration": 0.067455,
     "end_time": "2020-10-22T15:38:00.691719",
     "exception": false,
     "start_time": "2020-10-22T15:38:00.624264",
     "status": "completed"
    },
    "tags": []
   },
   "outputs": [
    {
     "data": {
      "text/plain": [
       "female    518\n",
       "male      482\n",
       "Name: gender, dtype: int64"
      ]
     },
     "execution_count": 5,
     "metadata": {},
     "output_type": "execute_result"
    }
   ],
   "source": [
    "data[\"gender\"].value_counts()"
   ]
  },
  {
   "cell_type": "code",
   "execution_count": 6,
   "metadata": {
    "execution": {
     "iopub.execute_input": "2020-10-22T15:38:00.808188Z",
     "iopub.status.busy": "2020-10-22T15:38:00.807299Z",
     "iopub.status.idle": "2020-10-22T15:38:01.002483Z",
     "shell.execute_reply": "2020-10-22T15:38:01.001658Z"
    },
    "papermill": {
     "duration": 0.25592,
     "end_time": "2020-10-22T15:38:01.002629",
     "exception": false,
     "start_time": "2020-10-22T15:38:00.746709",
     "status": "completed"
    },
    "tags": []
   },
   "outputs": [
    {
     "data": {
      "image/png": "[encoded data removed]",
      "text/plain": [
       "<Figure size 576x432 with 1 Axes>"
      ]
     },
     "metadata": {},
     "output_type": "display_data"
    }
   ],
   "source": [
    "fig,ax = plt.subplots(figsize=(8,6))\n",
    "sns.countplot(data[\"gender\"])\n",
    "plt.show()"
   ]
  },
  {
   "cell_type": "markdown",
   "metadata": {
    "papermill": {
     "duration": 0.055762,
     "end_time": "2020-10-22T15:38:01.121172",
     "exception": false,
     "start_time": "2020-10-22T15:38:01.065410",
     "status": "completed"
    },
    "tags": []
   },
   "source": [
    "* Although female entries are a bit more, our data is balanced.\n",
    "* We should convert this feature into integer."
   ]
  },
  {
   "cell_type": "markdown",
   "metadata": {
    "papermill": {
     "duration": 0.055781,
     "end_time": "2020-10-22T15:38:01.234067",
     "exception": false,
     "start_time": "2020-10-22T15:38:01.178286",
     "status": "completed"
    },
    "tags": []
   },
   "source": [
    "### Race Countplot"
   ]
  },
  {
   "cell_type": "code",
   "execution_count": 7,
   "metadata": {
    "execution": {
     "iopub.execute_input": "2020-10-22T15:38:01.356247Z",
     "iopub.status.busy": "2020-10-22T15:38:01.355436Z",
     "iopub.status.idle": "2020-10-22T15:38:01.359973Z",
     "shell.execute_reply": "2020-10-22T15:38:01.360613Z"
    },
    "papermill": {
     "duration": 0.070093,
     "end_time": "2020-10-22T15:38:01.360763",
     "exception": false,
     "start_time": "2020-10-22T15:38:01.290670",
     "status": "completed"
    },
    "tags": []
   },
   "outputs": [
    {
     "data": {
      "text/plain": [
       "group C    319\n",
       "group D    262\n",
       "group B    190\n",
       "group E    140\n",
       "group A     89\n",
       "Name: race/ethnicity, dtype: int64"
      ]
     },
     "execution_count": 7,
     "metadata": {},
     "output_type": "execute_result"
    }
   ],
   "source": [
    "data[\"race/ethnicity\"].value_counts()"
   ]
  },
  {
   "cell_type": "code",
   "execution_count": 8,
   "metadata": {
    "execution": {
     "iopub.execute_input": "2020-10-22T15:38:01.496360Z",
     "iopub.status.busy": "2020-10-22T15:38:01.495583Z",
     "iopub.status.idle": "2020-10-22T15:38:01.681963Z",
     "shell.execute_reply": "2020-10-22T15:38:01.681226Z"
    },
    "papermill": {
     "duration": 0.264523,
     "end_time": "2020-10-22T15:38:01.682082",
     "exception": false,
     "start_time": "2020-10-22T15:38:01.417559",
     "status": "completed"
    },
    "tags": []
   },
   "outputs": [
    {
     "data": {
      "image/png": "[encoded data removed]",
      "text/plain": [
       "<Figure size 576x432 with 1 Axes>"
      ]
     },
     "metadata": {},
     "output_type": "display_data"
    }
   ],
   "source": [
    "fig,ax = plt.subplots(figsize=(8,6))\n",
    "sns.countplot(data[\"race/ethnicity\"])\n",
    "plt.show()"
   ]
  },
  {
   "cell_type": "markdown",
   "metadata": {
    "papermill": {
     "duration": 0.057155,
     "end_time": "2020-10-22T15:38:01.796940",
     "exception": false,
     "start_time": "2020-10-22T15:38:01.739785",
     "status": "completed"
    },
    "tags": []
   },
   "source": [
    "* Most of the dataset's group is group D.\n",
    "* Entries of this feature is unbalanced. \n",
    "* We should convert this feature into categorical, and after that we should encode it."
   ]
  },
  {
   "cell_type": "markdown",
   "metadata": {
    "papermill": {
     "duration": 0.057386,
     "end_time": "2020-10-22T15:38:01.912397",
     "exception": false,
     "start_time": "2020-10-22T15:38:01.855011",
     "status": "completed"
    },
    "tags": []
   },
   "source": [
    "### Parental Level Of Education Countplot"
   ]
  },
  {
   "cell_type": "code",
   "execution_count": 9,
   "metadata": {
    "execution": {
     "iopub.execute_input": "2020-10-22T15:38:02.036615Z",
     "iopub.status.busy": "2020-10-22T15:38:02.035594Z",
     "iopub.status.idle": "2020-10-22T15:38:02.040351Z",
     "shell.execute_reply": "2020-10-22T15:38:02.039650Z"
    },
    "papermill": {
     "duration": 0.070682,
     "end_time": "2020-10-22T15:38:02.040468",
     "exception": false,
     "start_time": "2020-10-22T15:38:01.969786",
     "status": "completed"
    },
    "tags": []
   },
   "outputs": [
    {
     "data": {
      "text/plain": [
       "some college          226\n",
       "associate's degree    222\n",
       "high school           196\n",
       "some high school      179\n",
       "bachelor's degree     118\n",
       "master's degree        59\n",
       "Name: parental level of education, dtype: int64"
      ]
     },
     "execution_count": 9,
     "metadata": {},
     "output_type": "execute_result"
    }
   ],
   "source": [
    "data[\"parental level of education\"].value_counts()"
   ]
  },
  {
   "cell_type": "code",
   "execution_count": 10,
   "metadata": {
    "execution": {
     "iopub.execute_input": "2020-10-22T15:38:02.182214Z",
     "iopub.status.busy": "2020-10-22T15:38:02.164413Z",
     "iopub.status.idle": "2020-10-22T15:38:02.392236Z",
     "shell.execute_reply": "2020-10-22T15:38:02.391500Z"
    },
    "papermill": {
     "duration": 0.293547,
     "end_time": "2020-10-22T15:38:02.392376",
     "exception": false,
     "start_time": "2020-10-22T15:38:02.098829",
     "status": "completed"
    },
    "tags": []
   },
   "outputs": [
    {
     "data": {
      "image/png": "[encoded data removed]",
      "text/plain": [
       "<Figure size 576x432 with 1 Axes>"
      ]
     },
     "metadata": {},
     "output_type": "display_data"
    }
   ],
   "source": [
    "fig,ax = plt.subplots(figsize=(8,6))\n",
    "sns.countplot(data[\"parental level of education\"])\n",
    "plt.xticks(rotation=60)\n",
    "plt.show()"
   ]
  },
  {
   "cell_type": "markdown",
   "metadata": {
    "papermill": {
     "duration": 0.059269,
     "end_time": "2020-10-22T15:38:02.511711",
     "exception": false,
     "start_time": "2020-10-22T15:38:02.452442",
     "status": "completed"
    },
    "tags": []
   },
   "source": [
    "* We should convert this feature into categorical and then we should encode it."
   ]
  },
  {
   "cell_type": "markdown",
   "metadata": {
    "papermill": {
     "duration": 0.059904,
     "end_time": "2020-10-22T15:38:02.630959",
     "exception": false,
     "start_time": "2020-10-22T15:38:02.571055",
     "status": "completed"
    },
    "tags": []
   },
   "source": [
    "### Lunch Countplot"
   ]
  },
  {
   "cell_type": "code",
   "execution_count": 11,
   "metadata": {
    "execution": {
     "iopub.execute_input": "2020-10-22T15:38:02.758491Z",
     "iopub.status.busy": "2020-10-22T15:38:02.757461Z",
     "iopub.status.idle": "2020-10-22T15:38:02.761617Z",
     "shell.execute_reply": "2020-10-22T15:38:02.760906Z"
    },
    "papermill": {
     "duration": 0.071475,
     "end_time": "2020-10-22T15:38:02.761734",
     "exception": false,
     "start_time": "2020-10-22T15:38:02.690259",
     "status": "completed"
    },
    "tags": []
   },
   "outputs": [
    {
     "data": {
      "text/plain": [
       "standard        645\n",
       "free/reduced    355\n",
       "Name: lunch, dtype: int64"
      ]
     },
     "execution_count": 11,
     "metadata": {},
     "output_type": "execute_result"
    }
   ],
   "source": [
    "data[\"lunch\"].value_counts()"
   ]
  },
  {
   "cell_type": "code",
   "execution_count": 12,
   "metadata": {
    "execution": {
     "iopub.execute_input": "2020-10-22T15:38:02.903672Z",
     "iopub.status.busy": "2020-10-22T15:38:02.902467Z",
     "iopub.status.idle": "2020-10-22T15:38:03.052304Z",
     "shell.execute_reply": "2020-10-22T15:38:03.052848Z"
    },
    "papermill": {
     "duration": 0.231384,
     "end_time": "2020-10-22T15:38:03.053007",
     "exception": false,
     "start_time": "2020-10-22T15:38:02.821623",
     "status": "completed"
    },
    "tags": []
   },
   "outputs": [
    {
     "data": {
      "image/png": "[encoded data removed]",
      "text/plain": [
       "<Figure size 576x432 with 1 Axes>"
      ]
     },
     "metadata": {},
     "output_type": "display_data"
    }
   ],
   "source": [
    "fig,ax = plt.subplots(figsize=(8,6))\n",
    "sns.countplot(data[\"lunch\"])\n",
    "plt.show()"
   ]
  },
  {
   "cell_type": "markdown",
   "metadata": {
    "papermill": {
     "duration": 0.061948,
     "end_time": "2020-10-22T15:38:03.176738",
     "exception": false,
     "start_time": "2020-10-22T15:38:03.114790",
     "status": "completed"
    },
    "tags": []
   },
   "source": [
    "* This feature is definetely unbalanced.\n",
    "* We should convert this feature into categorical and after that we should encode it."
   ]
  },
  {
   "cell_type": "markdown",
   "metadata": {
    "papermill": {
     "duration": 0.060852,
     "end_time": "2020-10-22T15:38:03.299116",
     "exception": false,
     "start_time": "2020-10-22T15:38:03.238264",
     "status": "completed"
    },
    "tags": []
   },
   "source": [
    "### Test Preparation Course Countplot"
   ]
  },
  {
   "cell_type": "code",
   "execution_count": 13,
   "metadata": {
    "execution": {
     "iopub.execute_input": "2020-10-22T15:38:03.431187Z",
     "iopub.status.busy": "2020-10-22T15:38:03.430218Z",
     "iopub.status.idle": "2020-10-22T15:38:03.435061Z",
     "shell.execute_reply": "2020-10-22T15:38:03.434276Z"
    },
    "papermill": {
     "duration": 0.074079,
     "end_time": "2020-10-22T15:38:03.435177",
     "exception": false,
     "start_time": "2020-10-22T15:38:03.361098",
     "status": "completed"
    },
    "tags": []
   },
   "outputs": [
    {
     "data": {
      "text/plain": [
       "none         642\n",
       "completed    358\n",
       "Name: test preparation course, dtype: int64"
      ]
     },
     "execution_count": 13,
     "metadata": {},
     "output_type": "execute_result"
    }
   ],
   "source": [
    "data[\"test preparation course\"].value_counts()"
   ]
  },
  {
   "cell_type": "code",
   "execution_count": 14,
   "metadata": {
    "execution": {
     "iopub.execute_input": "2020-10-22T15:38:03.578596Z",
     "iopub.status.busy": "2020-10-22T15:38:03.564728Z",
     "iopub.status.idle": "2020-10-22T15:38:03.735877Z",
     "shell.execute_reply": "2020-10-22T15:38:03.735112Z"
    },
    "papermill": {
     "duration": 0.238578,
     "end_time": "2020-10-22T15:38:03.736006",
     "exception": false,
     "start_time": "2020-10-22T15:38:03.497428",
     "status": "completed"
    },
    "tags": []
   },
   "outputs": [
    {
     "data": {
      "image/png": "[encoded data removed]",
      "text/plain": [
       "<Figure size 576x432 with 1 Axes>"
      ]
     },
     "metadata": {},
     "output_type": "display_data"
    }
   ],
   "source": [
    "fig,ax = plt.subplots(figsize=(8,6))\n",
    "sns.countplot(data[\"test preparation course\"])\n",
    "plt.show()"
   ]
  },
  {
   "cell_type": "markdown",
   "metadata": {
    "papermill": {
     "duration": 0.062796,
     "end_time": "2020-10-22T15:38:03.861641",
     "exception": false,
     "start_time": "2020-10-22T15:38:03.798845",
     "status": "completed"
    },
    "tags": []
   },
   "source": [
    "* Don't be confused because of the \"none\" label. It does not mean it is a missing value. \n",
    "* We should convert and encode this feature."
   ]
  },
  {
   "cell_type": "markdown",
   "metadata": {
    "papermill": {
     "duration": 0.062457,
     "end_time": "2020-10-22T15:38:03.986633",
     "exception": false,
     "start_time": "2020-10-22T15:38:03.924176",
     "status": "completed"
    },
    "tags": []
   },
   "source": [
    "### Math Score Histogram"
   ]
  },
  {
   "cell_type": "code",
   "execution_count": 15,
   "metadata": {
    "execution": {
     "iopub.execute_input": "2020-10-22T15:38:04.125150Z",
     "iopub.status.busy": "2020-10-22T15:38:04.123949Z",
     "iopub.status.idle": "2020-10-22T15:38:04.501262Z",
     "shell.execute_reply": "2020-10-22T15:38:04.500560Z"
    },
    "papermill": {
     "duration": 0.452132,
     "end_time": "2020-10-22T15:38:04.501401",
     "exception": false,
     "start_time": "2020-10-22T15:38:04.049269",
     "status": "completed"
    },
    "tags": []
   },
   "outputs": [
    {
     "data": {
      "image/png": "[encoded data removed]",
      "text/plain": [
       "<Figure size 576x432 with 1 Axes>"
      ]
     },
     "metadata": {},
     "output_type": "display_data"
    }
   ],
   "source": [
    "fig,ax = plt.subplots(figsize=(8,6))\n",
    "sns.distplot(data[\"math score\"])\n",
    "plt.show()"
   ]
  },
  {
   "cell_type": "markdown",
   "metadata": {
    "papermill": {
     "duration": 0.064547,
     "end_time": "2020-10-22T15:38:04.630041",
     "exception": false,
     "start_time": "2020-10-22T15:38:04.565494",
     "status": "completed"
    },
    "tags": []
   },
   "source": [
    "* Most of the students took score between 50 and 100.\n",
    "* Although there are scores between 0 and 40, they are so rare.\n",
    "* I am wondering the relation between math score and gender but it is not the subject of this section, we will examine that in Detailed Data Analyses."
   ]
  },
  {
   "cell_type": "markdown",
   "metadata": {
    "papermill": {
     "duration": 0.064203,
     "end_time": "2020-10-22T15:38:04.758304",
     "exception": false,
     "start_time": "2020-10-22T15:38:04.694101",
     "status": "completed"
    },
    "tags": []
   },
   "source": [
    "### Writing Score Histogram"
   ]
  },
  {
   "cell_type": "code",
   "execution_count": 16,
   "metadata": {
    "execution": {
     "iopub.execute_input": "2020-10-22T15:38:04.907185Z",
     "iopub.status.busy": "2020-10-22T15:38:04.906480Z",
     "iopub.status.idle": "2020-10-22T15:38:05.278944Z",
     "shell.execute_reply": "2020-10-22T15:38:05.279500Z"
    },
    "papermill": {
     "duration": 0.45725,
     "end_time": "2020-10-22T15:38:05.279661",
     "exception": false,
     "start_time": "2020-10-22T15:38:04.822411",
     "status": "completed"
    },
    "tags": []
   },
   "outputs": [
    {
     "data": {
      "image/png": "[encoded data removed]",
      "text/plain": [
       "<Figure size 576x432 with 1 Axes>"
      ]
     },
     "metadata": {},
     "output_type": "display_data"
    }
   ],
   "source": [
    "fig,ax = plt.subplots(figsize=(8,6))\n",
    "sns.distplot(data[\"writing score\"])\n",
    "plt.show()"
   ]
  },
  {
   "cell_type": "markdown",
   "metadata": {
    "papermill": {
     "duration": 0.065319,
     "end_time": "2020-10-22T15:38:05.411227",
     "exception": false,
     "start_time": "2020-10-22T15:38:05.345908",
     "status": "completed"
    },
    "tags": []
   },
   "source": [
    "* This plot is very similar with the previous plot.\n",
    "* I can't say anything new, everything is same with the math score."
   ]
  },
  {
   "cell_type": "markdown",
   "metadata": {
    "papermill": {
     "duration": 0.064872,
     "end_time": "2020-10-22T15:38:05.541746",
     "exception": false,
     "start_time": "2020-10-22T15:38:05.476874",
     "status": "completed"
    },
    "tags": []
   },
   "source": [
    "### Reading Score Histogram"
   ]
  },
  {
   "cell_type": "code",
   "execution_count": 17,
   "metadata": {
    "execution": {
     "iopub.execute_input": "2020-10-22T15:38:05.728348Z",
     "iopub.status.busy": "2020-10-22T15:38:05.726710Z",
     "iopub.status.idle": "2020-10-22T15:38:06.091183Z",
     "shell.execute_reply": "2020-10-22T15:38:06.090386Z"
    },
    "papermill": {
     "duration": 0.441488,
     "end_time": "2020-10-22T15:38:06.091314",
     "exception": false,
     "start_time": "2020-10-22T15:38:05.649826",
     "status": "completed"
    },
    "tags": []
   },
   "outputs": [
    {
     "data": {
      "image/png": "[encoded data removed]",
      "text/plain": [
       "<Figure size 576x432 with 1 Axes>"
      ]
     },
     "metadata": {},
     "output_type": "display_data"
    }
   ],
   "source": [
    "fig,ax = plt.subplots(figsize=(8,6))\n",
    "sns.distplot(data[\"reading score\"])\n",
    "plt.show()"
   ]
  },
  {
   "cell_type": "markdown",
   "metadata": {
    "papermill": {
     "duration": 0.065727,
     "end_time": "2020-10-22T15:38:06.230936",
     "exception": false,
     "start_time": "2020-10-22T15:38:06.165209",
     "status": "completed"
    },
    "tags": []
   },
   "source": [
    "# Detailed Data Analyses\n",
    "\n",
    "In previous section we've examined the distrubiton of dataset, and now We are going to examine the relations between feautures, especially relations between gender and other features. Let's start with the heatmap"
   ]
  },
  {
   "cell_type": "markdown",
   "metadata": {
    "papermill": {
     "duration": 0.066814,
     "end_time": "2020-10-22T15:38:06.363896",
     "exception": false,
     "start_time": "2020-10-22T15:38:06.297082",
     "status": "completed"
    },
    "tags": []
   },
   "source": [
    "## Correlation Heatmap"
   ]
  },
  {
   "cell_type": "code",
   "execution_count": 18,
   "metadata": {
    "execution": {
     "iopub.execute_input": "2020-10-22T15:38:06.513020Z",
     "iopub.status.busy": "2020-10-22T15:38:06.511929Z",
     "iopub.status.idle": "2020-10-22T15:38:06.516968Z",
     "shell.execute_reply": "2020-10-22T15:38:06.516244Z"
    },
    "papermill": {
     "duration": 0.086764,
     "end_time": "2020-10-22T15:38:06.517086",
     "exception": false,
     "start_time": "2020-10-22T15:38:06.430322",
     "status": "completed"
    },
    "tags": []
   },
   "outputs": [
    {
     "data": {
      "text/html": [
       "<div>\n",
       "<style scoped>\n",
       "    .dataframe tbody tr th:only-of-type {\n",
       "        vertical-align: middle;\n",
       "    }\n",
       "\n",
       "    .dataframe tbody tr th {\n",
       "        vertical-align: top;\n",
       "    }\n",
       "\n",
       "    .dataframe thead th {\n",
       "        text-align: right;\n",
       "    }\n",
       "</style>\n",
       "<table border=\"1\" class=\"dataframe\">\n",
       "  <thead>\n",
       "    <tr style=\"text-align: right;\">\n",
       "      <th></th>\n",
       "      <th>math score</th>\n",
       "      <th>reading score</th>\n",
       "      <th>writing score</th>\n",
       "    </tr>\n",
       "  </thead>\n",
       "  <tbody>\n",
       "    <tr>\n",
       "      <th>math score</th>\n",
       "      <td>1.000000</td>\n",
       "      <td>0.817580</td>\n",
       "      <td>0.802642</td>\n",
       "    </tr>\n",
       "    <tr>\n",
       "      <th>reading score</th>\n",
       "      <td>0.817580</td>\n",
       "      <td>1.000000</td>\n",
       "      <td>0.954598</td>\n",
       "    </tr>\n",
       "    <tr>\n",
       "      <th>writing score</th>\n",
       "      <td>0.802642</td>\n",
       "      <td>0.954598</td>\n",
       "      <td>1.000000</td>\n",
       "    </tr>\n",
       "  </tbody>\n",
       "</table>\n",
       "</div>"
      ],
      "text/plain": [
       "               math score  reading score  writing score\n",
       "math score       1.000000       0.817580       0.802642\n",
       "reading score    0.817580       1.000000       0.954598\n",
       "writing score    0.802642       0.954598       1.000000"
      ]
     },
     "execution_count": 18,
     "metadata": {},
     "output_type": "execute_result"
    }
   ],
   "source": [
    "data.corr()"
   ]
  },
  {
   "cell_type": "code",
   "execution_count": 19,
   "metadata": {
    "execution": {
     "iopub.execute_input": "2020-10-22T15:38:06.660276Z",
     "iopub.status.busy": "2020-10-22T15:38:06.659459Z",
     "iopub.status.idle": "2020-10-22T15:38:06.954159Z",
     "shell.execute_reply": "2020-10-22T15:38:06.953528Z"
    },
    "papermill": {
     "duration": 0.369871,
     "end_time": "2020-10-22T15:38:06.954282",
     "exception": false,
     "start_time": "2020-10-22T15:38:06.584411",
     "status": "completed"
    },
    "tags": []
   },
   "outputs": [
    {
     "data": {
      "image/png": "[encoded data removed]",
      "text/plain": [
       "<Figure size 432x432 with 2 Axes>"
      ]
     },
     "metadata": {},
     "output_type": "display_data"
    }
   ],
   "source": [
    "fig,ax = plt.subplots(figsize=(6,6))\n",
    "sns.heatmap(data.corr(),annot=True,fmt=\"0.2f\",linewidths=1.5)\n",
    "plt.show()"
   ]
  },
  {
   "cell_type": "markdown",
   "metadata": {
    "papermill": {
     "duration": 0.069148,
     "end_time": "2020-10-22T15:38:07.093356",
     "exception": false,
     "start_time": "2020-10-22T15:38:07.024208",
     "status": "completed"
    },
    "tags": []
   },
   "source": [
    "* All of the features are correlated with each others. "
   ]
  },
  {
   "cell_type": "markdown",
   "metadata": {
    "papermill": {
     "duration": 0.068534,
     "end_time": "2020-10-22T15:38:07.231149",
     "exception": false,
     "start_time": "2020-10-22T15:38:07.162615",
     "status": "completed"
    },
    "tags": []
   },
   "source": [
    "## Relation Between Gender - Math Score "
   ]
  },
  {
   "cell_type": "code",
   "execution_count": 20,
   "metadata": {
    "execution": {
     "iopub.execute_input": "2020-10-22T15:38:07.384081Z",
     "iopub.status.busy": "2020-10-22T15:38:07.383091Z",
     "iopub.status.idle": "2020-10-22T15:38:07.387914Z",
     "shell.execute_reply": "2020-10-22T15:38:07.387174Z"
    },
    "papermill": {
     "duration": 0.088017,
     "end_time": "2020-10-22T15:38:07.388040",
     "exception": false,
     "start_time": "2020-10-22T15:38:07.300023",
     "status": "completed"
    },
    "tags": []
   },
   "outputs": [
    {
     "data": {
      "text/plain": [
       "gender\n",
       "female    63.633205\n",
       "male      68.728216\n",
       "Name: math score, dtype: float64"
      ]
     },
     "execution_count": 20,
     "metadata": {},
     "output_type": "execute_result"
    }
   ],
   "source": [
    "gender_math = data.groupby(\"gender\")[\"math score\"].mean()\n",
    "gender_math"
   ]
  },
  {
   "cell_type": "code",
   "execution_count": 21,
   "metadata": {
    "execution": {
     "iopub.execute_input": "2020-10-22T15:38:07.551114Z",
     "iopub.status.busy": "2020-10-22T15:38:07.549902Z",
     "iopub.status.idle": "2020-10-22T15:38:07.691694Z",
     "shell.execute_reply": "2020-10-22T15:38:07.690868Z"
    },
    "papermill": {
     "duration": 0.233442,
     "end_time": "2020-10-22T15:38:07.691829",
     "exception": false,
     "start_time": "2020-10-22T15:38:07.458387",
     "status": "completed"
    },
    "tags": []
   },
   "outputs": [
    {
     "data": {
      "image/png": "[encoded data removed]",
      "text/plain": [
       "<Figure size 432x288 with 1 Axes>"
      ]
     },
     "metadata": {},
     "output_type": "display_data"
    }
   ],
   "source": [
    "sns.barplot(gender_math.index,gender_math.values)\n",
    "plt.show()"
   ]
  },
  {
   "cell_type": "markdown",
   "metadata": {
    "papermill": {
     "duration": 0.07824,
     "end_time": "2020-10-22T15:38:07.848898",
     "exception": false,
     "start_time": "2020-10-22T15:38:07.770658",
     "status": "completed"
    },
    "tags": []
   },
   "source": [
    "* Although scores are close, male's score is better.\n"
   ]
  },
  {
   "cell_type": "markdown",
   "metadata": {
    "papermill": {
     "duration": 0.073799,
     "end_time": "2020-10-22T15:38:08.001437",
     "exception": false,
     "start_time": "2020-10-22T15:38:07.927638",
     "status": "completed"
    },
    "tags": []
   },
   "source": [
    "## Relation Between Gender - Writing Score"
   ]
  },
  {
   "cell_type": "code",
   "execution_count": 22,
   "metadata": {
    "execution": {
     "iopub.execute_input": "2020-10-22T15:38:08.151688Z",
     "iopub.status.busy": "2020-10-22T15:38:08.150539Z",
     "iopub.status.idle": "2020-10-22T15:38:08.154688Z",
     "shell.execute_reply": "2020-10-22T15:38:08.155266Z"
    },
    "papermill": {
     "duration": 0.084063,
     "end_time": "2020-10-22T15:38:08.155435",
     "exception": false,
     "start_time": "2020-10-22T15:38:08.071372",
     "status": "completed"
    },
    "tags": []
   },
   "outputs": [
    {
     "data": {
      "text/plain": [
       "gender\n",
       "female    72.467181\n",
       "male      63.311203\n",
       "Name: writing score, dtype: float64"
      ]
     },
     "execution_count": 22,
     "metadata": {},
     "output_type": "execute_result"
    }
   ],
   "source": [
    "gender_writing = data.groupby(\"gender\")[\"writing score\"].mean()\n",
    "gender_writing"
   ]
  },
  {
   "cell_type": "code",
   "execution_count": 23,
   "metadata": {
    "execution": {
     "iopub.execute_input": "2020-10-22T15:38:08.312069Z",
     "iopub.status.busy": "2020-10-22T15:38:08.304393Z",
     "iopub.status.idle": "2020-10-22T15:38:08.463700Z",
     "shell.execute_reply": "2020-10-22T15:38:08.462886Z"
    },
    "papermill": {
     "duration": 0.237636,
     "end_time": "2020-10-22T15:38:08.463834",
     "exception": false,
     "start_time": "2020-10-22T15:38:08.226198",
     "status": "completed"
    },
    "tags": []
   },
   "outputs": [
    {
     "data": {
      "image/png": "[encoded data removed]",
      "text/plain": [
       "<Figure size 432x288 with 1 Axes>"
      ]
     },
     "metadata": {},
     "output_type": "display_data"
    }
   ],
   "source": [
    "sns.barplot(gender_writing.index,gender_writing.values)\n",
    "plt.show()\n"
   ]
  },
  {
   "cell_type": "markdown",
   "metadata": {
    "papermill": {
     "duration": 0.080552,
     "end_time": "2020-10-22T15:38:08.625180",
     "exception": false,
     "start_time": "2020-10-22T15:38:08.544628",
     "status": "completed"
    },
    "tags": []
   },
   "source": [
    "* Unlike the previous feature, scores are far. \n",
    "* We can say that, women are better in writing exam"
   ]
  },
  {
   "cell_type": "markdown",
   "metadata": {
    "papermill": {
     "duration": 0.071045,
     "end_time": "2020-10-22T15:38:08.776252",
     "exception": false,
     "start_time": "2020-10-22T15:38:08.705207",
     "status": "completed"
    },
    "tags": []
   },
   "source": [
    "## Relation Between Gender - Reading Score"
   ]
  },
  {
   "cell_type": "code",
   "execution_count": 24,
   "metadata": {
    "execution": {
     "iopub.execute_input": "2020-10-22T15:38:08.929801Z",
     "iopub.status.busy": "2020-10-22T15:38:08.928706Z",
     "iopub.status.idle": "2020-10-22T15:38:08.933295Z",
     "shell.execute_reply": "2020-10-22T15:38:08.932496Z"
    },
    "papermill": {
     "duration": 0.086064,
     "end_time": "2020-10-22T15:38:08.933455",
     "exception": false,
     "start_time": "2020-10-22T15:38:08.847391",
     "status": "completed"
    },
    "tags": []
   },
   "outputs": [
    {
     "data": {
      "text/plain": [
       "gender\n",
       "female    72.608108\n",
       "male      65.473029\n",
       "Name: reading score, dtype: float64"
      ]
     },
     "execution_count": 24,
     "metadata": {},
     "output_type": "execute_result"
    }
   ],
   "source": [
    "gender_reading = data.groupby(\"gender\")[\"reading score\"].mean()\n",
    "gender_reading"
   ]
  },
  {
   "cell_type": "code",
   "execution_count": 25,
   "metadata": {
    "execution": {
     "iopub.execute_input": "2020-10-22T15:38:09.113439Z",
     "iopub.status.busy": "2020-10-22T15:38:09.112225Z",
     "iopub.status.idle": "2020-10-22T15:38:09.260772Z",
     "shell.execute_reply": "2020-10-22T15:38:09.261296Z"
    },
    "papermill": {
     "duration": 0.245594,
     "end_time": "2020-10-22T15:38:09.261479",
     "exception": false,
     "start_time": "2020-10-22T15:38:09.015885",
     "status": "completed"
    },
    "tags": []
   },
   "outputs": [
    {
     "data": {
      "image/png": "[encoded data removed]",
      "text/plain": [
       "<Figure size 432x288 with 1 Axes>"
      ]
     },
     "metadata": {},
     "output_type": "display_data"
    }
   ],
   "source": [
    "sns.barplot(gender_reading.index,gender_reading.values)\n",
    "plt.show()"
   ]
  },
  {
   "cell_type": "markdown",
   "metadata": {
    "papermill": {
     "duration": 0.07254,
     "end_time": "2020-10-22T15:38:09.406988",
     "exception": false,
     "start_time": "2020-10-22T15:38:09.334448",
     "status": "completed"
    },
    "tags": []
   },
   "source": [
    "* Like the writing score, women are better in writing exam."
   ]
  },
  {
   "cell_type": "markdown",
   "metadata": {
    "papermill": {
     "duration": 0.072304,
     "end_time": "2020-10-22T15:38:09.551958",
     "exception": false,
     "start_time": "2020-10-22T15:38:09.479654",
     "status": "completed"
    },
    "tags": []
   },
   "source": [
    "## Relation Between Race - Math Score\n"
   ]
  },
  {
   "cell_type": "code",
   "execution_count": 26,
   "metadata": {
    "execution": {
     "iopub.execute_input": "2020-10-22T15:38:09.703223Z",
     "iopub.status.busy": "2020-10-22T15:38:09.702471Z",
     "iopub.status.idle": "2020-10-22T15:38:09.710357Z",
     "shell.execute_reply": "2020-10-22T15:38:09.709538Z"
    },
    "papermill": {
     "duration": 0.086137,
     "end_time": "2020-10-22T15:38:09.710500",
     "exception": false,
     "start_time": "2020-10-22T15:38:09.624363",
     "status": "completed"
    },
    "tags": []
   },
   "outputs": [
    {
     "data": {
      "text/plain": [
       "race/ethnicity\n",
       "group A    61.629213\n",
       "group B    63.452632\n",
       "group C    64.463950\n",
       "group D    67.362595\n",
       "group E    73.821429\n",
       "Name: math score, dtype: float64"
      ]
     },
     "execution_count": 26,
     "metadata": {},
     "output_type": "execute_result"
    }
   ],
   "source": [
    "race_math = data.groupby(\"race/ethnicity\")[\"math score\"].mean()\n",
    "race_math"
   ]
  },
  {
   "cell_type": "code",
   "execution_count": 27,
   "metadata": {
    "execution": {
     "iopub.execute_input": "2020-10-22T15:38:09.905667Z",
     "iopub.status.busy": "2020-10-22T15:38:09.904390Z",
     "iopub.status.idle": "2020-10-22T15:38:10.123936Z",
     "shell.execute_reply": "2020-10-22T15:38:10.123000Z"
    },
    "papermill": {
     "duration": 0.331232,
     "end_time": "2020-10-22T15:38:10.124122",
     "exception": false,
     "start_time": "2020-10-22T15:38:09.792890",
     "status": "completed"
    },
    "tags": []
   },
   "outputs": [
    {
     "data": {
      "image/png": "[encoded data removed]",
      "text/plain": [
       "<Figure size 432x288 with 1 Axes>"
      ]
     },
     "metadata": {},
     "output_type": "display_data"
    }
   ],
   "source": [
    "sns.barplot(race_math.index,race_math.values)\n",
    "plt.show()"
   ]
  },
  {
   "cell_type": "markdown",
   "metadata": {
    "papermill": {
     "duration": 0.07433,
     "end_time": "2020-10-22T15:38:10.287425",
     "exception": false,
     "start_time": "2020-10-22T15:38:10.213095",
     "status": "completed"
    },
    "tags": []
   },
   "source": [
    "* Bad to good teams:\n",
    "\n",
    "\n",
    "1. Group A\n",
    "1. Group B\n",
    "1. Group C\n",
    "1. Group D\n",
    "1. Group E"
   ]
  },
  {
   "cell_type": "markdown",
   "metadata": {
    "papermill": {
     "duration": 0.074423,
     "end_time": "2020-10-22T15:38:10.439459",
     "exception": false,
     "start_time": "2020-10-22T15:38:10.365036",
     "status": "completed"
    },
    "tags": []
   },
   "source": [
    "## Relation Between Race - Writing Score"
   ]
  },
  {
   "cell_type": "code",
   "execution_count": 28,
   "metadata": {
    "execution": {
     "iopub.execute_input": "2020-10-22T15:38:10.602072Z",
     "iopub.status.busy": "2020-10-22T15:38:10.599010Z",
     "iopub.status.idle": "2020-10-22T15:38:10.606640Z",
     "shell.execute_reply": "2020-10-22T15:38:10.607220Z"
    },
    "papermill": {
     "duration": 0.093048,
     "end_time": "2020-10-22T15:38:10.607418",
     "exception": false,
     "start_time": "2020-10-22T15:38:10.514370",
     "status": "completed"
    },
    "tags": []
   },
   "outputs": [
    {
     "data": {
      "text/plain": [
       "race/ethnicity\n",
       "group A    62.674157\n",
       "group B    65.600000\n",
       "group C    67.827586\n",
       "group D    70.145038\n",
       "group E    71.407143\n",
       "Name: writing score, dtype: float64"
      ]
     },
     "execution_count": 28,
     "metadata": {},
     "output_type": "execute_result"
    }
   ],
   "source": [
    "race_writing = data.groupby(\"race/ethnicity\")[\"writing score\"].mean()\n",
    "race_writing"
   ]
  },
  {
   "cell_type": "code",
   "execution_count": 29,
   "metadata": {
    "execution": {
     "iopub.execute_input": "2020-10-22T15:38:10.782301Z",
     "iopub.status.busy": "2020-10-22T15:38:10.771739Z",
     "iopub.status.idle": "2020-10-22T15:38:10.989899Z",
     "shell.execute_reply": "2020-10-22T15:38:10.993400Z"
    },
    "papermill": {
     "duration": 0.301916,
     "end_time": "2020-10-22T15:38:10.993667",
     "exception": false,
     "start_time": "2020-10-22T15:38:10.691751",
     "status": "completed"
    },
    "tags": []
   },
   "outputs": [
    {
     "data": {
      "image/png": "[encoded data removed]",
      "text/plain": [
       "<Figure size 432x288 with 1 Axes>"
      ]
     },
     "metadata": {},
     "output_type": "display_data"
    }
   ],
   "source": [
    "sns.barplot(race_writing.index,race_writing.values)\n",
    "plt.show()"
   ]
  },
  {
   "cell_type": "markdown",
   "metadata": {
    "papermill": {
     "duration": 0.078916,
     "end_time": "2020-10-22T15:38:11.189761",
     "exception": false,
     "start_time": "2020-10-22T15:38:11.110845",
     "status": "completed"
    },
    "tags": []
   },
   "source": [
    "* Like the math score, the sequence of groups is the same."
   ]
  },
  {
   "cell_type": "markdown",
   "metadata": {
    "papermill": {
     "duration": 0.07605,
     "end_time": "2020-10-22T15:38:11.341842",
     "exception": false,
     "start_time": "2020-10-22T15:38:11.265792",
     "status": "completed"
    },
    "tags": []
   },
   "source": [
    "## Relation Between Race - Reading Score"
   ]
  },
  {
   "cell_type": "code",
   "execution_count": 30,
   "metadata": {
    "execution": {
     "iopub.execute_input": "2020-10-22T15:38:11.505210Z",
     "iopub.status.busy": "2020-10-22T15:38:11.504172Z",
     "iopub.status.idle": "2020-10-22T15:38:11.507846Z",
     "shell.execute_reply": "2020-10-22T15:38:11.508459Z"
    },
    "papermill": {
     "duration": 0.089184,
     "end_time": "2020-10-22T15:38:11.508618",
     "exception": false,
     "start_time": "2020-10-22T15:38:11.419434",
     "status": "completed"
    },
    "tags": []
   },
   "outputs": [
    {
     "data": {
      "text/plain": [
       "race/ethnicity\n",
       "group A    64.674157\n",
       "group B    67.352632\n",
       "group C    69.103448\n",
       "group D    70.030534\n",
       "group E    73.028571\n",
       "Name: reading score, dtype: float64"
      ]
     },
     "execution_count": 30,
     "metadata": {},
     "output_type": "execute_result"
    }
   ],
   "source": [
    "race_reading = data.groupby(\"race/ethnicity\")[\"reading score\"].mean()\n",
    "race_reading"
   ]
  },
  {
   "cell_type": "code",
   "execution_count": 31,
   "metadata": {
    "execution": {
     "iopub.execute_input": "2020-10-22T15:38:11.671100Z",
     "iopub.status.busy": "2020-10-22T15:38:11.668152Z",
     "iopub.status.idle": "2020-10-22T15:38:11.866424Z",
     "shell.execute_reply": "2020-10-22T15:38:11.865796Z"
    },
    "papermill": {
     "duration": 0.281571,
     "end_time": "2020-10-22T15:38:11.866549",
     "exception": false,
     "start_time": "2020-10-22T15:38:11.584978",
     "status": "completed"
    },
    "tags": []
   },
   "outputs": [
    {
     "data": {
      "image/png": "[encoded data removed]",
      "text/plain": [
       "<Figure size 432x288 with 1 Axes>"
      ]
     },
     "metadata": {},
     "output_type": "display_data"
    }
   ],
   "source": [
    "sns.barplot(race_reading.index,race_reading.values)\n",
    "plt.show()"
   ]
  },
  {
   "cell_type": "markdown",
   "metadata": {
    "papermill": {
     "duration": 0.077069,
     "end_time": "2020-10-22T15:38:12.021020",
     "exception": false,
     "start_time": "2020-10-22T15:38:11.943951",
     "status": "completed"
    },
    "tags": []
   },
   "source": [
    "# Data Preprocessing\n",
    "\n",
    "We analysed the data and now we are ready for processing the data. In this section I will follow these steps:\n",
    "\n",
    "* Converting Label Into Int64\n",
    "* Creating X and Y\n",
    "* One Hot Encoding\n",
    "* X Normalization\n",
    "* Train Test Split"
   ]
  },
  {
   "cell_type": "markdown",
   "metadata": {
    "papermill": {
     "duration": 0.077852,
     "end_time": "2020-10-22T15:38:12.176670",
     "exception": false,
     "start_time": "2020-10-22T15:38:12.098818",
     "status": "completed"
    },
    "tags": []
   },
   "source": [
    "## Converting Label Into Int64"
   ]
  },
  {
   "cell_type": "code",
   "execution_count": 32,
   "metadata": {
    "execution": {
     "iopub.execute_input": "2020-10-22T15:38:12.348756Z",
     "iopub.status.busy": "2020-10-22T15:38:12.347992Z",
     "iopub.status.idle": "2020-10-22T15:38:12.353729Z",
     "shell.execute_reply": "2020-10-22T15:38:12.353022Z"
    },
    "papermill": {
     "duration": 0.099764,
     "end_time": "2020-10-22T15:38:12.353861",
     "exception": false,
     "start_time": "2020-10-22T15:38:12.254097",
     "status": "completed"
    },
    "tags": []
   },
   "outputs": [
    {
     "name": "stdout",
     "output_type": "stream",
     "text": [
      "['female' 'group B' \"bachelor's degree\" 'standard' 'none' 72 72 74]\n"
     ]
    },
    {
     "data": {
      "text/html": [
       "<div>\n",
       "<style scoped>\n",
       "    .dataframe tbody tr th:only-of-type {\n",
       "        vertical-align: middle;\n",
       "    }\n",
       "\n",
       "    .dataframe tbody tr th {\n",
       "        vertical-align: top;\n",
       "    }\n",
       "\n",
       "    .dataframe thead th {\n",
       "        text-align: right;\n",
       "    }\n",
       "</style>\n",
       "<table border=\"1\" class=\"dataframe\">\n",
       "  <thead>\n",
       "    <tr style=\"text-align: right;\">\n",
       "      <th></th>\n",
       "      <th>gender</th>\n",
       "      <th>race/ethnicity</th>\n",
       "      <th>parental level of education</th>\n",
       "      <th>lunch</th>\n",
       "      <th>test preparation course</th>\n",
       "      <th>math score</th>\n",
       "      <th>reading score</th>\n",
       "      <th>writing score</th>\n",
       "    </tr>\n",
       "  </thead>\n",
       "  <tbody>\n",
       "    <tr>\n",
       "      <th>0</th>\n",
       "      <td>1</td>\n",
       "      <td>group B</td>\n",
       "      <td>bachelor's degree</td>\n",
       "      <td>standard</td>\n",
       "      <td>none</td>\n",
       "      <td>72</td>\n",
       "      <td>72</td>\n",
       "      <td>74</td>\n",
       "    </tr>\n",
       "  </tbody>\n",
       "</table>\n",
       "</div>"
      ],
      "text/plain": [
       "   gender race/ethnicity parental level of education     lunch  \\\n",
       "0       1        group B           bachelor's degree  standard   \n",
       "\n",
       "  test preparation course  math score  reading score  writing score  \n",
       "0                    none          72             72             74  "
      ]
     },
     "execution_count": 32,
     "metadata": {},
     "output_type": "execute_result"
    }
   ],
   "source": [
    "print(data.values[0])\n",
    "data[\"gender\"] = [1 if each == \"female\" else 0 for each in data[\"gender\"]]\n",
    "data.head(1)"
   ]
  },
  {
   "cell_type": "markdown",
   "metadata": {
    "papermill": {
     "duration": 0.078269,
     "end_time": "2020-10-22T15:38:12.510713",
     "exception": false,
     "start_time": "2020-10-22T15:38:12.432444",
     "status": "completed"
    },
    "tags": []
   },
   "source": [
    "## Creating X and Y"
   ]
  },
  {
   "cell_type": "code",
   "execution_count": 33,
   "metadata": {
    "execution": {
     "iopub.execute_input": "2020-10-22T15:38:12.685752Z",
     "iopub.status.busy": "2020-10-22T15:38:12.680823Z",
     "iopub.status.idle": "2020-10-22T15:38:12.690250Z",
     "shell.execute_reply": "2020-10-22T15:38:12.689681Z"
    },
    "papermill": {
     "duration": 0.101292,
     "end_time": "2020-10-22T15:38:12.690392",
     "exception": false,
     "start_time": "2020-10-22T15:38:12.589100",
     "status": "completed"
    },
    "tags": []
   },
   "outputs": [
    {
     "data": {
      "text/html": [
       "<div>\n",
       "<style scoped>\n",
       "    .dataframe tbody tr th:only-of-type {\n",
       "        vertical-align: middle;\n",
       "    }\n",
       "\n",
       "    .dataframe tbody tr th {\n",
       "        vertical-align: top;\n",
       "    }\n",
       "\n",
       "    .dataframe thead th {\n",
       "        text-align: right;\n",
       "    }\n",
       "</style>\n",
       "<table border=\"1\" class=\"dataframe\">\n",
       "  <thead>\n",
       "    <tr style=\"text-align: right;\">\n",
       "      <th></th>\n",
       "      <th>race/ethnicity</th>\n",
       "      <th>parental level of education</th>\n",
       "      <th>lunch</th>\n",
       "      <th>test preparation course</th>\n",
       "      <th>math score</th>\n",
       "      <th>reading score</th>\n",
       "      <th>writing score</th>\n",
       "    </tr>\n",
       "  </thead>\n",
       "  <tbody>\n",
       "    <tr>\n",
       "      <th>0</th>\n",
       "      <td>group B</td>\n",
       "      <td>bachelor's degree</td>\n",
       "      <td>standard</td>\n",
       "      <td>none</td>\n",
       "      <td>72</td>\n",
       "      <td>72</td>\n",
       "      <td>74</td>\n",
       "    </tr>\n",
       "    <tr>\n",
       "      <th>1</th>\n",
       "      <td>group C</td>\n",
       "      <td>some college</td>\n",
       "      <td>standard</td>\n",
       "      <td>completed</td>\n",
       "      <td>69</td>\n",
       "      <td>90</td>\n",
       "      <td>88</td>\n",
       "    </tr>\n",
       "    <tr>\n",
       "      <th>2</th>\n",
       "      <td>group B</td>\n",
       "      <td>master's degree</td>\n",
       "      <td>standard</td>\n",
       "      <td>none</td>\n",
       "      <td>90</td>\n",
       "      <td>95</td>\n",
       "      <td>93</td>\n",
       "    </tr>\n",
       "    <tr>\n",
       "      <th>3</th>\n",
       "      <td>group A</td>\n",
       "      <td>associate's degree</td>\n",
       "      <td>free/reduced</td>\n",
       "      <td>none</td>\n",
       "      <td>47</td>\n",
       "      <td>57</td>\n",
       "      <td>44</td>\n",
       "    </tr>\n",
       "    <tr>\n",
       "      <th>4</th>\n",
       "      <td>group C</td>\n",
       "      <td>some college</td>\n",
       "      <td>standard</td>\n",
       "      <td>none</td>\n",
       "      <td>76</td>\n",
       "      <td>78</td>\n",
       "      <td>75</td>\n",
       "    </tr>\n",
       "  </tbody>\n",
       "</table>\n",
       "</div>"
      ],
      "text/plain": [
       "  race/ethnicity parental level of education         lunch  \\\n",
       "0        group B           bachelor's degree      standard   \n",
       "1        group C                some college      standard   \n",
       "2        group B             master's degree      standard   \n",
       "3        group A          associate's degree  free/reduced   \n",
       "4        group C                some college      standard   \n",
       "\n",
       "  test preparation course  math score  reading score  writing score  \n",
       "0                    none          72             72             74  \n",
       "1               completed          69             90             88  \n",
       "2                    none          90             95             93  \n",
       "3                    none          47             57             44  \n",
       "4                    none          76             78             75  "
      ]
     },
     "execution_count": 33,
     "metadata": {},
     "output_type": "execute_result"
    }
   ],
   "source": [
    "x = data.drop(\"gender\",axis=1)\n",
    "y = data.gender\n",
    "x.head()"
   ]
  },
  {
   "cell_type": "markdown",
   "metadata": {
    "papermill": {
     "duration": 0.078653,
     "end_time": "2020-10-22T15:38:12.848094",
     "exception": false,
     "start_time": "2020-10-22T15:38:12.769441",
     "status": "completed"
    },
    "tags": []
   },
   "source": [
    "## One Hot Encoding"
   ]
  },
  {
   "cell_type": "code",
   "execution_count": 34,
   "metadata": {
    "execution": {
     "iopub.execute_input": "2020-10-22T15:38:13.015499Z",
     "iopub.status.busy": "2020-10-22T15:38:13.014727Z",
     "iopub.status.idle": "2020-10-22T15:38:13.037485Z",
     "shell.execute_reply": "2020-10-22T15:38:13.036899Z"
    },
    "papermill": {
     "duration": 0.110612,
     "end_time": "2020-10-22T15:38:13.037609",
     "exception": false,
     "start_time": "2020-10-22T15:38:12.926997",
     "status": "completed"
    },
    "tags": []
   },
   "outputs": [
    {
     "data": {
      "text/html": [
       "<div>\n",
       "<style scoped>\n",
       "    .dataframe tbody tr th:only-of-type {\n",
       "        vertical-align: middle;\n",
       "    }\n",
       "\n",
       "    .dataframe tbody tr th {\n",
       "        vertical-align: top;\n",
       "    }\n",
       "\n",
       "    .dataframe thead th {\n",
       "        text-align: right;\n",
       "    }\n",
       "</style>\n",
       "<table border=\"1\" class=\"dataframe\">\n",
       "  <thead>\n",
       "    <tr style=\"text-align: right;\">\n",
       "      <th></th>\n",
       "      <th>math score</th>\n",
       "      <th>reading score</th>\n",
       "      <th>writing score</th>\n",
       "      <th>race/ethnicity_group A</th>\n",
       "      <th>race/ethnicity_group B</th>\n",
       "      <th>race/ethnicity_group C</th>\n",
       "      <th>race/ethnicity_group D</th>\n",
       "      <th>race/ethnicity_group E</th>\n",
       "      <th>parental level of education_associate's degree</th>\n",
       "      <th>parental level of education_bachelor's degree</th>\n",
       "      <th>parental level of education_high school</th>\n",
       "      <th>parental level of education_master's degree</th>\n",
       "      <th>parental level of education_some college</th>\n",
       "      <th>parental level of education_some high school</th>\n",
       "      <th>lunch_free/reduced</th>\n",
       "      <th>lunch_standard</th>\n",
       "      <th>test preparation course_completed</th>\n",
       "      <th>test preparation course_none</th>\n",
       "    </tr>\n",
       "  </thead>\n",
       "  <tbody>\n",
       "    <tr>\n",
       "      <th>0</th>\n",
       "      <td>72</td>\n",
       "      <td>72</td>\n",
       "      <td>74</td>\n",
       "      <td>0</td>\n",
       "      <td>1</td>\n",
       "      <td>0</td>\n",
       "      <td>0</td>\n",
       "      <td>0</td>\n",
       "      <td>0</td>\n",
       "      <td>1</td>\n",
       "      <td>0</td>\n",
       "      <td>0</td>\n",
       "      <td>0</td>\n",
       "      <td>0</td>\n",
       "      <td>0</td>\n",
       "      <td>1</td>\n",
       "      <td>0</td>\n",
       "      <td>1</td>\n",
       "    </tr>\n",
       "    <tr>\n",
       "      <th>1</th>\n",
       "      <td>69</td>\n",
       "      <td>90</td>\n",
       "      <td>88</td>\n",
       "      <td>0</td>\n",
       "      <td>0</td>\n",
       "      <td>1</td>\n",
       "      <td>0</td>\n",
       "      <td>0</td>\n",
       "      <td>0</td>\n",
       "      <td>0</td>\n",
       "      <td>0</td>\n",
       "      <td>0</td>\n",
       "      <td>1</td>\n",
       "      <td>0</td>\n",
       "      <td>0</td>\n",
       "      <td>1</td>\n",
       "      <td>1</td>\n",
       "      <td>0</td>\n",
       "    </tr>\n",
       "    <tr>\n",
       "      <th>2</th>\n",
       "      <td>90</td>\n",
       "      <td>95</td>\n",
       "      <td>93</td>\n",
       "      <td>0</td>\n",
       "      <td>1</td>\n",
       "      <td>0</td>\n",
       "      <td>0</td>\n",
       "      <td>0</td>\n",
       "      <td>0</td>\n",
       "      <td>0</td>\n",
       "      <td>0</td>\n",
       "      <td>1</td>\n",
       "      <td>0</td>\n",
       "      <td>0</td>\n",
       "      <td>0</td>\n",
       "      <td>1</td>\n",
       "      <td>0</td>\n",
       "      <td>1</td>\n",
       "    </tr>\n",
       "    <tr>\n",
       "      <th>3</th>\n",
       "      <td>47</td>\n",
       "      <td>57</td>\n",
       "      <td>44</td>\n",
       "      <td>1</td>\n",
       "      <td>0</td>\n",
       "      <td>0</td>\n",
       "      <td>0</td>\n",
       "      <td>0</td>\n",
       "      <td>1</td>\n",
       "      <td>0</td>\n",
       "      <td>0</td>\n",
       "      <td>0</td>\n",
       "      <td>0</td>\n",
       "      <td>0</td>\n",
       "      <td>1</td>\n",
       "      <td>0</td>\n",
       "      <td>0</td>\n",
       "      <td>1</td>\n",
       "    </tr>\n",
       "    <tr>\n",
       "      <th>4</th>\n",
       "      <td>76</td>\n",
       "      <td>78</td>\n",
       "      <td>75</td>\n",
       "      <td>0</td>\n",
       "      <td>0</td>\n",
       "      <td>1</td>\n",
       "      <td>0</td>\n",
       "      <td>0</td>\n",
       "      <td>0</td>\n",
       "      <td>0</td>\n",
       "      <td>0</td>\n",
       "      <td>0</td>\n",
       "      <td>1</td>\n",
       "      <td>0</td>\n",
       "      <td>0</td>\n",
       "      <td>1</td>\n",
       "      <td>0</td>\n",
       "      <td>1</td>\n",
       "    </tr>\n",
       "  </tbody>\n",
       "</table>\n",
       "</div>"
      ],
      "text/plain": [
       "   math score  reading score  writing score  race/ethnicity_group A  \\\n",
       "0          72             72             74                       0   \n",
       "1          69             90             88                       0   \n",
       "2          90             95             93                       0   \n",
       "3          47             57             44                       1   \n",
       "4          76             78             75                       0   \n",
       "\n",
       "   race/ethnicity_group B  race/ethnicity_group C  race/ethnicity_group D  \\\n",
       "0                       1                       0                       0   \n",
       "1                       0                       1                       0   \n",
       "2                       1                       0                       0   \n",
       "3                       0                       0                       0   \n",
       "4                       0                       1                       0   \n",
       "\n",
       "   race/ethnicity_group E  parental level of education_associate's degree  \\\n",
       "0                       0                                               0   \n",
       "1                       0                                               0   \n",
       "2                       0                                               0   \n",
       "3                       0                                               1   \n",
       "4                       0                                               0   \n",
       "\n",
       "   parental level of education_bachelor's degree  \\\n",
       "0                                              1   \n",
       "1                                              0   \n",
       "2                                              0   \n",
       "3                                              0   \n",
       "4                                              0   \n",
       "\n",
       "   parental level of education_high school  \\\n",
       "0                                        0   \n",
       "1                                        0   \n",
       "2                                        0   \n",
       "3                                        0   \n",
       "4                                        0   \n",
       "\n",
       "   parental level of education_master's degree  \\\n",
       "0                                            0   \n",
       "1                                            0   \n",
       "2                                            1   \n",
       "3                                            0   \n",
       "4                                            0   \n",
       "\n",
       "   parental level of education_some college  \\\n",
       "0                                         0   \n",
       "1                                         1   \n",
       "2                                         0   \n",
       "3                                         0   \n",
       "4                                         1   \n",
       "\n",
       "   parental level of education_some high school  lunch_free/reduced  \\\n",
       "0                                             0                   0   \n",
       "1                                             0                   0   \n",
       "2                                             0                   0   \n",
       "3                                             0                   1   \n",
       "4                                             0                   0   \n",
       "\n",
       "   lunch_standard  test preparation course_completed  \\\n",
       "0               1                                  0   \n",
       "1               1                                  1   \n",
       "2               1                                  0   \n",
       "3               0                                  0   \n",
       "4               1                                  0   \n",
       "\n",
       "   test preparation course_none  \n",
       "0                             1  \n",
       "1                             0  \n",
       "2                             1  \n",
       "3                             1  \n",
       "4                             1  "
      ]
     },
     "execution_count": 34,
     "metadata": {},
     "output_type": "execute_result"
    }
   ],
   "source": [
    "x_encoded = pd.get_dummies(x,columns=[\"race/ethnicity\",\"parental level of education\",\"lunch\",\"test preparation course\"])\n",
    "x_encoded.head()"
   ]
  },
  {
   "cell_type": "markdown",
   "metadata": {
    "papermill": {
     "duration": 0.080522,
     "end_time": "2020-10-22T15:38:13.202845",
     "exception": false,
     "start_time": "2020-10-22T15:38:13.122323",
     "status": "completed"
    },
    "tags": []
   },
   "source": [
    "## X Normalization"
   ]
  },
  {
   "cell_type": "code",
   "execution_count": 35,
   "metadata": {
    "execution": {
     "iopub.execute_input": "2020-10-22T15:38:13.375674Z",
     "iopub.status.busy": "2020-10-22T15:38:13.373622Z",
     "iopub.status.idle": "2020-10-22T15:38:13.382812Z",
     "shell.execute_reply": "2020-10-22T15:38:13.382206Z"
    },
    "papermill": {
     "duration": 0.099651,
     "end_time": "2020-10-22T15:38:13.382933",
     "exception": false,
     "start_time": "2020-10-22T15:38:13.283282",
     "status": "completed"
    },
    "tags": []
   },
   "outputs": [
    {
     "data": {
      "text/plain": [
       "array([0.72      , 0.6626506 , 0.71111111, 0.        , 1.        ,\n",
       "       0.        , 0.        , 0.        , 0.        , 1.        ,\n",
       "       0.        , 0.        , 0.        , 0.        , 0.        ,\n",
       "       1.        , 0.        , 1.        ])"
      ]
     },
     "execution_count": 35,
     "metadata": {},
     "output_type": "execute_result"
    }
   ],
   "source": [
    "from sklearn.preprocessing import MinMaxScaler\n",
    "\n",
    "scaler = MinMaxScaler(feature_range=(0,1))\n",
    "\n",
    "x_scaled = scaler.fit_transform(x_encoded)\n",
    "x_scaled[0]"
   ]
  },
  {
   "cell_type": "code",
   "execution_count": 36,
   "metadata": {
    "execution": {
     "iopub.execute_input": "2020-10-22T15:38:13.558124Z",
     "iopub.status.busy": "2020-10-22T15:38:13.557053Z",
     "iopub.status.idle": "2020-10-22T15:38:13.561691Z",
     "shell.execute_reply": "2020-10-22T15:38:13.561050Z"
    },
    "papermill": {
     "duration": 0.0935,
     "end_time": "2020-10-22T15:38:13.561818",
     "exception": false,
     "start_time": "2020-10-22T15:38:13.468318",
     "status": "completed"
    },
    "tags": []
   },
   "outputs": [
    {
     "data": {
      "text/plain": [
       "(1000, 18)"
      ]
     },
     "execution_count": 36,
     "metadata": {},
     "output_type": "execute_result"
    }
   ],
   "source": [
    "x_scaled.shape"
   ]
  },
  {
   "cell_type": "code",
   "execution_count": 37,
   "metadata": {
    "execution": {
     "iopub.execute_input": "2020-10-22T15:38:13.842235Z",
     "iopub.status.busy": "2020-10-22T15:38:13.841361Z",
     "iopub.status.idle": "2020-10-22T15:38:13.846771Z",
     "shell.execute_reply": "2020-10-22T15:38:13.846173Z"
    },
    "papermill": {
     "duration": 0.203606,
     "end_time": "2020-10-22T15:38:13.846900",
     "exception": false,
     "start_time": "2020-10-22T15:38:13.643294",
     "status": "completed"
    },
    "tags": []
   },
   "outputs": [
    {
     "name": "stdout",
     "output_type": "stream",
     "text": [
      "(800, 18)\n",
      "(200, 18)\n",
      "(800,)\n",
      "(200,)\n"
     ]
    }
   ],
   "source": [
    "x_train,x_test,y_train,y_test = train_test_split(x_scaled,y,test_size=0.2,random_state=1)\n",
    "print(x_train.shape)\n",
    "print(x_test.shape)\n",
    "print(y_train.shape)\n",
    "print(y_test.shape)"
   ]
  },
  {
   "cell_type": "markdown",
   "metadata": {
    "papermill": {
     "duration": 0.082313,
     "end_time": "2020-10-22T15:38:14.012891",
     "exception": false,
     "start_time": "2020-10-22T15:38:13.930578",
     "status": "completed"
    },
    "tags": []
   },
   "source": [
    "# Building Model Using Pytorch\n",
    "\n",
    "Our data is ready, so in this section We are going to build a simple ANN model using pytorch. I know, I can use traditional machine learning algorithms for processing this data, but I will use pytorch for exercising. \n",
    "\n",
    "We'll use a simple model like that:\n",
    "\n",
    "1. Input Layer\n",
    "1. Hidden Layer 1\n",
    "1. Output Layer\n",
    "\n",
    "And I will use Adam as optimizer and Cross Entropy as loss."
   ]
  },
  {
   "cell_type": "code",
   "execution_count": 38,
   "metadata": {
    "execution": {
     "iopub.execute_input": "2020-10-22T15:38:14.190519Z",
     "iopub.status.busy": "2020-10-22T15:38:14.187161Z",
     "iopub.status.idle": "2020-10-22T15:38:14.220771Z",
     "shell.execute_reply": "2020-10-22T15:38:14.220011Z"
    },
    "papermill": {
     "duration": 0.1253,
     "end_time": "2020-10-22T15:38:14.220893",
     "exception": false,
     "start_time": "2020-10-22T15:38:14.095593",
     "status": "completed"
    },
    "tags": []
   },
   "outputs": [],
   "source": [
    "class ANN(nn.Module):\n",
    "    \n",
    "    def __init__(self):\n",
    "        \n",
    "        super(ANN,self).__init__()\n",
    "        \n",
    "        # Linear function 1\n",
    "        self.linear1 = nn.Linear(18,10) # 18 to 10\n",
    "        self.tanh1 = nn.Tanh()\n",
    "        \n",
    "        # Linear function 2\n",
    "        self.linear2 = nn.Linear(10,6) # 10 to 6\n",
    "        self.tanh2 = nn.Tanh()\n",
    "        \n",
    "        # Linear function 3\n",
    "        self.linear3 = nn.Linear(6,2) # 6 to output\n",
    "        \n",
    "    \n",
    "    def forward(self,x):\n",
    "        \n",
    "        out = self.linear1(x)\n",
    "        out = self.tanh1(out)\n",
    "        \n",
    "        out = self.linear2(out)\n",
    "        out = self.tanh2(out)\n",
    "        \n",
    "        out = self.linear3(out)\n",
    "        return out\n",
    "    \n",
    "\n",
    "model = ANN()\n",
    "optimizer = torch.optim.Adam(model.parameters(),lr=0.01)\n",
    "error = nn.CrossEntropyLoss()"
   ]
  },
  {
   "cell_type": "markdown",
   "metadata": {
    "papermill": {
     "duration": 0.083597,
     "end_time": "2020-10-22T15:38:14.387452",
     "exception": false,
     "start_time": "2020-10-22T15:38:14.303855",
     "status": "completed"
    },
    "tags": []
   },
   "source": [
    "# Fitting Model Using Pytorch\n",
    "\n",
    "Our frame of model is ready, and now let's train it."
   ]
  },
  {
   "cell_type": "code",
   "execution_count": 39,
   "metadata": {
    "execution": {
     "iopub.execute_input": "2020-10-22T15:38:14.558440Z",
     "iopub.status.busy": "2020-10-22T15:38:14.557726Z",
     "iopub.status.idle": "2020-10-22T15:38:14.571638Z",
     "shell.execute_reply": "2020-10-22T15:38:14.570989Z"
    },
    "papermill": {
     "duration": 0.101758,
     "end_time": "2020-10-22T15:38:14.571762",
     "exception": false,
     "start_time": "2020-10-22T15:38:14.470004",
     "status": "completed"
    },
    "tags": []
   },
   "outputs": [],
   "source": [
    "# But before fitting, we must convert numpy arrays into torch tensors\n",
    "\n",
    "x_train = torch.Tensor(x_train)\n",
    "x_test = torch.Tensor(x_test)\n",
    "y_train = torch.Tensor(y_train).type(torch.LongTensor)"
   ]
  },
  {
   "cell_type": "code",
   "execution_count": 40,
   "metadata": {
    "execution": {
     "iopub.execute_input": "2020-10-22T15:38:14.746070Z",
     "iopub.status.busy": "2020-10-22T15:38:14.745219Z",
     "iopub.status.idle": "2020-10-22T15:38:15.115108Z",
     "shell.execute_reply": "2020-10-22T15:38:15.114228Z"
    },
    "papermill": {
     "duration": 0.460701,
     "end_time": "2020-10-22T15:38:15.115247",
     "exception": false,
     "start_time": "2020-10-22T15:38:14.654546",
     "status": "completed"
    },
    "tags": []
   },
   "outputs": [
    {
     "name": "stdout",
     "output_type": "stream",
     "text": [
      "Cost after iteration 0 is 0.7269741296768188\n",
      "Cost after iteration 50 is 0.5415034294128418\n",
      "Cost after iteration 100 is 0.22865648567676544\n",
      "Cost after iteration 150 is 0.20205795764923096\n"
     ]
    }
   ],
   "source": [
    "epochs = 200\n",
    "for epoch in range(epochs):\n",
    "    \n",
    "    # Clearing gradients\n",
    "    optimizer.zero_grad()\n",
    "    \n",
    "    # Forward propagation\n",
    "    outs = model(x_train)\n",
    "    \n",
    "    # Computing loss\n",
    "    loss = error(outs,y_train)\n",
    "    \n",
    "    # Backward propagation\n",
    "    loss.backward()\n",
    "    \n",
    "    # Updating parameters\n",
    "    optimizer.step()\n",
    "    \n",
    "    if epoch%50 == 0:\n",
    "        print(f\"Cost after iteration {epoch} is {loss}\")"
   ]
  },
  {
   "cell_type": "markdown",
   "metadata": {
    "papermill": {
     "duration": 0.083542,
     "end_time": "2020-10-22T15:38:15.285824",
     "exception": false,
     "start_time": "2020-10-22T15:38:15.202282",
     "status": "completed"
    },
    "tags": []
   },
   "source": [
    "# Evaulating Results\n",
    "\n",
    "We trained our model in previous section. And now in this section we will predict x_test and after that we will evaulete the results."
   ]
  },
  {
   "cell_type": "code",
   "execution_count": 41,
   "metadata": {
    "execution": {
     "iopub.execute_input": "2020-10-22T15:38:15.462733Z",
     "iopub.status.busy": "2020-10-22T15:38:15.461942Z",
     "iopub.status.idle": "2020-10-22T15:38:15.496658Z",
     "shell.execute_reply": "2020-10-22T15:38:15.496054Z"
    },
    "papermill": {
     "duration": 0.125673,
     "end_time": "2020-10-22T15:38:15.496781",
     "exception": false,
     "start_time": "2020-10-22T15:38:15.371108",
     "status": "completed"
    },
    "tags": []
   },
   "outputs": [
    {
     "name": "stdout",
     "output_type": "stream",
     "text": [
      "tensor([ 0.5169, -0.4599], grad_fn=<SelectBackward>)\n",
      "tensor(0)\n",
      "Accuracy of model is  0.92\n"
     ]
    }
   ],
   "source": [
    "from sklearn.metrics import accuracy_score\n",
    "# Predicting \n",
    "y_head = model(x_test)\n",
    "print(y_head[0])\n",
    "\n",
    "\n",
    "# Converting predictions into labels\n",
    "y_pred = torch.max(y_head,-1)[1]\n",
    "print(y_pred[0])\n",
    "\n",
    "print(\"Accuracy of model is \",accuracy_score(y_pred,y_test))"
   ]
  },
  {
   "cell_type": "markdown",
   "metadata": {
    "papermill": {
     "duration": 0.083608,
     "end_time": "2020-10-22T15:38:15.664621",
     "exception": false,
     "start_time": "2020-10-22T15:38:15.581013",
     "status": "completed"
    },
    "tags": []
   },
   "source": [
    "# Conclusion\n",
    "\n",
    "Thanks for your attention, if you have any questions in your mind, please ask. "
   ]
  }
 ],
 "metadata": {
  "kernelspec": {
   "display_name": "Python 3",
   "language": "python",
   "name": "python3"
  },
  "language_info": {
   "codemirror_mode": {
    "name": "ipython",
    "version": 3
   },
   "file_extension": ".py",
   "mimetype": "text/x-python",
   "name": "python",
   "nbconvert_exporter": "python",
   "pygments_lexer": "ipython3",
   "version": "3.7.6"
  },
  "papermill": {
   "duration": 24.247373,
   "end_time": "2020-10-22T15:38:15.857726",
   "environment_variables": {},
   "exception": null,
   "input_path": "__notebook__.ipynb",
   "output_path": "__notebook__.ipynb",
   "parameters": {},
   "start_time": "2020-10-22T15:37:51.610353",
   "version": "2.1.0"
  }
 },
 "nbformat": 4,
 "nbformat_minor": 4
}
